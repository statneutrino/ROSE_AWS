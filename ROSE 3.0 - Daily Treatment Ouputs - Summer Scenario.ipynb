{
 "cells": [
  {
   "cell_type": "code",
   "execution_count": 1,
   "metadata": {},
   "outputs": [
    {
     "data": {
      "text/html": [
       "<script>requirejs.config({paths: { 'plotly': ['https://cdn.plot.ly/plotly-latest.min']},});if(!window.Plotly) {{require(['plotly'],function(plotly) {window.Plotly=plotly;});}}</script>"
      ],
      "text/vnd.plotly.v1+html": [
       "<script>requirejs.config({paths: { 'plotly': ['https://cdn.plot.ly/plotly-latest.min']},});if(!window.Plotly) {{require(['plotly'],function(plotly) {window.Plotly=plotly;});}}</script>"
      ]
     },
     "metadata": {},
     "output_type": "display_data"
    },
    {
     "ename": "FileNotFoundError",
     "evalue": "File b'CorrectInputData/InputData/CSVs/ReservoirCapacities.csv' does not exist",
     "output_type": "error",
     "traceback": [
      "\u001b[1;31m---------------------------------------------------------------------------\u001b[0m",
      "\u001b[1;31mFileNotFoundError\u001b[0m                         Traceback (most recent call last)",
      "\u001b[1;32m<ipython-input-1-22b45fcd1b5f>\u001b[0m in \u001b[0;36m<module>\u001b[1;34m()\u001b[0m\n\u001b[0;32m     51\u001b[0m \u001b[0mtransfer_matrix\u001b[0m \u001b[1;33m=\u001b[0m \u001b[0mpd\u001b[0m\u001b[1;33m.\u001b[0m\u001b[0mread_csv\u001b[0m\u001b[1;33m(\u001b[0m\u001b[0mtransfer_matrix_file\u001b[0m\u001b[1;33m)\u001b[0m\u001b[1;33m\u001b[0m\u001b[0m\n\u001b[0;32m     52\u001b[0m \u001b[0mtransfer_matrix\u001b[0m\u001b[1;33m.\u001b[0m\u001b[0mset_index\u001b[0m\u001b[1;33m(\u001b[0m\u001b[0mtransfer_matrix\u001b[0m\u001b[1;33m.\u001b[0m\u001b[0mcolumns\u001b[0m\u001b[1;33m[\u001b[0m\u001b[1;36m0\u001b[0m\u001b[1;33m]\u001b[0m\u001b[1;33m,\u001b[0m\u001b[0minplace\u001b[0m\u001b[1;33m=\u001b[0m\u001b[1;32mTrue\u001b[0m\u001b[1;33m)\u001b[0m\u001b[1;33m\u001b[0m\u001b[0m\n\u001b[1;32m---> 53\u001b[1;33m \u001b[0mreservoir_capacities\u001b[0m \u001b[1;33m=\u001b[0m \u001b[0mpd\u001b[0m\u001b[1;33m.\u001b[0m\u001b[0mread_csv\u001b[0m\u001b[1;33m(\u001b[0m\u001b[0mreservoir_capacities_file\u001b[0m\u001b[1;33m)\u001b[0m\u001b[1;33m\u001b[0m\u001b[0m\n\u001b[0m\u001b[0;32m     54\u001b[0m \u001b[0mreservoir_capacities\u001b[0m\u001b[1;33m.\u001b[0m\u001b[0mset_index\u001b[0m\u001b[1;33m(\u001b[0m\u001b[0mreservoir_capacities\u001b[0m\u001b[1;33m.\u001b[0m\u001b[0mcolumns\u001b[0m\u001b[1;33m[\u001b[0m\u001b[1;36m0\u001b[0m\u001b[1;33m]\u001b[0m\u001b[1;33m,\u001b[0m\u001b[0minplace\u001b[0m\u001b[1;33m=\u001b[0m\u001b[1;32mTrue\u001b[0m\u001b[1;33m)\u001b[0m\u001b[1;33m\u001b[0m\u001b[0m\n\u001b[0;32m     55\u001b[0m \u001b[0msoftlow_level\u001b[0m \u001b[1;33m=\u001b[0m \u001b[0mdesirable_levels\u001b[0m\u001b[1;33m[\u001b[0m\u001b[1;36m0\u001b[0m\u001b[1;33m]\u001b[0m\u001b[1;33m*\u001b[0m\u001b[0mreservoir_capacities\u001b[0m\u001b[1;33m\u001b[0m\u001b[0m\n",
      "\u001b[1;32m~\\Anaconda3\\lib\\site-packages\\pandas\\io\\parsers.py\u001b[0m in \u001b[0;36mparser_f\u001b[1;34m(filepath_or_buffer, sep, delimiter, header, names, index_col, usecols, squeeze, prefix, mangle_dupe_cols, dtype, engine, converters, true_values, false_values, skipinitialspace, skiprows, nrows, na_values, keep_default_na, na_filter, verbose, skip_blank_lines, parse_dates, infer_datetime_format, keep_date_col, date_parser, dayfirst, iterator, chunksize, compression, thousands, decimal, lineterminator, quotechar, quoting, escapechar, comment, encoding, dialect, tupleize_cols, error_bad_lines, warn_bad_lines, skipfooter, doublequote, delim_whitespace, low_memory, memory_map, float_precision)\u001b[0m\n\u001b[0;32m    676\u001b[0m                     skip_blank_lines=skip_blank_lines)\n\u001b[0;32m    677\u001b[0m \u001b[1;33m\u001b[0m\u001b[0m\n\u001b[1;32m--> 678\u001b[1;33m         \u001b[1;32mreturn\u001b[0m \u001b[0m_read\u001b[0m\u001b[1;33m(\u001b[0m\u001b[0mfilepath_or_buffer\u001b[0m\u001b[1;33m,\u001b[0m \u001b[0mkwds\u001b[0m\u001b[1;33m)\u001b[0m\u001b[1;33m\u001b[0m\u001b[0m\n\u001b[0m\u001b[0;32m    679\u001b[0m \u001b[1;33m\u001b[0m\u001b[0m\n\u001b[0;32m    680\u001b[0m     \u001b[0mparser_f\u001b[0m\u001b[1;33m.\u001b[0m\u001b[0m__name__\u001b[0m \u001b[1;33m=\u001b[0m \u001b[0mname\u001b[0m\u001b[1;33m\u001b[0m\u001b[0m\n",
      "\u001b[1;32m~\\Anaconda3\\lib\\site-packages\\pandas\\io\\parsers.py\u001b[0m in \u001b[0;36m_read\u001b[1;34m(filepath_or_buffer, kwds)\u001b[0m\n\u001b[0;32m    438\u001b[0m \u001b[1;33m\u001b[0m\u001b[0m\n\u001b[0;32m    439\u001b[0m     \u001b[1;31m# Create the parser.\u001b[0m\u001b[1;33m\u001b[0m\u001b[1;33m\u001b[0m\u001b[0m\n\u001b[1;32m--> 440\u001b[1;33m     \u001b[0mparser\u001b[0m \u001b[1;33m=\u001b[0m \u001b[0mTextFileReader\u001b[0m\u001b[1;33m(\u001b[0m\u001b[0mfilepath_or_buffer\u001b[0m\u001b[1;33m,\u001b[0m \u001b[1;33m**\u001b[0m\u001b[0mkwds\u001b[0m\u001b[1;33m)\u001b[0m\u001b[1;33m\u001b[0m\u001b[0m\n\u001b[0m\u001b[0;32m    441\u001b[0m \u001b[1;33m\u001b[0m\u001b[0m\n\u001b[0;32m    442\u001b[0m     \u001b[1;32mif\u001b[0m \u001b[0mchunksize\u001b[0m \u001b[1;32mor\u001b[0m \u001b[0miterator\u001b[0m\u001b[1;33m:\u001b[0m\u001b[1;33m\u001b[0m\u001b[0m\n",
      "\u001b[1;32m~\\Anaconda3\\lib\\site-packages\\pandas\\io\\parsers.py\u001b[0m in \u001b[0;36m__init__\u001b[1;34m(self, f, engine, **kwds)\u001b[0m\n\u001b[0;32m    785\u001b[0m             \u001b[0mself\u001b[0m\u001b[1;33m.\u001b[0m\u001b[0moptions\u001b[0m\u001b[1;33m[\u001b[0m\u001b[1;34m'has_index_names'\u001b[0m\u001b[1;33m]\u001b[0m \u001b[1;33m=\u001b[0m \u001b[0mkwds\u001b[0m\u001b[1;33m[\u001b[0m\u001b[1;34m'has_index_names'\u001b[0m\u001b[1;33m]\u001b[0m\u001b[1;33m\u001b[0m\u001b[0m\n\u001b[0;32m    786\u001b[0m \u001b[1;33m\u001b[0m\u001b[0m\n\u001b[1;32m--> 787\u001b[1;33m         \u001b[0mself\u001b[0m\u001b[1;33m.\u001b[0m\u001b[0m_make_engine\u001b[0m\u001b[1;33m(\u001b[0m\u001b[0mself\u001b[0m\u001b[1;33m.\u001b[0m\u001b[0mengine\u001b[0m\u001b[1;33m)\u001b[0m\u001b[1;33m\u001b[0m\u001b[0m\n\u001b[0m\u001b[0;32m    788\u001b[0m \u001b[1;33m\u001b[0m\u001b[0m\n\u001b[0;32m    789\u001b[0m     \u001b[1;32mdef\u001b[0m \u001b[0mclose\u001b[0m\u001b[1;33m(\u001b[0m\u001b[0mself\u001b[0m\u001b[1;33m)\u001b[0m\u001b[1;33m:\u001b[0m\u001b[1;33m\u001b[0m\u001b[0m\n",
      "\u001b[1;32m~\\Anaconda3\\lib\\site-packages\\pandas\\io\\parsers.py\u001b[0m in \u001b[0;36m_make_engine\u001b[1;34m(self, engine)\u001b[0m\n\u001b[0;32m   1012\u001b[0m     \u001b[1;32mdef\u001b[0m \u001b[0m_make_engine\u001b[0m\u001b[1;33m(\u001b[0m\u001b[0mself\u001b[0m\u001b[1;33m,\u001b[0m \u001b[0mengine\u001b[0m\u001b[1;33m=\u001b[0m\u001b[1;34m'c'\u001b[0m\u001b[1;33m)\u001b[0m\u001b[1;33m:\u001b[0m\u001b[1;33m\u001b[0m\u001b[0m\n\u001b[0;32m   1013\u001b[0m         \u001b[1;32mif\u001b[0m \u001b[0mengine\u001b[0m \u001b[1;33m==\u001b[0m \u001b[1;34m'c'\u001b[0m\u001b[1;33m:\u001b[0m\u001b[1;33m\u001b[0m\u001b[0m\n\u001b[1;32m-> 1014\u001b[1;33m             \u001b[0mself\u001b[0m\u001b[1;33m.\u001b[0m\u001b[0m_engine\u001b[0m \u001b[1;33m=\u001b[0m \u001b[0mCParserWrapper\u001b[0m\u001b[1;33m(\u001b[0m\u001b[0mself\u001b[0m\u001b[1;33m.\u001b[0m\u001b[0mf\u001b[0m\u001b[1;33m,\u001b[0m \u001b[1;33m**\u001b[0m\u001b[0mself\u001b[0m\u001b[1;33m.\u001b[0m\u001b[0moptions\u001b[0m\u001b[1;33m)\u001b[0m\u001b[1;33m\u001b[0m\u001b[0m\n\u001b[0m\u001b[0;32m   1015\u001b[0m         \u001b[1;32melse\u001b[0m\u001b[1;33m:\u001b[0m\u001b[1;33m\u001b[0m\u001b[0m\n\u001b[0;32m   1016\u001b[0m             \u001b[1;32mif\u001b[0m \u001b[0mengine\u001b[0m \u001b[1;33m==\u001b[0m \u001b[1;34m'python'\u001b[0m\u001b[1;33m:\u001b[0m\u001b[1;33m\u001b[0m\u001b[0m\n",
      "\u001b[1;32m~\\Anaconda3\\lib\\site-packages\\pandas\\io\\parsers.py\u001b[0m in \u001b[0;36m__init__\u001b[1;34m(self, src, **kwds)\u001b[0m\n\u001b[0;32m   1706\u001b[0m         \u001b[0mkwds\u001b[0m\u001b[1;33m[\u001b[0m\u001b[1;34m'usecols'\u001b[0m\u001b[1;33m]\u001b[0m \u001b[1;33m=\u001b[0m \u001b[0mself\u001b[0m\u001b[1;33m.\u001b[0m\u001b[0musecols\u001b[0m\u001b[1;33m\u001b[0m\u001b[0m\n\u001b[0;32m   1707\u001b[0m \u001b[1;33m\u001b[0m\u001b[0m\n\u001b[1;32m-> 1708\u001b[1;33m         \u001b[0mself\u001b[0m\u001b[1;33m.\u001b[0m\u001b[0m_reader\u001b[0m \u001b[1;33m=\u001b[0m \u001b[0mparsers\u001b[0m\u001b[1;33m.\u001b[0m\u001b[0mTextReader\u001b[0m\u001b[1;33m(\u001b[0m\u001b[0msrc\u001b[0m\u001b[1;33m,\u001b[0m \u001b[1;33m**\u001b[0m\u001b[0mkwds\u001b[0m\u001b[1;33m)\u001b[0m\u001b[1;33m\u001b[0m\u001b[0m\n\u001b[0m\u001b[0;32m   1709\u001b[0m \u001b[1;33m\u001b[0m\u001b[0m\n\u001b[0;32m   1710\u001b[0m         \u001b[0mpassed_names\u001b[0m \u001b[1;33m=\u001b[0m \u001b[0mself\u001b[0m\u001b[1;33m.\u001b[0m\u001b[0mnames\u001b[0m \u001b[1;32mis\u001b[0m \u001b[1;32mNone\u001b[0m\u001b[1;33m\u001b[0m\u001b[0m\n",
      "\u001b[1;32mpandas\\_libs\\parsers.pyx\u001b[0m in \u001b[0;36mpandas._libs.parsers.TextReader.__cinit__\u001b[1;34m()\u001b[0m\n",
      "\u001b[1;32mpandas\\_libs\\parsers.pyx\u001b[0m in \u001b[0;36mpandas._libs.parsers.TextReader._setup_parser_source\u001b[1;34m()\u001b[0m\n",
      "\u001b[1;31mFileNotFoundError\u001b[0m: File b'CorrectInputData/InputData/CSVs/ReservoirCapacities.csv' does not exist"
     ]
    }
   ],
   "source": [
    "#############################################################################\n",
    "################### Working version 2-10-2018 ###############################\n",
    "#############################################################################\n",
    "\n",
    "import numpy as np\n",
    "import pandas as pd\n",
    "from pyomo.environ import *\n",
    "import plotly.graph_objs as go\n",
    "from plotly import __version__\n",
    "from plotly.offline import download_plotlyjs, init_notebook_mode, plot, iplot\n",
    "import plotly.plotly as py\n",
    "import plotly.figure_factory as ff\n",
    "import plotly.graph_objs as go\n",
    "import colorlover as cl\n",
    "from plotly import tools\n",
    "import plotly.offline as py\n",
    "import os\n",
    "\n",
    "from IPython.display import HTML\n",
    "\n",
    "init_notebook_mode(connected=True)\n",
    "\n",
    "############################ Settings #####################################\n",
    "\n",
    "# setting up desirable levels [low, high] (fraction)\n",
    "desirable_levels = [0.7, 0.8]\n",
    "\n",
    "# Setting Switch and Level Weights\n",
    "switch_weight = 1\n",
    "level_weight = 100 \n",
    "# maxlevel_weight = 100 \n",
    "\n",
    "# Setting time horizon\n",
    "number_of_periods = 20\n",
    "\n",
    "###########################################################################\n",
    "\n",
    "\n",
    "# Reading in data \n",
    "path = 'CorrectInputData/InputData/CSVs/'                                                            \n",
    "transfer_matrix_file = 'TransferMatrixSCENARIOS.csv'\n",
    "reservoir_capacities_file = 'ReservoirCapacities.csv'\n",
    "start_level_file = 'StartLevel.csv'\n",
    "treatment_outputs_file = 'TreatmentOutputs_Summer_Daily.csv'\n",
    "demand_file_path = 'Demand_Summer.xlsx'\n",
    "time_list = np.arange(1, number_of_periods+1, 1)\n",
    "\n",
    "# competing_pumps_file = path+'CompetingPumps.csv'\n",
    "\n",
    "#reading in csvs and setting index\n",
    "transfer_matrix = pd.read_csv(transfer_matrix_file)\n",
    "transfer_matrix.set_index(transfer_matrix.columns[0],inplace=True)\n",
    "reservoir_capacities = pd.read_csv(reservoir_capacities_file)\n",
    "reservoir_capacities.set_index(reservoir_capacities.columns[0],inplace=True)\n",
    "softlow_level = desirable_levels[0]*reservoir_capacities\n",
    "softmax_level = desirable_levels[1]*reservoir_capacities\n",
    "hardlow_level = 0.01*reservoir_capacities\n",
    "hardmax_level = reservoir_capacities\n",
    "start_level = pd.read_csv(start_level_file)\n",
    "start_level.set_index(start_level.columns[0],inplace=True)\n",
    "treatment_outputs = pd.read_csv(treatment_outputs_file)\n",
    "treatment_outputs.set_index(treatment_outputs.columns[0],inplace=True)"
   ]
  },
  {
   "cell_type": "code",
   "execution_count": 2,
   "metadata": {},
   "outputs": [],
   "source": [
    "# Defining treatment works and service reservoirs \n",
    "all_nodes = transfer_matrix.index.values\n",
    "TW_amount = 8 # amount of treatment works\n",
    "treatment_works = all_nodes[:TW_amount]\n",
    "service_reservoirs = all_nodes[TW_amount:]\n",
    "connection_list_check = []\n",
    "connection_list = []\n",
    "discr_pump_rate_dict = dict()\n",
    "var_pump_max_output_dict = dict()\n",
    "\n",
    "# # create lists of disc/var pumps\n",
    "\n",
    "disc_pump_list = []\n",
    "var_pump_list = []\n",
    "comp_pumps_list =[]\n",
    "\n",
    "for i in transfer_matrix.columns:\n",
    "    for j in transfer_matrix.columns:\n",
    "        if \"|\" in str(transfer_matrix[i][j]): \n",
    "            connection_list.append(f\"{i}\")\n",
    "            connection_list.append(f\"{j}\")   \n",
    "            connection_list_check.append(f\"{i} {j}\")\n",
    "            # Read from transfer matrix per entry 0/1,value where 0/1 indicates\n",
    "            # if a discrete pump is used, and value either the discrete pump rate \n",
    "            # or if variable speed pump the maximum pump flow \n",
    "            discr_pump, pump_value = transfer_matrix[i][j].split(\"|\")\n",
    "            if discr_pump == \"1\": \n",
    "                discr_pump_rate_dict[(i,j)] = float(pump_value)                     # why not float?\n",
    "                var_pump_max_output_dict[(i,j)] = '0'\n",
    "                disc_pump_list.append(f\"{i}\")\n",
    "                disc_pump_list.append(f\"{j}\")\n",
    "            else:\n",
    "                discr_pump_rate_dict[(i,j)] = '0'\n",
    "                var_pump_max_output_dict[(i,j)] = float(pump_value)                     # why not float?\n",
    "                var_pump_list.append(f\"{i}\")\n",
    "                var_pump_list.append(f\"{j}\")"
   ]
  },
  {
   "cell_type": "code",
   "execution_count": 3,
   "metadata": {},
   "outputs": [
    {
     "data": {
      "text/plain": [
       "array(['Cockhaise', 'ForestRow', 'WeirWood', 'ArdinglyShellbrook',\n",
       "       'Barcombe1', 'Barcombe2', 'Groombridge', 'CogginsMill'],\n",
       "      dtype=object)"
      ]
     },
     "execution_count": 3,
     "metadata": {},
     "output_type": "execute_result"
    }
   ],
   "source": [
    "treatment_works"
   ]
  },
  {
   "cell_type": "code",
   "execution_count": 4,
   "metadata": {},
   "outputs": [],
   "source": [
    "#Pyomo stuff \n",
    "model = AbstractModel()\n",
    "\n",
    "# Not sure if this is the best way of doing this, probably not, but couldn't figure out an easier \n",
    "# way this quickly (PT = possible transfers, in dataset to be filled with possible transfers) \n",
    "# service reservoirs\n",
    "model.SR = Set() \n",
    "# treatment works\n",
    "model.TW = Set()\n",
    "# All nodes are a union of the treatment works and the service reservoirs \n",
    "model.Nodes = model.SR|model.TW \n",
    "# Connections are an empty set with dimension 2 \n",
    "model.Connections = Set(dimen=2)\n",
    "# Time dimension\n",
    "model.time = Set()\n",
    "model.state = Set()\n",
    "\n",
    "\n",
    "# define pumps list\n",
    "model.Pumps_disc = Set(dimen=2, within=model.Connections)\n",
    "model.Pumps_var = Set(dimen=2, within=model.Connections)\n",
    "\n",
    "# defining decision variable \"Flow\"\n",
    "model.VarFlow = Var(model.Connections, model.time, domain=NonNegativeReals)\n",
    "model.DiscrFlow = Var(model.Connections, model.time, domain=NonNegativeIntegers, bounds=(0,1))\n",
    "\n",
    "# defining if the node is an input or an output \n",
    "def NodesOutVar_init(model, node):\n",
    "    retval = []\n",
    "    for (i,j) in model.Connections:\n",
    "        if i == node and (i,j) in model.Pumps_var:\n",
    "            retval.append(j)\n",
    "    return retval\n",
    "model.NodesOut_Var = Set(model.Nodes, initialize=NodesOutVar_init)\n",
    "\n",
    "def NodesInVar_init(model, node):\n",
    "    retval = []\n",
    "    for (i,j) in model.Connections:\n",
    "        if j == node and (i,j) in model.Pumps_var:\n",
    "            retval.append(i)\n",
    "    return retval\n",
    "model.NodesIn_Var = Set(model.Nodes, initialize=NodesInVar_init)\n",
    "\n",
    "# defining if the node is an input or an output \n",
    "def NodesOutDisc_init(model, node):\n",
    "    retval = []\n",
    "    for (i,j) in model.Connections:\n",
    "        if i == node and (i,j) in model.Pumps_disc:\n",
    "            retval.append(j)\n",
    "    return retval\n",
    "model.NodesOut_Disc = Set(model.Nodes, initialize=NodesOutDisc_init)\n",
    "\n",
    "def NodesInDisc_init(model, node):\n",
    "    retval = []\n",
    "    for (i,j) in model.Connections:\n",
    "        if j == node and (i,j) in model.Pumps_disc:\n",
    "            retval.append(i)\n",
    "    return retval\n",
    "model.NodesIn_Disc = Set(model.Nodes, initialize=NodesInDisc_init)\n",
    "\n",
    "model.LevelSlackVar = Var(model.SR,model.time, domain=NonNegativeReals)\n",
    "model.SwitchSlackVar1 = Var(model.Connections, model.time, domain=NonNegativeReals)\n",
    "model.SwitchSlackVar2 = Var(model.Connections, model.time, domain=NonNegativeReals)\n",
    "model.SwitchSlackDisc1 = Var(model.Connections, model.time, domain=NonNegativeReals)\n",
    "model.SwitchSlackDisc2 = Var(model.Connections, model.time, domain=NonNegativeReals)\n",
    "\n",
    "# demand for each SR\n",
    "model.demand = Param(model.SR, model.time, within=NonNegativeReals)\n",
    "# hard capacity for each SR\n",
    "model.hardmax_level = Param(model.SR, within=NonNegativeReals)\n",
    "# hard criticality level for each SR\n",
    "model.hardmin_level = Param(model.SR, within=NonNegativeReals)\n",
    "# soft capacity for each SR\n",
    "model.softmax_level = Param(model.SR, within=NonNegativeReals)\n",
    "# criticality level for each SR\n",
    "model.softmin_level = Param(model.SR, within=NonNegativeReals)\n",
    "# storage level for each SR\n",
    "model.start_level = Param(model.SR, within=NonNegativeReals)\n",
    "# output level for each TW\n",
    "model.tw_output = Param(model.TW, within=NonNegativeReals, mutable=True)\n",
    "# discrete pump rate \n",
    "model.discr_pump_rate = Param(model.Connections, domain=NonNegativeReals, mutable=True, default=0)\n",
    "# max pump output \n",
    "model.var_pump_max_output = Param(model.Connections, domain=NonNegativeReals, mutable=True, default=0)"
   ]
  },
  {
   "cell_type": "code",
   "execution_count": 5,
   "metadata": {},
   "outputs": [],
   "source": [
    "def switch_and_level_objective(model): \n",
    "    return (switch_weight*sum(sum(model.SwitchSlackVar1[i, j, t] for i,j in model.Connections) for t in model.time) \n",
    "        + switch_weight*sum(sum(model.SwitchSlackVar2[i, j, t] for i,j in model.Connections) for t in model.time)\n",
    "        + switch_weight*sum(sum(model.SwitchSlackDisc1[i, j, t] for i,j in model.Connections) for t in model.time)\n",
    "        + switch_weight*sum(sum(model.SwitchSlackDisc2[i, j, t] for i,j in model.Connections) for t in model.time)\n",
    "        + level_weight*sum(sum(model.LevelSlackVar[node, t] for t in model.time) for node in model.SR))\n",
    "\n",
    "model.switch_and_level_objective = Objective(rule=switch_and_level_objective, sense = minimize)"
   ]
  },
  {
   "cell_type": "code",
   "execution_count": 6,
   "metadata": {},
   "outputs": [],
   "source": [
    "def sr_rule_softmin(model, node, t):\n",
    "    return(model.softmin_level[node], \n",
    "           model.start_level[node] \n",
    "           +sum(\n",
    "               sum(model.VarFlow[i, node, x] for i in model.NodesIn_Var[node])\n",
    "               -sum(model.VarFlow[node, j, x] for j in model.NodesOut_Var[node])  \n",
    "               +sum(model.discr_pump_rate[i,node]*model.DiscrFlow[i, node, x] for i in model.NodesIn_Disc[node])\n",
    "               -sum(model.discr_pump_rate[node,j]*model.DiscrFlow[node, j, x] for j in model.NodesOut_Disc[node])            \n",
    "               -model.demand[node, x] \n",
    "               +model.LevelSlackVar[node, x] for x in [str(w) for w in np.arange(1,int(t)+1,1)]\n",
    "           ), \n",
    "           model.softmax_level[node])\n",
    "\n",
    "model.sr_limit_softmin = Constraint(model.SR, model.time, rule=sr_rule_softmin) \n",
    "\n",
    "def sr_rule_hard(model, node, t):\n",
    "    return (model.hardmin_level[node], \n",
    "           model.start_level[node] \n",
    "           +sum(\n",
    "               sum(model.VarFlow[i, node, x] for i in model.NodesIn_Var[node])\n",
    "               -sum(model.VarFlow[node, j, x] for j in model.NodesOut_Var[node])  \n",
    "               +sum(model.discr_pump_rate[i,node]*model.DiscrFlow[i, node, x] for i in model.NodesIn_Disc[node])\n",
    "               -sum(model.discr_pump_rate[node,j]*model.DiscrFlow[node, j, x] for j in model.NodesOut_Disc[node])            \n",
    "               -model.demand[node, x] for x in [str(w) for w in np.arange(1,int(t)+1,1)]\n",
    "           ), \n",
    "           model.hardmax_level[node])\n",
    "    \n",
    "model.sr_limit_hard = Constraint(model.SR, model.time, rule=sr_rule_hard) \n",
    "\n",
    "# variable pump constraint\n",
    "def var_pump_rule(model, i, j, t):\n",
    "     return (0, model.VarFlow[i, j, t], # for (i) in pump_var], \n",
    "            model.var_pump_max_output[i,j])\n",
    "    \n",
    "model.var_pump_limit = Constraint(model.Pumps_var, model.time, rule=var_pump_rule)\n",
    "\n",
    "\n",
    "# # treatment works constraint DAILY\n",
    "def tw_rule(model, node):\n",
    "    return (0,\n",
    "            sum(sum(model.discr_pump_rate[node, j]*model.DiscrFlow[node, j, t] for j in model.NodesOut_Disc[node]) for t in model.time)\n",
    "            +sum(sum(model.VarFlow[node, j, t] for j in model.NodesOut_Var[node]) for t in model.time),\n",
    "            model.tw_output[node] * (number_of_periods / 24))\n",
    "\n",
    "model.tw_limit = Constraint(model.TW, rule=tw_rule)"
   ]
  },
  {
   "cell_type": "code",
   "execution_count": 7,
   "metadata": {},
   "outputs": [],
   "source": [
    "def counter_rule_var1(model,i,j,t):\n",
    "    return (model.VarFlow[i, j, t]-model.VarFlow[i, j, str(max((int(t)-1),1))]\n",
    "            +model.SwitchSlackVar1[i, j, t]>=0)\n",
    "\n",
    "model.counter_constraint1 = Constraint(model.Connections, model.time, rule=counter_rule_var1)\n",
    "\n",
    "def counter_rule_var2(model,i,j,t):\n",
    "    return (-model.VarFlow[i, j, t]+model.VarFlow[i, j, str(max((int(t)-1),1))]\n",
    "            +model.SwitchSlackVar2[i, j, t]>=0) \n",
    "\n",
    "model.counter_constraint2 = Constraint(model.Connections, model.time, rule=counter_rule_var2)\n",
    "\n",
    "def counter_rule_disc1(model,i,j,t):\n",
    "    return (model.DiscrFlow[i, j, t]-model.DiscrFlow[i, j, str(max((int(t)-1),1))]\n",
    "            +model.SwitchSlackDisc1[i, j, t]>=0)\n",
    "\n",
    "model.counter_constraint3 = Constraint(model.Connections, model.time, rule=counter_rule_disc1)\n",
    "\n",
    "def counter_rule_disc2(model,i,j,t):\n",
    "    return (-model.DiscrFlow[i, j, t]+model.DiscrFlow[i, j, str(max((int(t)-1),1))]\n",
    "            +model.SwitchSlackDisc2[i, j, t]>=0)\n",
    "\n",
    "model.counter_constraint4 = Constraint(model.Connections, model.time, rule=counter_rule_disc2)"
   ]
  },
  {
   "cell_type": "code",
   "execution_count": 8,
   "metadata": {},
   "outputs": [],
   "source": [
    "# Create alphabetical list of reservoirs\n",
    "reservoirs = sorted(start_level.index.values.tolist())\n",
    "\n",
    "# Read in demand data for optimisation model and create pandas df for output calculations\n",
    "demand_dict = {}\n",
    "demand_dict_pandas = {}\n",
    "transfers_out_dict = {}\n",
    "for i in reservoirs:\n",
    "    demand_profile = pd.read_excel(demand_file_path, sheet_name=i).head(number_of_periods)\n",
    "    transfers_out_dict[i] = {}\n",
    "    # for row in demand_profile.itertuples():\n",
    "    for row in demand_profile.itertuples():\n",
    "#         if (i == 'ChilliesReservoir') | (i == 'PopeswoodReservoir'):\n",
    "#             demand_dict[(i, str(row[2]))] = 0\n",
    "#             transfers_out_dict[i][row[2]] = 0\n",
    "#         else:         \n",
    "            demand_dict[(i, str(row[2]))] = row[4]\n",
    "            transfers_out_dict[i][row[2]] = row[4]    \n",
    "# demand_dict['ChilliesReservoir'] = 0.0001*demand_dict['ChilliesReservoir']\n",
    "# demand_dict['ChilliesReservoir'] = 0.0001*demand_dict['ChilliesReservoir']\n",
    "demand_df = pd.DataFrame(transfers_out_dict).transpose()"
   ]
  },
  {
   "cell_type": "code",
   "execution_count": 9,
   "metadata": {},
   "outputs": [],
   "source": [
    "data1 = {None: {\n",
    "...     'time': {None: [str(w) for w in time_list]},\n",
    "...     'Connections': {None: [str(w) for w in connection_list]},\n",
    "...     'SR': {None: [str(w) for w in service_reservoirs]},\n",
    "...     'TW': {None: [str(w) for w in treatment_works]},\n",
    "...     'Pumps_disc': {None: [str(w) for w in disc_pump_list]},\n",
    "...     'Pumps_var': {None: [str(w) for w in var_pump_list]},\n",
    "...     'demand':  demand_dict,\n",
    "...     'discr_pump_rate':  discr_pump_rate_dict,\n",
    "...     'var_pump_max_output':  var_pump_max_output_dict,    \n",
    "...     'softmax_level': softmax_level.iloc[:, 0].to_dict(),\n",
    "...     'softmin_level': softlow_level.iloc[:, 0].to_dict(),\n",
    "...     'hardmax_level': hardmax_level.iloc[:, 0].to_dict(),\n",
    "...     'hardmin_level': hardlow_level.iloc[:, 0].to_dict(), \n",
    "...     'tw_output': treatment_outputs.iloc[:, 0].to_dict(),\n",
    "...     'start_level': start_level.iloc[:, 0].to_dict(),\n",
    "... }}"
   ]
  },
  {
   "cell_type": "code",
   "execution_count": 10,
   "metadata": {},
   "outputs": [],
   "source": [
    "mod = model.create_instance(data1)"
   ]
  },
  {
   "cell_type": "code",
   "execution_count": 11,
   "metadata": {},
   "outputs": [
    {
     "name": "stdout",
     "output_type": "stream",
     "text": [
      "\n",
      "Problem: \n",
      "- Name: unknown\n",
      "  Lower bound: 36.38511849\n",
      "  Upper bound: 36.38511849\n",
      "  Number of objectives: 1\n",
      "  Number of constraints: 2565\n",
      "  Number of variables: 2328\n",
      "  Number of nonzeros: 23627\n",
      "  Sense: minimize\n",
      "Solver: \n",
      "- Status: ok\n",
      "  User time: -1.0\n",
      "  Termination condition: optimal\n",
      "  Error rc: 0\n",
      "  Time: 54.82463335990906\n",
      "Solution: \n",
      "- number of solutions: 1\n",
      "  number of solutions displayed: 1\n",
      "- Gap: 0.0\n",
      "  Status: optimal\n",
      "  Message: None\n",
      "  Objective:\n",
      "    switch_and_level_objective:\n",
      "      Value: 36.3851181596\n",
      "  Variable:\n",
      "    DiscrFlow[ArdinglyShellbrook,CuckfieldReservoir,10]:\n",
      "      Value: 1\n",
      "    DiscrFlow[ArdinglyShellbrook,CuckfieldReservoir,11]:\n",
      "      Value: 1\n",
      "    DiscrFlow[ArdinglyShellbrook,CuckfieldReservoir,12]:\n",
      "      Value: 1\n",
      "    DiscrFlow[ArdinglyShellbrook,CuckfieldReservoir,13]:\n",
      "      Value: 1\n",
      "    DiscrFlow[ArdinglyShellbrook,CuckfieldReservoir,9]:\n",
      "      Value: 1\n",
      "    DiscrFlow[Barcombe1,HorstedKeynesReservoir,10]:\n",
      "      Value: 1\n",
      "    DiscrFlow[Barcombe1,HorstedKeynesReservoir,11]:\n",
      "      Value: 1\n",
      "    DiscrFlow[Barcombe1,HorstedKeynesReservoir,12]:\n",
      "      Value: 1\n",
      "    DiscrFlow[Barcombe1,HorstedKeynesReservoir,13]:\n",
      "      Value: 1\n",
      "    DiscrFlow[Barcombe1,HorstedKeynesReservoir,1]:\n",
      "      Value: 1\n",
      "    DiscrFlow[Barcombe1,HorstedKeynesReservoir,2]:\n",
      "      Value: 1\n",
      "    DiscrFlow[Barcombe1,HorstedKeynesReservoir,3]:\n",
      "      Value: 1\n",
      "    DiscrFlow[Barcombe1,HorstedKeynesReservoir,4]:\n",
      "      Value: 1\n",
      "    DiscrFlow[Barcombe1,HorstedKeynesReservoir,5]:\n",
      "      Value: 1\n",
      "    DiscrFlow[Barcombe1,HorstedKeynesReservoir,6]:\n",
      "      Value: 1\n",
      "    DiscrFlow[Barcombe1,HorstedKeynesReservoir,7]:\n",
      "      Value: 1\n",
      "    DiscrFlow[Barcombe1,HorstedKeynesReservoir,8]:\n",
      "      Value: 1\n",
      "    DiscrFlow[Barcombe1,HorstedKeynesReservoir,9]:\n",
      "      Value: 1\n",
      "    DiscrFlow[Barcombe1,UckfieldReservoir,10]:\n",
      "      Value: 1\n",
      "    DiscrFlow[Barcombe1,UckfieldReservoir,11]:\n",
      "      Value: 1\n",
      "    DiscrFlow[Barcombe1,UckfieldReservoir,12]:\n",
      "      Value: 1\n",
      "    DiscrFlow[Barcombe1,UckfieldReservoir,13]:\n",
      "      Value: 1\n",
      "    DiscrFlow[Barcombe1,UckfieldReservoir,1]:\n",
      "      Value: 1\n",
      "    DiscrFlow[Barcombe1,UckfieldReservoir,2]:\n",
      "      Value: 1\n",
      "    DiscrFlow[Barcombe1,UckfieldReservoir,3]:\n",
      "      Value: 1\n",
      "    DiscrFlow[Barcombe1,UckfieldReservoir,4]:\n",
      "      Value: 1\n",
      "    DiscrFlow[Barcombe1,UckfieldReservoir,5]:\n",
      "      Value: 1\n",
      "    DiscrFlow[Barcombe1,UckfieldReservoir,6]:\n",
      "      Value: 1\n",
      "    DiscrFlow[Barcombe1,UckfieldReservoir,7]:\n",
      "      Value: 1\n",
      "    DiscrFlow[Barcombe1,UckfieldReservoir,8]:\n",
      "      Value: 1\n",
      "    DiscrFlow[Barcombe1,UckfieldReservoir,9]:\n",
      "      Value: 1\n",
      "    DiscrFlow[Groombridge,HourneFarmReservoir,10]:\n",
      "      Value: 1\n",
      "    DiscrFlow[Groombridge,HourneFarmReservoir,11]:\n",
      "      Value: 1\n",
      "    DiscrFlow[Groombridge,HourneFarmReservoir,12]:\n",
      "      Value: 1\n",
      "    DiscrFlow[Groombridge,HourneFarmReservoir,13]:\n",
      "      Value: 1\n",
      "    DiscrFlow[Groombridge,HourneFarmReservoir,2]:\n",
      "      Value: 1\n",
      "    DiscrFlow[Groombridge,HourneFarmReservoir,3]:\n",
      "      Value: 1\n",
      "    DiscrFlow[Groombridge,HourneFarmReservoir,4]:\n",
      "      Value: 1\n",
      "    DiscrFlow[Groombridge,HourneFarmReservoir,5]:\n",
      "      Value: 1\n",
      "    DiscrFlow[Groombridge,HourneFarmReservoir,6]:\n",
      "      Value: 1\n",
      "    DiscrFlow[Groombridge,HourneFarmReservoir,7]:\n",
      "      Value: 1\n",
      "    DiscrFlow[Groombridge,HourneFarmReservoir,8]:\n",
      "      Value: 1\n",
      "    DiscrFlow[Groombridge,HourneFarmReservoir,9]:\n",
      "      Value: 1\n",
      "    DiscrFlow[GrovelandsReservoir,SelsfieldReservoir,10]:\n",
      "      Value: 1\n",
      "    DiscrFlow[GrovelandsReservoir,SelsfieldReservoir,11]:\n",
      "      Value: 1\n",
      "    DiscrFlow[GrovelandsReservoir,SelsfieldReservoir,12]:\n",
      "      Value: 1\n",
      "    DiscrFlow[GrovelandsReservoir,SelsfieldReservoir,13]:\n",
      "      Value: 1\n",
      "    DiscrFlow[GrovelandsReservoir,SelsfieldReservoir,4]:\n",
      "      Value: 1\n",
      "    DiscrFlow[GrovelandsReservoir,SelsfieldReservoir,5]:\n",
      "      Value: 1\n",
      "    DiscrFlow[GrovelandsReservoir,SelsfieldReservoir,6]:\n",
      "      Value: 1\n",
      "    DiscrFlow[GrovelandsReservoir,SelsfieldReservoir,7]:\n",
      "      Value: 1\n",
      "    DiscrFlow[GrovelandsReservoir,SelsfieldReservoir,8]:\n",
      "      Value: 1\n",
      "    DiscrFlow[GrovelandsReservoir,SelsfieldReservoir,9]:\n",
      "      Value: 1\n",
      "    DiscrFlow[HorstedKeynesReservoir,AshdownReservoir,10]:\n",
      "      Value: 1\n",
      "    DiscrFlow[HorstedKeynesReservoir,AshdownReservoir,11]:\n",
      "      Value: 1\n",
      "    DiscrFlow[HorstedKeynesReservoir,AshdownReservoir,12]:\n",
      "      Value: 1\n",
      "    DiscrFlow[HorstedKeynesReservoir,AshdownReservoir,13]:\n",
      "      Value: 1\n",
      "    DiscrFlow[HorstedKeynesReservoir,AshdownReservoir,1]:\n",
      "      Value: 1\n",
      "    DiscrFlow[HorstedKeynesReservoir,AshdownReservoir,2]:\n",
      "      Value: 1\n",
      "    DiscrFlow[HorstedKeynesReservoir,AshdownReservoir,3]:\n",
      "      Value: 1\n",
      "    DiscrFlow[HorstedKeynesReservoir,AshdownReservoir,4]:\n",
      "      Value: 1\n",
      "    DiscrFlow[HorstedKeynesReservoir,AshdownReservoir,5]:\n",
      "      Value: 1\n",
      "    DiscrFlow[HorstedKeynesReservoir,AshdownReservoir,6]:\n",
      "      Value: 1\n",
      "    DiscrFlow[HorstedKeynesReservoir,AshdownReservoir,7]:\n",
      "      Value: 1\n",
      "    DiscrFlow[HorstedKeynesReservoir,AshdownReservoir,8]:\n",
      "      Value: 1\n",
      "    DiscrFlow[HorstedKeynesReservoir,AshdownReservoir,9]:\n",
      "      Value: 1\n",
      "    DiscrFlow[HorstedKeynesReservoir,BalcombeReservoir,10]:\n",
      "      Value: 1\n",
      "    DiscrFlow[HorstedKeynesReservoir,BalcombeReservoir,4]:\n",
      "      Value: 1\n",
      "    DiscrFlow[HorstedKeynesReservoir,CuckfieldReservoir,10]:\n",
      "      Value: 1\n",
      "    DiscrFlow[HorstedKeynesReservoir,CuckfieldReservoir,11]:\n",
      "      Value: 1\n",
      "    DiscrFlow[HorstedKeynesReservoir,CuckfieldReservoir,12]:\n",
      "      Value: 1\n",
      "    DiscrFlow[HorstedKeynesReservoir,CuckfieldReservoir,13]:\n",
      "      Value: 1\n",
      "    DiscrFlow[HorstedKeynesReservoir,CuckfieldReservoir,2]:\n",
      "      Value: 1\n",
      "    DiscrFlow[HorstedKeynesReservoir,CuckfieldReservoir,3]:\n",
      "      Value: 1\n",
      "    DiscrFlow[HorstedKeynesReservoir,CuckfieldReservoir,4]:\n",
      "      Value: 1\n",
      "    DiscrFlow[HorstedKeynesReservoir,CuckfieldReservoir,5]:\n",
      "      Value: 1\n",
      "    DiscrFlow[HorstedKeynesReservoir,CuckfieldReservoir,6]:\n",
      "      Value: 1\n",
      "    DiscrFlow[HorstedKeynesReservoir,CuckfieldReservoir,7]:\n",
      "      Value: 1\n",
      "    DiscrFlow[HorstedKeynesReservoir,CuckfieldReservoir,8]:\n",
      "      Value: 1\n",
      "    DiscrFlow[HorstedKeynesReservoir,CuckfieldReservoir,9]:\n",
      "      Value: 1\n",
      "    DiscrFlow[HorstedKeynesReservoir,GrovelandsReservoir,10]:\n",
      "      Value: 1\n",
      "    DiscrFlow[HorstedKeynesReservoir,GrovelandsReservoir,11]:\n",
      "      Value: 1\n",
      "    DiscrFlow[HorstedKeynesReservoir,GrovelandsReservoir,12]:\n",
      "      Value: 1\n",
      "    DiscrFlow[HorstedKeynesReservoir,GrovelandsReservoir,13]:\n",
      "      Value: 1\n",
      "    DiscrFlow[HorstedKeynesReservoir,GrovelandsReservoir,3]:\n",
      "      Value: 1\n",
      "    DiscrFlow[HorstedKeynesReservoir,GrovelandsReservoir,4]:\n",
      "      Value: 1\n",
      "    DiscrFlow[HorstedKeynesReservoir,GrovelandsReservoir,5]:\n",
      "      Value: 1\n",
      "    DiscrFlow[HorstedKeynesReservoir,GrovelandsReservoir,6]:\n",
      "      Value: 1\n",
      "    DiscrFlow[HorstedKeynesReservoir,GrovelandsReservoir,7]:\n",
      "      Value: 1\n",
      "    DiscrFlow[HorstedKeynesReservoir,GrovelandsReservoir,8]:\n",
      "      Value: 1\n",
      "    DiscrFlow[HorstedKeynesReservoir,GrovelandsReservoir,9]:\n",
      "      Value: 1\n",
      "    DiscrFlow[HorstedKeynesReservoir,WychCrossReservoir,10]:\n",
      "      Value: 1\n",
      "    DiscrFlow[HorstedKeynesReservoir,WychCrossReservoir,11]:\n",
      "      Value: 1\n",
      "    DiscrFlow[HorstedKeynesReservoir,WychCrossReservoir,12]:\n",
      "      Value: 1\n",
      "    DiscrFlow[HorstedKeynesReservoir,WychCrossReservoir,13]:\n",
      "      Value: 1\n",
      "    DiscrFlow[HorstedKeynesReservoir,WychCrossReservoir,3]:\n",
      "      Value: 1\n",
      "    DiscrFlow[HorstedKeynesReservoir,WychCrossReservoir,4]:\n",
      "      Value: 1\n",
      "    DiscrFlow[HorstedKeynesReservoir,WychCrossReservoir,5]:\n",
      "      Value: 1\n",
      "    DiscrFlow[HorstedKeynesReservoir,WychCrossReservoir,6]:\n",
      "      Value: 1\n",
      "    DiscrFlow[HorstedKeynesReservoir,WychCrossReservoir,7]:\n",
      "      Value: 1\n",
      "    DiscrFlow[HorstedKeynesReservoir,WychCrossReservoir,8]:\n",
      "      Value: 1\n",
      "    DiscrFlow[HorstedKeynesReservoir,WychCrossReservoir,9]:\n",
      "      Value: 1\n",
      "    DiscrFlow[HourneFarmReservoir,CrowboroughReservoir,10]:\n",
      "      Value: 1\n",
      "    DiscrFlow[HourneFarmReservoir,CrowboroughReservoir,11]:\n",
      "      Value: 1\n",
      "    DiscrFlow[HourneFarmReservoir,CrowboroughReservoir,12]:\n",
      "      Value: 1\n",
      "    DiscrFlow[HourneFarmReservoir,CrowboroughReservoir,13]:\n",
      "      Value: 1\n",
      "    DiscrFlow[HourneFarmReservoir,CrowboroughReservoir,2]:\n",
      "      Value: 1\n",
      "    DiscrFlow[HourneFarmReservoir,CrowboroughReservoir,3]:\n",
      "      Value: 1\n",
      "    DiscrFlow[HourneFarmReservoir,CrowboroughReservoir,4]:\n",
      "      Value: 1\n",
      "    DiscrFlow[HourneFarmReservoir,CrowboroughReservoir,5]:\n",
      "      Value: 1\n",
      "    DiscrFlow[HourneFarmReservoir,CrowboroughReservoir,6]:\n",
      "      Value: 1\n",
      "    DiscrFlow[HourneFarmReservoir,CrowboroughReservoir,8]:\n",
      "      Value: 1\n",
      "    DiscrFlow[HourneFarmReservoir,CrowboroughReservoir,9]:\n",
      "      Value: 1\n",
      "    DiscrFlow[PopeswoodReservoir,CottageHillReservoir,10]:\n",
      "      Value: 1\n",
      "    DiscrFlow[PopeswoodReservoir,CottageHillReservoir,11]:\n",
      "      Value: 1\n",
      "    DiscrFlow[PopeswoodReservoir,CottageHillReservoir,12]:\n",
      "      Value: 1\n",
      "    DiscrFlow[PopeswoodReservoir,CottageHillReservoir,13]:\n",
      "      Value: 1\n",
      "    DiscrFlow[PopeswoodReservoir,CottageHillReservoir,7]:\n",
      "      Value: 1\n",
      "    DiscrFlow[PopeswoodReservoir,CottageHillReservoir,8]:\n",
      "      Value: 1\n",
      "    DiscrFlow[PopeswoodReservoir,CottageHillReservoir,9]:\n",
      "      Value: 1\n",
      "    LevelSlackVar[HourneFarmReservoir,10]:\n",
      "      Value: 0.10222083\n",
      "    LevelSlackVar[HourneFarmReservoir,11]:\n",
      "      Value: 0.029683333\n",
      "    LevelSlackVar[HourneFarmReservoir,3]:\n",
      "      Value: 0.0730875\n",
      "    LevelSlackVar[HourneFarmReservoir,4]:\n",
      "      Value: 0.0052979167\n",
      "    LevelSlackVar[HourneFarmReservoir,8]:\n",
      "      Value: 0.012410417\n",
      "    SwitchSlackDisc1[HorstedKeynesReservoir,BalcombeReservoir,11]:\n",
      "      Value: 1\n",
      "    SwitchSlackDisc1[HorstedKeynesReservoir,BalcombeReservoir,5]:\n",
      "      Value: 1\n",
      "    SwitchSlackDisc1[HourneFarmReservoir,CrowboroughReservoir,7]:\n",
      "      Value: 1\n",
      "    SwitchSlackDisc2[ArdinglyShellbrook,CuckfieldReservoir,9]:\n",
      "      Value: 1\n",
      "    SwitchSlackDisc2[Groombridge,HourneFarmReservoir,2]:\n",
      "      Value: 1\n",
      "    SwitchSlackDisc2[GrovelandsReservoir,SelsfieldReservoir,4]:\n",
      "      Value: 1\n",
      "    SwitchSlackDisc2[HorstedKeynesReservoir,BalcombeReservoir,10]:\n",
      "      Value: 1\n",
      "    SwitchSlackDisc2[HorstedKeynesReservoir,BalcombeReservoir,4]:\n",
      "      Value: 1\n",
      "    SwitchSlackDisc2[HorstedKeynesReservoir,CuckfieldReservoir,2]:\n",
      "      Value: 1\n",
      "    SwitchSlackDisc2[HorstedKeynesReservoir,GrovelandsReservoir,3]:\n",
      "      Value: 1\n",
      "    SwitchSlackDisc2[HorstedKeynesReservoir,WychCrossReservoir,3]:\n",
      "      Value: 1\n",
      "    SwitchSlackDisc2[HourneFarmReservoir,CrowboroughReservoir,2]:\n",
      "      Value: 1\n",
      "    SwitchSlackDisc2[HourneFarmReservoir,CrowboroughReservoir,8]:\n",
      "      Value: 1\n",
      "    SwitchSlackDisc2[PopeswoodReservoir,CottageHillReservoir,7]:\n",
      "      Value: 1\n",
      "    SwitchSlackVar2[Barcombe1,ButlersGreenReservoir,5]:\n",
      "      Value: 0.047552083\n",
      "    SwitchSlackVar2[Barcombe1,ButlersGreenReservoir,6]:\n",
      "      Value: 0.060026042\n",
      "    SwitchSlackVar2[UckfieldReservoir,NutleyReservoir,6]:\n",
      "      Value: 0.0075403646\n",
      "    VarFlow[AshdownReservoir,CottageHillReservoir,10]:\n",
      "      Value: 0.14086726\n",
      "    VarFlow[AshdownReservoir,CottageHillReservoir,11]:\n",
      "      Value: 0.14086726\n",
      "    VarFlow[AshdownReservoir,CottageHillReservoir,12]:\n",
      "      Value: 0.14086726\n",
      "    VarFlow[AshdownReservoir,CottageHillReservoir,13]:\n",
      "      Value: 0.14086726\n",
      "    VarFlow[AshdownReservoir,CottageHillReservoir,1]:\n",
      "      Value: 0.14086726\n",
      "    VarFlow[AshdownReservoir,CottageHillReservoir,2]:\n",
      "      Value: 0.14086726\n",
      "    VarFlow[AshdownReservoir,CottageHillReservoir,3]:\n",
      "      Value: 0.14086726\n",
      "    VarFlow[AshdownReservoir,CottageHillReservoir,4]:\n",
      "      Value: 0.14086726\n",
      "    VarFlow[AshdownReservoir,CottageHillReservoir,5]:\n",
      "      Value: 0.14086726\n",
      "    VarFlow[AshdownReservoir,CottageHillReservoir,6]:\n",
      "      Value: 0.14086726\n",
      "    VarFlow[AshdownReservoir,CottageHillReservoir,7]:\n",
      "      Value: 0.14086726\n",
      "    VarFlow[AshdownReservoir,CottageHillReservoir,8]:\n",
      "      Value: 0.14086726\n",
      "    VarFlow[AshdownReservoir,CottageHillReservoir,9]:\n",
      "      Value: 0.14086726\n",
      "    VarFlow[AshdownReservoir,CrowboroughReservoir,10]:\n",
      "      Value: 0.032043519\n",
      "    VarFlow[AshdownReservoir,CrowboroughReservoir,11]:\n",
      "      Value: 0.032043519\n",
      "    VarFlow[AshdownReservoir,CrowboroughReservoir,12]:\n",
      "      Value: 0.032043519\n",
      "    VarFlow[AshdownReservoir,CrowboroughReservoir,13]:\n",
      "      Value: 0.032043519\n",
      "    VarFlow[AshdownReservoir,CrowboroughReservoir,1]:\n",
      "      Value: 0.032043519\n",
      "    VarFlow[AshdownReservoir,CrowboroughReservoir,2]:\n",
      "      Value: 0.032043519\n",
      "    VarFlow[AshdownReservoir,CrowboroughReservoir,3]:\n",
      "      Value: 0.032043519\n",
      "    VarFlow[AshdownReservoir,CrowboroughReservoir,4]:\n",
      "      Value: 0.032043519\n",
      "    VarFlow[AshdownReservoir,CrowboroughReservoir,5]:\n",
      "      Value: 0.032043519\n",
      "    VarFlow[AshdownReservoir,CrowboroughReservoir,6]:\n",
      "      Value: 0.032043519\n",
      "    VarFlow[AshdownReservoir,CrowboroughReservoir,7]:\n",
      "      Value: 0.032043519\n",
      "    VarFlow[AshdownReservoir,CrowboroughReservoir,8]:\n",
      "      Value: 0.032043519\n",
      "    VarFlow[AshdownReservoir,CrowboroughReservoir,9]:\n",
      "      Value: 0.032043519\n",
      "    VarFlow[Barcombe1,ButlersGreenReservoir,10]:\n",
      "      Value: 0.14945312\n",
      "    VarFlow[Barcombe1,ButlersGreenReservoir,11]:\n",
      "      Value: 0.14945312\n",
      "    VarFlow[Barcombe1,ButlersGreenReservoir,12]:\n",
      "      Value: 0.14945312\n",
      "    VarFlow[Barcombe1,ButlersGreenReservoir,13]:\n",
      "      Value: 0.14945312\n",
      "    VarFlow[Barcombe1,ButlersGreenReservoir,1]:\n",
      "      Value: 0.041875\n",
      "    VarFlow[Barcombe1,ButlersGreenReservoir,2]:\n",
      "      Value: 0.041875\n",
      "    VarFlow[Barcombe1,ButlersGreenReservoir,3]:\n",
      "      Value: 0.041875\n",
      "    VarFlow[Barcombe1,ButlersGreenReservoir,4]:\n",
      "      Value: 0.041875\n",
      "    VarFlow[Barcombe1,ButlersGreenReservoir,5]:\n",
      "      Value: 0.089427083\n",
      "    VarFlow[Barcombe1,ButlersGreenReservoir,6]:\n",
      "      Value: 0.14945312\n",
      "    VarFlow[Barcombe1,ButlersGreenReservoir,7]:\n",
      "      Value: 0.14945312\n",
      "    VarFlow[Barcombe1,ButlersGreenReservoir,8]:\n",
      "      Value: 0.14945312\n",
      "    VarFlow[Barcombe1,ButlersGreenReservoir,9]:\n",
      "      Value: 0.14945312\n",
      "    VarFlow[Barcombe1,PopeswoodReservoir,10]:\n",
      "      Value: 0.18539295\n",
      "    VarFlow[Barcombe1,PopeswoodReservoir,11]:\n",
      "      Value: 0.18539295\n",
      "    VarFlow[Barcombe1,PopeswoodReservoir,12]:\n",
      "      Value: 0.18539295\n",
      "    VarFlow[Barcombe1,PopeswoodReservoir,13]:\n",
      "      Value: 0.18539295\n",
      "    VarFlow[Barcombe1,PopeswoodReservoir,1]:\n",
      "      Value: 0.18539295\n",
      "    VarFlow[Barcombe1,PopeswoodReservoir,2]:\n",
      "      Value: 0.18539295\n",
      "    VarFlow[Barcombe1,PopeswoodReservoir,3]:\n",
      "      Value: 0.18539295\n",
      "    VarFlow[Barcombe1,PopeswoodReservoir,4]:\n",
      "      Value: 0.18539295\n",
      "    VarFlow[Barcombe1,PopeswoodReservoir,5]:\n",
      "      Value: 0.18539295\n",
      "    VarFlow[Barcombe1,PopeswoodReservoir,6]:\n",
      "      Value: 0.18539295\n",
      "    VarFlow[Barcombe1,PopeswoodReservoir,7]:\n",
      "      Value: 0.18539295\n",
      "    VarFlow[Barcombe1,PopeswoodReservoir,8]:\n",
      "      Value: 0.18539295\n",
      "    VarFlow[Barcombe1,PopeswoodReservoir,9]:\n",
      "      Value: 0.18539295\n",
      "    VarFlow[CottageHillReservoir,BestBeechReservoir,10]:\n",
      "      Value: 0.06328125\n",
      "    VarFlow[CottageHillReservoir,BestBeechReservoir,11]:\n",
      "      Value: 0.06328125\n",
      "    VarFlow[CottageHillReservoir,BestBeechReservoir,12]:\n",
      "      Value: 0.06328125\n",
      "    VarFlow[CottageHillReservoir,BestBeechReservoir,13]:\n",
      "      Value: 0.06328125\n",
      "    VarFlow[CottageHillReservoir,BestBeechReservoir,1]:\n",
      "      Value: 0.06328125\n",
      "    VarFlow[CottageHillReservoir,BestBeechReservoir,2]:\n",
      "      Value: 0.06328125\n",
      "    VarFlow[CottageHillReservoir,BestBeechReservoir,3]:\n",
      "      Value: 0.06328125\n",
      "    VarFlow[CottageHillReservoir,BestBeechReservoir,4]:\n",
      "      Value: 0.06328125\n",
      "    VarFlow[CottageHillReservoir,BestBeechReservoir,5]:\n",
      "      Value: 0.06328125\n",
      "    VarFlow[CottageHillReservoir,BestBeechReservoir,6]:\n",
      "      Value: 0.06328125\n",
      "    VarFlow[CottageHillReservoir,BestBeechReservoir,7]:\n",
      "      Value: 0.06328125\n",
      "    VarFlow[CottageHillReservoir,BestBeechReservoir,8]:\n",
      "      Value: 0.06328125\n",
      "    VarFlow[CottageHillReservoir,BestBeechReservoir,9]:\n",
      "      Value: 0.06328125\n",
      "    VarFlow[HorstedKeynesReservoir,ButlersGreenReservoir,10]:\n",
      "      Value: 0.21\n",
      "    VarFlow[HorstedKeynesReservoir,ButlersGreenReservoir,11]:\n",
      "      Value: 0.21\n",
      "    VarFlow[HorstedKeynesReservoir,ButlersGreenReservoir,12]:\n",
      "      Value: 0.21\n",
      "    VarFlow[HorstedKeynesReservoir,ButlersGreenReservoir,13]:\n",
      "      Value: 0.21\n",
      "    VarFlow[HorstedKeynesReservoir,ButlersGreenReservoir,1]:\n",
      "      Value: 0.21\n",
      "    VarFlow[HorstedKeynesReservoir,ButlersGreenReservoir,2]:\n",
      "      Value: 0.21\n",
      "    VarFlow[HorstedKeynesReservoir,ButlersGreenReservoir,3]:\n",
      "      Value: 0.21\n",
      "    VarFlow[HorstedKeynesReservoir,ButlersGreenReservoir,4]:\n",
      "      Value: 0.21\n",
      "    VarFlow[HorstedKeynesReservoir,ButlersGreenReservoir,5]:\n",
      "      Value: 0.21\n",
      "    VarFlow[HorstedKeynesReservoir,ButlersGreenReservoir,6]:\n",
      "      Value: 0.21\n",
      "    VarFlow[HorstedKeynesReservoir,ButlersGreenReservoir,7]:\n",
      "      Value: 0.21\n",
      "    VarFlow[HorstedKeynesReservoir,ButlersGreenReservoir,8]:\n",
      "      Value: 0.21\n",
      "    VarFlow[HorstedKeynesReservoir,ButlersGreenReservoir,9]:\n",
      "      Value: 0.21\n",
      "    VarFlow[HorstedKeynesReservoir,StFrancisReservoir,10]:\n",
      "      Value: 0.084621528\n",
      "    VarFlow[HorstedKeynesReservoir,StFrancisReservoir,11]:\n",
      "      Value: 0.084621528\n",
      "    VarFlow[HorstedKeynesReservoir,StFrancisReservoir,12]:\n",
      "      Value: 0.084621528\n",
      "    VarFlow[HorstedKeynesReservoir,StFrancisReservoir,13]:\n",
      "      Value: 0.084621528\n",
      "    VarFlow[HorstedKeynesReservoir,StFrancisReservoir,1]:\n",
      "      Value: 0.084621528\n",
      "    VarFlow[HorstedKeynesReservoir,StFrancisReservoir,2]:\n",
      "      Value: 0.084621528\n",
      "    VarFlow[HorstedKeynesReservoir,StFrancisReservoir,3]:\n",
      "      Value: 0.084621528\n",
      "    VarFlow[HorstedKeynesReservoir,StFrancisReservoir,4]:\n",
      "      Value: 0.084621528\n",
      "    VarFlow[HorstedKeynesReservoir,StFrancisReservoir,5]:\n",
      "      Value: 0.084621528\n",
      "    VarFlow[HorstedKeynesReservoir,StFrancisReservoir,6]:\n",
      "      Value: 0.084621528\n",
      "    VarFlow[HorstedKeynesReservoir,StFrancisReservoir,7]:\n",
      "      Value: 0.084621528\n",
      "    VarFlow[HorstedKeynesReservoir,StFrancisReservoir,8]:\n",
      "      Value: 0.084621528\n",
      "    VarFlow[HorstedKeynesReservoir,StFrancisReservoir,9]:\n",
      "      Value: 0.084621528\n",
      "    VarFlow[PopeswoodReservoir,ChilliesReservoir,10]:\n",
      "      Value: 0.031346154\n",
      "    VarFlow[PopeswoodReservoir,ChilliesReservoir,11]:\n",
      "      Value: 0.031346154\n",
      "    VarFlow[PopeswoodReservoir,ChilliesReservoir,12]:\n",
      "      Value: 0.031346154\n",
      "    VarFlow[PopeswoodReservoir,ChilliesReservoir,13]:\n",
      "      Value: 0.031346154\n",
      "    VarFlow[PopeswoodReservoir,ChilliesReservoir,1]:\n",
      "      Value: 0.031346154\n",
      "    VarFlow[PopeswoodReservoir,ChilliesReservoir,2]:\n",
      "      Value: 0.031346154\n",
      "    VarFlow[PopeswoodReservoir,ChilliesReservoir,3]:\n",
      "      Value: 0.031346154\n",
      "    VarFlow[PopeswoodReservoir,ChilliesReservoir,4]:\n",
      "      Value: 0.031346154\n",
      "    VarFlow[PopeswoodReservoir,ChilliesReservoir,5]:\n",
      "      Value: 0.031346154\n",
      "    VarFlow[PopeswoodReservoir,ChilliesReservoir,6]:\n",
      "      Value: 0.031346154\n",
      "    VarFlow[PopeswoodReservoir,ChilliesReservoir,7]:\n",
      "      Value: 0.031346154\n",
      "    VarFlow[PopeswoodReservoir,ChilliesReservoir,8]:\n",
      "      Value: 0.031346154\n",
      "    VarFlow[PopeswoodReservoir,ChilliesReservoir,9]:\n",
      "      Value: 0.031346154\n",
      "    VarFlow[UckfieldReservoir,NutleyReservoir,10]:\n",
      "      Value: 0.088092448\n",
      "    VarFlow[UckfieldReservoir,NutleyReservoir,11]:\n",
      "      Value: 0.088092448\n",
      "    VarFlow[UckfieldReservoir,NutleyReservoir,12]:\n",
      "      Value: 0.088092448\n",
      "    VarFlow[UckfieldReservoir,NutleyReservoir,13]:\n",
      "      Value: 0.088092448\n",
      "    VarFlow[UckfieldReservoir,NutleyReservoir,1]:\n",
      "      Value: 0.080552083\n",
      "    VarFlow[UckfieldReservoir,NutleyReservoir,2]:\n",
      "      Value: 0.080552083\n",
      "    VarFlow[UckfieldReservoir,NutleyReservoir,3]:\n",
      "      Value: 0.080552083\n",
      "    VarFlow[UckfieldReservoir,NutleyReservoir,4]:\n",
      "      Value: 0.080552083\n",
      "    VarFlow[UckfieldReservoir,NutleyReservoir,5]:\n",
      "      Value: 0.080552083\n",
      "    VarFlow[UckfieldReservoir,NutleyReservoir,6]:\n",
      "      Value: 0.088092448\n",
      "    VarFlow[UckfieldReservoir,NutleyReservoir,7]:\n",
      "      Value: 0.088092448\n",
      "    VarFlow[UckfieldReservoir,NutleyReservoir,8]:\n",
      "      Value: 0.088092448\n",
      "    VarFlow[UckfieldReservoir,NutleyReservoir,9]:\n",
      "      Value: 0.088092448\n",
      "  Constraint: No values\n",
      "\n"
     ]
    }
   ],
   "source": [
    "import pyomo.opt\n",
    "opt = pyomo.opt.SolverFactory('cbc')\n",
    "results = opt.solve(mod,timelimit=60) \n",
    "mod.solutions.store_to(results)\n",
    "print(results)"
   ]
  },
  {
   "cell_type": "code",
   "execution_count": 13,
   "metadata": {},
   "outputs": [
    {
     "data": {
      "text/plain": [
       "{'time': {None: ['1',\n",
       "   '2',\n",
       "   '3',\n",
       "   '4',\n",
       "   '5',\n",
       "   '6',\n",
       "   '7',\n",
       "   '8',\n",
       "   '9',\n",
       "   '10',\n",
       "   '11',\n",
       "   '12',\n",
       "   '13']},\n",
       " 'Connections': {None: ['Cockhaise',\n",
       "   'GrovelandsReservoir',\n",
       "   'WeirWood',\n",
       "   'WychCrossReservoir',\n",
       "   'ArdinglyShellbrook',\n",
       "   'CuckfieldReservoir',\n",
       "   'Barcombe1',\n",
       "   'ButlersGreenReservoir',\n",
       "   'Barcombe1',\n",
       "   'StFrancisReservoir',\n",
       "   'Barcombe1',\n",
       "   'HorstedKeynesReservoir',\n",
       "   'Barcombe1',\n",
       "   'UckfieldReservoir',\n",
       "   'Barcombe1',\n",
       "   'PopeswoodReservoir',\n",
       "   'Groombridge',\n",
       "   'HourneFarmReservoir',\n",
       "   'CogginsMill',\n",
       "   'BestBeechReservoir',\n",
       "   'GrovelandsReservoir',\n",
       "   'SelsfieldReservoir',\n",
       "   'ButlersGreenReservoir',\n",
       "   'CuckfieldReservoir',\n",
       "   'HorstedKeynesReservoir',\n",
       "   'GrovelandsReservoir',\n",
       "   'HorstedKeynesReservoir',\n",
       "   'BalcombeReservoir',\n",
       "   'HorstedKeynesReservoir',\n",
       "   'CuckfieldReservoir',\n",
       "   'HorstedKeynesReservoir',\n",
       "   'ButlersGreenReservoir',\n",
       "   'HorstedKeynesReservoir',\n",
       "   'StFrancisReservoir',\n",
       "   'HorstedKeynesReservoir',\n",
       "   'WychCrossReservoir',\n",
       "   'HorstedKeynesReservoir',\n",
       "   'AshdownReservoir',\n",
       "   'UckfieldReservoir',\n",
       "   'NutleyReservoir',\n",
       "   'PopeswoodReservoir',\n",
       "   'ChilliesReservoir',\n",
       "   'PopeswoodReservoir',\n",
       "   'CottageHillReservoir',\n",
       "   'AshdownReservoir',\n",
       "   'CrowboroughReservoir',\n",
       "   'AshdownReservoir',\n",
       "   'CottageHillReservoir',\n",
       "   'ChilliesReservoir',\n",
       "   'CrowboroughReservoir',\n",
       "   'CottageHillReservoir',\n",
       "   'BestBeechReservoir',\n",
       "   'HourneFarmReservoir',\n",
       "   'CrowboroughReservoir']},\n",
       " 'SR': {None: ['SelsfieldReservoir',\n",
       "   'GrovelandsReservoir',\n",
       "   'BalcombeReservoir',\n",
       "   'CuckfieldReservoir',\n",
       "   'ButlersGreenReservoir',\n",
       "   'StFrancisReservoir',\n",
       "   'HorstedKeynesReservoir',\n",
       "   'WychCrossReservoir',\n",
       "   'NutleyReservoir',\n",
       "   'UckfieldReservoir',\n",
       "   'PopeswoodReservoir',\n",
       "   'CrowboroughReservoir',\n",
       "   'AshdownReservoir',\n",
       "   'ChilliesReservoir',\n",
       "   'CottageHillReservoir',\n",
       "   'BestBeechReservoir',\n",
       "   'HourneFarmReservoir']},\n",
       " 'TW': {None: ['Cockhaise',\n",
       "   'ForestRow',\n",
       "   'WeirWood',\n",
       "   'ArdinglyShellbrook',\n",
       "   'Barcombe1',\n",
       "   'Barcombe2',\n",
       "   'Groombridge',\n",
       "   'CogginsMill']},\n",
       " 'Pumps_disc': {None: ['Cockhaise',\n",
       "   'GrovelandsReservoir',\n",
       "   'WeirWood',\n",
       "   'WychCrossReservoir',\n",
       "   'ArdinglyShellbrook',\n",
       "   'CuckfieldReservoir',\n",
       "   'Barcombe1',\n",
       "   'HorstedKeynesReservoir',\n",
       "   'Barcombe1',\n",
       "   'UckfieldReservoir',\n",
       "   'Groombridge',\n",
       "   'HourneFarmReservoir',\n",
       "   'CogginsMill',\n",
       "   'BestBeechReservoir',\n",
       "   'GrovelandsReservoir',\n",
       "   'SelsfieldReservoir',\n",
       "   'ButlersGreenReservoir',\n",
       "   'CuckfieldReservoir',\n",
       "   'HorstedKeynesReservoir',\n",
       "   'GrovelandsReservoir',\n",
       "   'HorstedKeynesReservoir',\n",
       "   'BalcombeReservoir',\n",
       "   'HorstedKeynesReservoir',\n",
       "   'CuckfieldReservoir',\n",
       "   'HorstedKeynesReservoir',\n",
       "   'WychCrossReservoir',\n",
       "   'HorstedKeynesReservoir',\n",
       "   'AshdownReservoir',\n",
       "   'PopeswoodReservoir',\n",
       "   'CottageHillReservoir',\n",
       "   'ChilliesReservoir',\n",
       "   'CrowboroughReservoir',\n",
       "   'HourneFarmReservoir',\n",
       "   'CrowboroughReservoir']},\n",
       " 'Pumps_var': {None: ['Barcombe1',\n",
       "   'ButlersGreenReservoir',\n",
       "   'Barcombe1',\n",
       "   'StFrancisReservoir',\n",
       "   'Barcombe1',\n",
       "   'PopeswoodReservoir',\n",
       "   'HorstedKeynesReservoir',\n",
       "   'ButlersGreenReservoir',\n",
       "   'HorstedKeynesReservoir',\n",
       "   'StFrancisReservoir',\n",
       "   'UckfieldReservoir',\n",
       "   'NutleyReservoir',\n",
       "   'PopeswoodReservoir',\n",
       "   'ChilliesReservoir',\n",
       "   'AshdownReservoir',\n",
       "   'CrowboroughReservoir',\n",
       "   'AshdownReservoir',\n",
       "   'CottageHillReservoir',\n",
       "   'CottageHillReservoir',\n",
       "   'BestBeechReservoir']},\n",
       " 'demand': {('AshdownReservoir', '1'): 0.04213541666666667,\n",
       "  ('AshdownReservoir', '2'): 0.044843749999999995,\n",
       "  ('AshdownReservoir', '3'): 0.04567708333333333,\n",
       "  ('AshdownReservoir', '4'): 0.0509375,\n",
       "  ('AshdownReservoir', '5'): 0.06526041666666667,\n",
       "  ('AshdownReservoir', '6'): 0.10281249999999999,\n",
       "  ('AshdownReservoir', '7'): 0.12416666666666666,\n",
       "  ('AshdownReservoir', '8'): 0.11161458333333334,\n",
       "  ('AshdownReservoir', '9'): 0.10328124999999999,\n",
       "  ('AshdownReservoir', '10'): 0.09963541666666666,\n",
       "  ('AshdownReservoir', '11'): 0.09552083333333333,\n",
       "  ('AshdownReservoir', '12'): 0.08489583333333334,\n",
       "  ('AshdownReservoir', '13'): 0.08463541666666667,\n",
       "  ('BalcombeReservoir', '1'): 0.030989583333333334,\n",
       "  ('BalcombeReservoir', '2'): 0.02979166666666666,\n",
       "  ('BalcombeReservoir', '3'): 0.029218749999999998,\n",
       "  ('BalcombeReservoir', '4'): 0.031875,\n",
       "  ('BalcombeReservoir', '5'): 0.04942708333333334,\n",
       "  ('BalcombeReservoir', '6'): 0.07781249999999999,\n",
       "  ('BalcombeReservoir', '7'): 0.09369791666666667,\n",
       "  ('BalcombeReservoir', '8'): 0.08494791666666668,\n",
       "  ('BalcombeReservoir', '9'): 0.07859375,\n",
       "  ('BalcombeReservoir', '10'): 0.07713541666666666,\n",
       "  ('BalcombeReservoir', '11'): 0.07546875,\n",
       "  ('BalcombeReservoir', '12'): 0.07,\n",
       "  ('BalcombeReservoir', '13'): 0.06755208333333333,\n",
       "  ('BestBeechReservoir', '1'): 0.03109375,\n",
       "  ('BestBeechReservoir', '2'): 0.031822916666666666,\n",
       "  ('BestBeechReservoir', '3'): 0.03119791666666667,\n",
       "  ('BestBeechReservoir', '4'): 0.035833333333333335,\n",
       "  ('BestBeechReservoir', '5'): 0.056458333333333326,\n",
       "  ('BestBeechReservoir', '6'): 0.09151041666666666,\n",
       "  ('BestBeechReservoir', '7'): 0.10177083333333332,\n",
       "  ('BestBeechReservoir', '8'): 0.09072916666666665,\n",
       "  ('BestBeechReservoir', '9'): 0.08817708333333334,\n",
       "  ('BestBeechReservoir', '10'): 0.08697916666666668,\n",
       "  ('BestBeechReservoir', '11'): 0.08921875000000001,\n",
       "  ('BestBeechReservoir', '12'): 0.08755208333333335,\n",
       "  ('BestBeechReservoir', '13'): 0.08375,\n",
       "  ('ButlersGreenReservoir', '1'): 0.12802083333333333,\n",
       "  ('ButlersGreenReservoir', '2'): 0.15010416666666668,\n",
       "  ('ButlersGreenReservoir', '3'): 0.13098958333333333,\n",
       "  ('ButlersGreenReservoir', '4'): 0.15338541666666666,\n",
       "  ('ButlersGreenReservoir', '5'): 0.2994270833333333,\n",
       "  ('ButlersGreenReservoir', '6'): 0.5502083333333333,\n",
       "  ('ButlersGreenReservoir', '7'): 0.68640625,\n",
       "  ('ButlersGreenReservoir', '8'): 0.4909895833333333,\n",
       "  ('ButlersGreenReservoir', '9'): 0.3961979166666667,\n",
       "  ('ButlersGreenReservoir', '10'): 0.3838020833333333,\n",
       "  ('ButlersGreenReservoir', '11'): 0.3676041666666667,\n",
       "  ('ButlersGreenReservoir', '12'): 0.4236979166666666,\n",
       "  ('ButlersGreenReservoir', '13'): 0.46671875000000007,\n",
       "  ('ChilliesReservoir', '1'): 0.023229166666666665,\n",
       "  ('ChilliesReservoir', '2'): 0.038593749999999996,\n",
       "  ('ChilliesReservoir', '3'): 0.0215625,\n",
       "  ('ChilliesReservoir', '4'): 0.0240625,\n",
       "  ('ChilliesReservoir', '5'): 0.023229166666666665,\n",
       "  ('ChilliesReservoir', '6'): 0.03843749999999999,\n",
       "  ('ChilliesReservoir', '7'): 0.05348958333333333,\n",
       "  ('ChilliesReservoir', '8'): 0.04244791666666667,\n",
       "  ('ChilliesReservoir', '9'): 0.03567708333333333,\n",
       "  ('ChilliesReservoir', '10'): 0.0425,\n",
       "  ('ChilliesReservoir', '11'): 0.04760416666666667,\n",
       "  ('ChilliesReservoir', '12'): 0.030052083333333337,\n",
       "  ('ChilliesReservoir', '13'): 0.04661458333333334,\n",
       "  ('CottageHillReservoir', '1'): 0.07437500000000001,\n",
       "  ('CottageHillReservoir', '2'): 0.07526041666666668,\n",
       "  ('CottageHillReservoir', '3'): 0.07484375,\n",
       "  ('CottageHillReservoir', '4'): 0.09072916666666665,\n",
       "  ('CottageHillReservoir', '5'): 0.12697916666666667,\n",
       "  ('CottageHillReservoir', '6'): 0.1919791666666667,\n",
       "  ('CottageHillReservoir', '7'): 0.22213541666666667,\n",
       "  ('CottageHillReservoir', '8'): 0.20869791666666668,\n",
       "  ('CottageHillReservoir', '9'): 0.19890625000000003,\n",
       "  ('CottageHillReservoir', '10'): 0.1835416666666667,\n",
       "  ('CottageHillReservoir', '11'): 0.17895833333333333,\n",
       "  ('CottageHillReservoir', '12'): 0.17234375000000002,\n",
       "  ('CottageHillReservoir', '13'): 0.17796875,\n",
       "  ('CrowboroughReservoir', '1'): 0.08421875,\n",
       "  ('CrowboroughReservoir', '2'): 0.09041666666666666,\n",
       "  ('CrowboroughReservoir', '3'): 0.0796875,\n",
       "  ('CrowboroughReservoir', '4'): 0.09359374999999999,\n",
       "  ('CrowboroughReservoir', '5'): 0.1274479166666667,\n",
       "  ('CrowboroughReservoir', '6'): 0.19161458333333337,\n",
       "  ('CrowboroughReservoir', '7'): 0.2136458333333333,\n",
       "  ('CrowboroughReservoir', '8'): 0.19572916666666665,\n",
       "  ('CrowboroughReservoir', '9'): 0.1784375,\n",
       "  ('CrowboroughReservoir', '10'): 0.145625,\n",
       "  ('CrowboroughReservoir', '11'): 0.13192708333333333,\n",
       "  ('CrowboroughReservoir', '12'): 0.14911458333333333,\n",
       "  ('CrowboroughReservoir', '13'): 0.13234375,\n",
       "  ('CuckfieldReservoir', '1'): 0.06031249999999999,\n",
       "  ('CuckfieldReservoir', '2'): 0.05786458333333332,\n",
       "  ('CuckfieldReservoir', '3'): 0.05765624999999999,\n",
       "  ('CuckfieldReservoir', '4'): 0.065625,\n",
       "  ('CuckfieldReservoir', '5'): 0.13,\n",
       "  ('CuckfieldReservoir', '6'): 0.21786458333333333,\n",
       "  ('CuckfieldReservoir', '7'): 0.26234375,\n",
       "  ('CuckfieldReservoir', '8'): 0.23713541666666668,\n",
       "  ('CuckfieldReservoir', '9'): 0.22109375,\n",
       "  ('CuckfieldReservoir', '10'): 0.21479166666666663,\n",
       "  ('CuckfieldReservoir', '11'): 0.1970833333333333,\n",
       "  ('CuckfieldReservoir', '12'): 0.20343750000000002,\n",
       "  ('CuckfieldReservoir', '13'): 0.17156249999999998,\n",
       "  ('GrovelandsReservoir', '1'): 0.03557291666666666,\n",
       "  ('GrovelandsReservoir', '2'): 0.033489583333333336,\n",
       "  ('GrovelandsReservoir', '3'): 0.03296875,\n",
       "  ('GrovelandsReservoir', '4'): 0.03677083333333333,\n",
       "  ('GrovelandsReservoir', '5'): 0.06510416666666667,\n",
       "  ('GrovelandsReservoir', '6'): 0.12734375,\n",
       "  ('GrovelandsReservoir', '7'): 0.15208333333333332,\n",
       "  ('GrovelandsReservoir', '8'): 0.12999999999999998,\n",
       "  ('GrovelandsReservoir', '9'): 0.11447916666666667,\n",
       "  ('GrovelandsReservoir', '10'): 0.10203125,\n",
       "  ('GrovelandsReservoir', '11'): 0.09661458333333332,\n",
       "  ('GrovelandsReservoir', '12'): 0.09046875,\n",
       "  ('GrovelandsReservoir', '13'): 0.08838541666666666,\n",
       "  ('HorstedKeynesReservoir', '1'): 0.10765625,\n",
       "  ('HorstedKeynesReservoir', '2'): 0.11328125,\n",
       "  ('HorstedKeynesReservoir', '3'): 0.11619791666666666,\n",
       "  ('HorstedKeynesReservoir', '4'): 0.11546875,\n",
       "  ('HorstedKeynesReservoir', '5'): 0.15708333333333332,\n",
       "  ('HorstedKeynesReservoir', '6'): 0.27671874999999996,\n",
       "  ('HorstedKeynesReservoir', '7'): 0.35135416666666663,\n",
       "  ('HorstedKeynesReservoir', '8'): 0.32447916666666665,\n",
       "  ('HorstedKeynesReservoir', '9'): 0.29833333333333334,\n",
       "  ('HorstedKeynesReservoir', '10'): 0.27223958333333337,\n",
       "  ('HorstedKeynesReservoir', '11'): 0.2696354166666667,\n",
       "  ('HorstedKeynesReservoir', '12'): 0.2577083333333334,\n",
       "  ('HorstedKeynesReservoir', '13'): 0.25276041666666665,\n",
       "  ('HourneFarmReservoir', '1'): 0.0203125,\n",
       "  ('HourneFarmReservoir', '2'): 0.019635416666666666,\n",
       "  ('HourneFarmReservoir', '3'): 0.019739583333333335,\n",
       "  ('HourneFarmReservoir', '4'): 0.021354166666666664,\n",
       "  ('HourneFarmReservoir', '5'): 0.029375000000000002,\n",
       "  ('HourneFarmReservoir', '6'): 0.052656249999999995,\n",
       "  ('HourneFarmReservoir', '7'): 0.0603125,\n",
       "  ('HourneFarmReservoir', '8'): 0.05458333333333334,\n",
       "  ('HourneFarmReservoir', '9'): 0.04942708333333332,\n",
       "  ('HourneFarmReservoir', '10'): 0.043020833333333335,\n",
       "  ('HourneFarmReservoir', '11'): 0.045729166666666675,\n",
       "  ('HourneFarmReservoir', '12'): 0.042604166666666665,\n",
       "  ('HourneFarmReservoir', '13'): 0.043750000000000004,\n",
       "  ('NutleyReservoir', '1'): 0.044375000000000005,\n",
       "  ('NutleyReservoir', '2'): 0.042604166666666665,\n",
       "  ('NutleyReservoir', '3'): 0.04296875,\n",
       "  ('NutleyReservoir', '4'): 0.04317708333333334,\n",
       "  ('NutleyReservoir', '5'): 0.062135416666666665,\n",
       "  ('NutleyReservoir', '6'): 0.10760416666666667,\n",
       "  ('NutleyReservoir', '7'): 0.13182291666666668,\n",
       "  ('NutleyReservoir', '8'): 0.11432291666666668,\n",
       "  ('NutleyReservoir', '9'): 0.11552083333333335,\n",
       "  ('NutleyReservoir', '10'): 0.09734375,\n",
       "  ('NutleyReservoir', '11'): 0.09265625,\n",
       "  ('NutleyReservoir', '12'): 0.090625,\n",
       "  ('NutleyReservoir', '13'): 0.08947916666666667,\n",
       "  ('PopeswoodReservoir', '1'): 0.06286458333333333,\n",
       "  ('PopeswoodReservoir', '2'): 0.06203125,\n",
       "  ('PopeswoodReservoir', '3'): 0.06604166666666667,\n",
       "  ('PopeswoodReservoir', '4'): 0.07343749999999999,\n",
       "  ('PopeswoodReservoir', '5'): 0.12192708333333335,\n",
       "  ('PopeswoodReservoir', '6'): 0.2333333333333333,\n",
       "  ('PopeswoodReservoir', '7'): 0.2738020833333333,\n",
       "  ('PopeswoodReservoir', '8'): 0.23,\n",
       "  ('PopeswoodReservoir', '9'): 0.2024479166666667,\n",
       "  ('PopeswoodReservoir', '10'): 0.1896875,\n",
       "  ('PopeswoodReservoir', '11'): 0.17734375,\n",
       "  ('PopeswoodReservoir', '12'): 0.166875,\n",
       "  ('PopeswoodReservoir', '13'): 0.16541666666666666,\n",
       "  ('SelsfieldReservoir', '1'): 0.06536458333333332,\n",
       "  ('SelsfieldReservoir', '2'): 0.062447916666666665,\n",
       "  ('SelsfieldReservoir', '3'): 0.06390625000000001,\n",
       "  ('SelsfieldReservoir', '4'): 0.07182291666666667,\n",
       "  ('SelsfieldReservoir', '5'): 0.09703125000000001,\n",
       "  ('SelsfieldReservoir', '6'): 0.15817708333333333,\n",
       "  ('SelsfieldReservoir', '7'): 0.17817708333333335,\n",
       "  ('SelsfieldReservoir', '8'): 0.16328124999999996,\n",
       "  ('SelsfieldReservoir', '9'): 0.14958333333333332,\n",
       "  ('SelsfieldReservoir', '10'): 0.13359374999999998,\n",
       "  ('SelsfieldReservoir', '11'): 0.12916666666666668,\n",
       "  ('SelsfieldReservoir', '12'): 0.12625,\n",
       "  ('SelsfieldReservoir', '13'): 0.12447916666666668,\n",
       "  ('StFrancisReservoir', '1'): 0.05078125,\n",
       "  ('StFrancisReservoir', '2'): 0.04536458333333334,\n",
       "  ('StFrancisReservoir', '3'): 0.04182291666666666,\n",
       "  ('StFrancisReservoir', '4'): 0.04572916666666666,\n",
       "  ('StFrancisReservoir', '5'): 0.06567708333333334,\n",
       "  ('StFrancisReservoir', '6'): 0.14328125,\n",
       "  ('StFrancisReservoir', '7'): 0.17416666666666666,\n",
       "  ('StFrancisReservoir', '8'): 0.17244791666666667,\n",
       "  ('StFrancisReservoir', '9'): 0.14604166666666665,\n",
       "  ('StFrancisReservoir', '10'): 0.13161458333333334,\n",
       "  ('StFrancisReservoir', '11'): 0.125,\n",
       "  ('StFrancisReservoir', '12'): 0.11499999999999999,\n",
       "  ('StFrancisReservoir', '13'): 0.12083333333333333,\n",
       "  ('UckfieldReservoir', '1'): 0,\n",
       "  ('UckfieldReservoir', '2'): 0,\n",
       "  ('UckfieldReservoir', '3'): 0,\n",
       "  ('UckfieldReservoir', '4'): 0,\n",
       "  ('UckfieldReservoir', '5'): 0,\n",
       "  ('UckfieldReservoir', '6'): 0,\n",
       "  ('UckfieldReservoir', '7'): 0,\n",
       "  ('UckfieldReservoir', '8'): 0,\n",
       "  ('UckfieldReservoir', '9'): 0,\n",
       "  ('UckfieldReservoir', '10'): 0,\n",
       "  ('UckfieldReservoir', '11'): 0,\n",
       "  ('UckfieldReservoir', '12'): 0,\n",
       "  ('UckfieldReservoir', '13'): 0,\n",
       "  ('WychCrossReservoir', '1'): 0.25796875,\n",
       "  ('WychCrossReservoir', '2'): 0.25505208333333335,\n",
       "  ('WychCrossReservoir', '3'): 0.2508854166666667,\n",
       "  ('WychCrossReservoir', '4'): 0.27276041666666667,\n",
       "  ('WychCrossReservoir', '5'): 0.38354166666666667,\n",
       "  ('WychCrossReservoir', '6'): 0.5858333333333333,\n",
       "  ('WychCrossReservoir', '7'): 0.6483333333333333,\n",
       "  ('WychCrossReservoir', '8'): 0.5880729166666666,\n",
       "  ('WychCrossReservoir', '9'): 0.5568750000000001,\n",
       "  ('WychCrossReservoir', '10'): 0.5169791666666667,\n",
       "  ('WychCrossReservoir', '11'): 0.50765625,\n",
       "  ('WychCrossReservoir', '12'): 0.48104166666666665,\n",
       "  ('WychCrossReservoir', '13'): 0.4753645833333333},\n",
       " 'discr_pump_rate': {('Cockhaise', 'GrovelandsReservoir'): 0.0828,\n",
       "  ('WeirWood', 'WychCrossReservoir'): 0.126,\n",
       "  ('ArdinglyShellbrook', 'CuckfieldReservoir'): 0.125,\n",
       "  ('Barcombe1', 'ButlersGreenReservoir'): '0',\n",
       "  ('Barcombe1', 'StFrancisReservoir'): '0',\n",
       "  ('Barcombe1', 'HorstedKeynesReservoir'): 1.666666667,\n",
       "  ('Barcombe1', 'UckfieldReservoir'): 0.09,\n",
       "  ('Barcombe1', 'PopeswoodReservoir'): '0',\n",
       "  ('Groombridge', 'HourneFarmReservoir'): 0.126,\n",
       "  ('CogginsMill', 'BestBeechReservoir'): 0.0612,\n",
       "  ('GrovelandsReservoir', 'SelsfieldReservoir'): 0.18,\n",
       "  ('ButlersGreenReservoir', 'CuckfieldReservoir'): 0.108,\n",
       "  ('HorstedKeynesReservoir', 'GrovelandsReservoir'): 0.25,\n",
       "  ('HorstedKeynesReservoir', 'BalcombeReservoir'): 0.31,\n",
       "  ('HorstedKeynesReservoir', 'CuckfieldReservoir'): 0.14,\n",
       "  ('HorstedKeynesReservoir', 'ButlersGreenReservoir'): '0',\n",
       "  ('HorstedKeynesReservoir', 'StFrancisReservoir'): '0',\n",
       "  ('HorstedKeynesReservoir', 'WychCrossReservoir'): 0.54,\n",
       "  ('HorstedKeynesReservoir', 'AshdownReservoir'): 0.293,\n",
       "  ('UckfieldReservoir', 'NutleyReservoir'): '0',\n",
       "  ('PopeswoodReservoir', 'ChilliesReservoir'): '0',\n",
       "  ('PopeswoodReservoir', 'CottageHillReservoir'): 0.1332,\n",
       "  ('AshdownReservoir', 'CrowboroughReservoir'): '0',\n",
       "  ('AshdownReservoir', 'CottageHillReservoir'): '0',\n",
       "  ('ChilliesReservoir', 'CrowboroughReservoir'): 0.054,\n",
       "  ('CottageHillReservoir', 'BestBeechReservoir'): '0',\n",
       "  ('HourneFarmReservoir', 'CrowboroughReservoir'): 0.1152},\n",
       " 'var_pump_max_output': {('Cockhaise', 'GrovelandsReservoir'): '0',\n",
       "  ('WeirWood', 'WychCrossReservoir'): '0',\n",
       "  ('ArdinglyShellbrook', 'CuckfieldReservoir'): '0',\n",
       "  ('Barcombe1', 'ButlersGreenReservoir'): 0.18,\n",
       "  ('Barcombe1', 'StFrancisReservoir'): 0.333333333,\n",
       "  ('Barcombe1', 'HorstedKeynesReservoir'): '0',\n",
       "  ('Barcombe1', 'UckfieldReservoir'): '0',\n",
       "  ('Barcombe1', 'PopeswoodReservoir'): 0.432,\n",
       "  ('Groombridge', 'HourneFarmReservoir'): '0',\n",
       "  ('CogginsMill', 'BestBeechReservoir'): '0',\n",
       "  ('GrovelandsReservoir', 'SelsfieldReservoir'): '0',\n",
       "  ('ButlersGreenReservoir', 'CuckfieldReservoir'): '0',\n",
       "  ('HorstedKeynesReservoir', 'GrovelandsReservoir'): '0',\n",
       "  ('HorstedKeynesReservoir', 'BalcombeReservoir'): '0',\n",
       "  ('HorstedKeynesReservoir', 'CuckfieldReservoir'): '0',\n",
       "  ('HorstedKeynesReservoir', 'ButlersGreenReservoir'): 0.21,\n",
       "  ('HorstedKeynesReservoir', 'StFrancisReservoir'): 0.333333333333333,\n",
       "  ('HorstedKeynesReservoir', 'WychCrossReservoir'): '0',\n",
       "  ('HorstedKeynesReservoir', 'AshdownReservoir'): '0',\n",
       "  ('UckfieldReservoir', 'NutleyReservoir'): 0.0972,\n",
       "  ('PopeswoodReservoir', 'ChilliesReservoir'): 0.135,\n",
       "  ('PopeswoodReservoir', 'CottageHillReservoir'): '0',\n",
       "  ('AshdownReservoir', 'CrowboroughReservoir'): 0.162,\n",
       "  ('AshdownReservoir', 'CottageHillReservoir'): 0.18,\n",
       "  ('ChilliesReservoir', 'CrowboroughReservoir'): '0',\n",
       "  ('CottageHillReservoir', 'BestBeechReservoir'): 0.0648,\n",
       "  ('HourneFarmReservoir', 'CrowboroughReservoir'): '0'},\n",
       " 'softmax_level': {'SelsfieldReservoir': 4.5600000000000005,\n",
       "  'GrovelandsReservoir': 3.6799999999999997,\n",
       "  'BalcombeReservoir': 3.44,\n",
       "  'CuckfieldReservoir': 3.6799999999999997,\n",
       "  'ButlersGreenReservoir': 7.120000000000001,\n",
       "  'StFrancisReservoir': 6.96,\n",
       "  'HorstedKeynesReservoir': 29.28,\n",
       "  'WychCrossReservoir': 10.88,\n",
       "  'NutleyReservoir': 2.68,\n",
       "  'UckfieldReservoir': 1.0,\n",
       "  'PopeswoodReservoir': 15.280000000000001,\n",
       "  'CrowboroughReservoir': 2.5600000000000005,\n",
       "  'AshdownReservoir': 8.16,\n",
       "  'ChilliesReservoir': 0.96,\n",
       "  'CottageHillReservoir': 2.8800000000000003,\n",
       "  'BestBeechReservoir': 2.08,\n",
       "  'HourneFarmReservoir': 0.5599999999999999},\n",
       " 'softmin_level': {'SelsfieldReservoir': 3.9899999999999998,\n",
       "  'GrovelandsReservoir': 3.2199999999999998,\n",
       "  'BalcombeReservoir': 3.01,\n",
       "  'CuckfieldReservoir': 3.2199999999999998,\n",
       "  'ButlersGreenReservoir': 6.2299999999999995,\n",
       "  'StFrancisReservoir': 6.089999999999999,\n",
       "  'HorstedKeynesReservoir': 25.62,\n",
       "  'WychCrossReservoir': 9.52,\n",
       "  'NutleyReservoir': 2.3449999999999998,\n",
       "  'UckfieldReservoir': 0.875,\n",
       "  'PopeswoodReservoir': 13.370000000000001,\n",
       "  'CrowboroughReservoir': 2.2399999999999998,\n",
       "  'AshdownReservoir': 7.139999999999999,\n",
       "  'ChilliesReservoir': 0.84,\n",
       "  'CottageHillReservoir': 2.52,\n",
       "  'BestBeechReservoir': 1.8199999999999998,\n",
       "  'HourneFarmReservoir': 0.48999999999999994},\n",
       " 'hardmax_level': {'SelsfieldReservoir': 5.7,\n",
       "  'GrovelandsReservoir': 4.6,\n",
       "  'BalcombeReservoir': 4.3,\n",
       "  'CuckfieldReservoir': 4.6,\n",
       "  'ButlersGreenReservoir': 8.9,\n",
       "  'StFrancisReservoir': 8.7,\n",
       "  'HorstedKeynesReservoir': 36.6,\n",
       "  'WychCrossReservoir': 13.6,\n",
       "  'NutleyReservoir': 3.35,\n",
       "  'UckfieldReservoir': 1.25,\n",
       "  'PopeswoodReservoir': 19.1,\n",
       "  'CrowboroughReservoir': 3.2,\n",
       "  'AshdownReservoir': 10.2,\n",
       "  'ChilliesReservoir': 1.2,\n",
       "  'CottageHillReservoir': 3.6,\n",
       "  'BestBeechReservoir': 2.6,\n",
       "  'HourneFarmReservoir': 0.7},\n",
       " 'hardmin_level': {'SelsfieldReservoir': 0.057,\n",
       "  'GrovelandsReservoir': 0.046,\n",
       "  'BalcombeReservoir': 0.043,\n",
       "  'CuckfieldReservoir': 0.046,\n",
       "  'ButlersGreenReservoir': 0.08900000000000001,\n",
       "  'StFrancisReservoir': 0.087,\n",
       "  'HorstedKeynesReservoir': 0.36600000000000005,\n",
       "  'WychCrossReservoir': 0.136,\n",
       "  'NutleyReservoir': 0.0335,\n",
       "  'UckfieldReservoir': 0.0125,\n",
       "  'PopeswoodReservoir': 0.19100000000000003,\n",
       "  'CrowboroughReservoir': 0.032,\n",
       "  'AshdownReservoir': 0.102,\n",
       "  'ChilliesReservoir': 0.012,\n",
       "  'CottageHillReservoir': 0.036000000000000004,\n",
       "  'BestBeechReservoir': 0.026000000000000002,\n",
       "  'HourneFarmReservoir': 0.006999999999999999},\n",
       " 'tw_output': {'Cockhaise': 0.0,\n",
       "  'WeirWood': 0.0,\n",
       "  'ArdinglyShellbrook': 3.0,\n",
       "  'Barcombe1': 51.1008,\n",
       "  'Barcombe2': 0.0,\n",
       "  'Groombridge': 2.8992,\n",
       "  'CogginsMill': 1.3008,\n",
       "  'ForestRow': 0.0},\n",
       " 'start_level': {'SelsfieldReservoir': 4.275,\n",
       "  'GrovelandsReservoir': 3.45,\n",
       "  'BalcombeReservoir': 3.225,\n",
       "  'CuckfieldReservoir': 3.45,\n",
       "  'ButlersGreenReservoir': 6.675,\n",
       "  'StFrancisReservoir': 6.525,\n",
       "  'HorstedKeynesReservoir': 27.45,\n",
       "  'WychCrossReservoir': 10.2,\n",
       "  'NutleyReservoir': 2.5125,\n",
       "  'UckfieldReservoir': 0.9375,\n",
       "  'PopeswoodReservoir': 14.325,\n",
       "  'CrowboroughReservoir': 2.4,\n",
       "  'AshdownReservoir': 7.65,\n",
       "  'ChilliesReservoir': 0.9,\n",
       "  'CottageHillReservoir': 2.7,\n",
       "  'BestBeechReservoir': 1.95,\n",
       "  'HourneFarmReservoir': 0.525}}"
      ]
     },
     "execution_count": 13,
     "metadata": {},
     "output_type": "execute_result"
    }
   ],
   "source": [
    "data1[None]"
   ]
  },
  {
   "cell_type": "markdown",
   "metadata": {},
   "source": [
    "### Outputs"
   ]
  },
  {
   "cell_type": "code",
   "execution_count": 12,
   "metadata": {},
   "outputs": [],
   "source": [
    "# Create pandas data frame of all transfers for each epoch for each node\n",
    "\n",
    "temp_df = pd.DataFrame.from_dict(discr_pump_rate_dict, orient='index')\n",
    "temp_df.columns = ['disc_rate']\n",
    "\n",
    "x = list()\n",
    "y = list()\n",
    "# for v in mod.component_objects(Var, active=True):\n",
    "for counter, v in enumerate(mod.component_objects(Var, active=True)):\n",
    "    for index in v:\n",
    "        if v[index].value != None and counter == 1:\n",
    "            x.append(str(index))\n",
    "            y.append(float(temp_df['disc_rate'].loc[[(index[0], index[1])]]) * v[index].value)    #  very dodgy\n",
    "        elif v[index].value != None and counter == 0:\n",
    "            x.append(str(index))\n",
    "            y.append(v[index].value) \n",
    "\n",
    "transfer_df = pd.DataFrame({'Connection': x, 'Transfer Volume': y})\n",
    "\n",
    "transfer_df['Connection'] = transfer_df['Connection'].map(lambda x: x.strip(')(').replace(\"'\", \"\").replace(\" \", \"\"))\n",
    "transfer_df['Start Node'] = transfer_df['Connection'].str.split(',').str[0]\n",
    "transfer_df['End Node'] = transfer_df['Connection'].str.split(',').str[1]\n",
    "transfer_df['Epoch'] = pd.to_numeric(transfer_df['Connection']\n",
    "                        .str.split(',')\n",
    "                        .str[2])\n",
    "\n",
    "transfer_df = transfer_df[['Start Node', 'End Node', 'Epoch', 'Transfer Volume']]\n",
    "# transfer_df.head()"
   ]
  },
  {
   "cell_type": "code",
   "execution_count": 13,
   "metadata": {},
   "outputs": [],
   "source": [
    "# Extract from outputs TRANSFERS IN, TRANSFERS OUT\n",
    "\n",
    "#FIRST EXTRACT TRANSFERS IN ONLY\n",
    "transfers_in_dict = {}\n",
    "for SR in reservoirs:\n",
    "    transfers_in_dict[SR] = {} \n",
    "    for epoch in time_list:\n",
    "        transfers_in_dict[SR][epoch] = {}\n",
    "        transfers_in_dict[SR][epoch] = transfer_df['Transfer Volume'][(transfer_df['End Node'] == SR) & (transfer_df['Epoch'] == epoch)].values.sum()\n",
    "transfers_in_df = pd.DataFrame(transfers_in_dict).transpose()\n",
    "\n",
    "#FIRST EXTRACT TRANSFERS OUT ONLY\n",
    "transfers_out_dict = {}\n",
    "for SR in reservoirs:\n",
    "    transfers_out_dict[SR] = {} \n",
    "    for epoch in time_list:\n",
    "        transfers_out_dict[SR][epoch] = {}\n",
    "        transfers_out_dict[SR][epoch] = transfer_df['Transfer Volume'][(transfer_df['Start Node'] == SR) & (transfer_df['Epoch'] == epoch)].values.sum()\n",
    "transfers_out_df = pd.DataFrame(transfers_out_dict).transpose()\n",
    "# transfers_out_df"
   ]
  },
  {
   "cell_type": "code",
   "execution_count": 14,
   "metadata": {},
   "outputs": [],
   "source": [
    "# Extract demands from input data in same data frame format\n",
    "# mod.VarFlow.pprint()"
   ]
  },
  {
   "cell_type": "code",
   "execution_count": 15,
   "metadata": {},
   "outputs": [],
   "source": [
    "# Sum all influx and outflux transfers for each node\n",
    "transfer_dict = {}\n",
    "for SR in reservoirs:\n",
    "    transfer_dict[SR] = {} \n",
    "    for epoch in time_list:\n",
    "        transfer_dict[SR][epoch] = {} \n",
    "        transfer_dict[SR][epoch] = transfer_df['Transfer Volume'][(transfer_df['End Node'] == SR) & (transfer_df['Epoch'] == epoch)].values.sum() \\\n",
    "            - transfer_df['Transfer Volume'][(transfer_df['Start Node'] == SR) & (transfer_df['Epoch'] == epoch)].values.sum() \\\n",
    "            - demand_dict[(SR, str(epoch))]\n",
    "\n",
    "\n",
    "SR_diffs =  pd.DataFrame(transfer_dict).transpose()\n",
    "# SR_diffs.head()"
   ]
  },
  {
   "cell_type": "code",
   "execution_count": 16,
   "metadata": {},
   "outputs": [
    {
     "data": {
      "application/javascript": [
       "/* Put everything inside the global mpl namespace */\n",
       "window.mpl = {};\n",
       "\n",
       "\n",
       "mpl.get_websocket_type = function() {\n",
       "    if (typeof(WebSocket) !== 'undefined') {\n",
       "        return WebSocket;\n",
       "    } else if (typeof(MozWebSocket) !== 'undefined') {\n",
       "        return MozWebSocket;\n",
       "    } else {\n",
       "        alert('Your browser does not have WebSocket support.' +\n",
       "              'Please try Chrome, Safari or Firefox ≥ 6. ' +\n",
       "              'Firefox 4 and 5 are also supported but you ' +\n",
       "              'have to enable WebSockets in about:config.');\n",
       "    };\n",
       "}\n",
       "\n",
       "mpl.figure = function(figure_id, websocket, ondownload, parent_element) {\n",
       "    this.id = figure_id;\n",
       "\n",
       "    this.ws = websocket;\n",
       "\n",
       "    this.supports_binary = (this.ws.binaryType != undefined);\n",
       "\n",
       "    if (!this.supports_binary) {\n",
       "        var warnings = document.getElementById(\"mpl-warnings\");\n",
       "        if (warnings) {\n",
       "            warnings.style.display = 'block';\n",
       "            warnings.textContent = (\n",
       "                \"This browser does not support binary websocket messages. \" +\n",
       "                    \"Performance may be slow.\");\n",
       "        }\n",
       "    }\n",
       "\n",
       "    this.imageObj = new Image();\n",
       "\n",
       "    this.context = undefined;\n",
       "    this.message = undefined;\n",
       "    this.canvas = undefined;\n",
       "    this.rubberband_canvas = undefined;\n",
       "    this.rubberband_context = undefined;\n",
       "    this.format_dropdown = undefined;\n",
       "\n",
       "    this.image_mode = 'full';\n",
       "\n",
       "    this.root = $('<div/>');\n",
       "    this._root_extra_style(this.root)\n",
       "    this.root.attr('style', 'display: inline-block');\n",
       "\n",
       "    $(parent_element).append(this.root);\n",
       "\n",
       "    this._init_header(this);\n",
       "    this._init_canvas(this);\n",
       "    this._init_toolbar(this);\n",
       "\n",
       "    var fig = this;\n",
       "\n",
       "    this.waiting = false;\n",
       "\n",
       "    this.ws.onopen =  function () {\n",
       "            fig.send_message(\"supports_binary\", {value: fig.supports_binary});\n",
       "            fig.send_message(\"send_image_mode\", {});\n",
       "            if (mpl.ratio != 1) {\n",
       "                fig.send_message(\"set_dpi_ratio\", {'dpi_ratio': mpl.ratio});\n",
       "            }\n",
       "            fig.send_message(\"refresh\", {});\n",
       "        }\n",
       "\n",
       "    this.imageObj.onload = function() {\n",
       "            if (fig.image_mode == 'full') {\n",
       "                // Full images could contain transparency (where diff images\n",
       "                // almost always do), so we need to clear the canvas so that\n",
       "                // there is no ghosting.\n",
       "                fig.context.clearRect(0, 0, fig.canvas.width, fig.canvas.height);\n",
       "            }\n",
       "            fig.context.drawImage(fig.imageObj, 0, 0);\n",
       "        };\n",
       "\n",
       "    this.imageObj.onunload = function() {\n",
       "        fig.ws.close();\n",
       "    }\n",
       "\n",
       "    this.ws.onmessage = this._make_on_message_function(this);\n",
       "\n",
       "    this.ondownload = ondownload;\n",
       "}\n",
       "\n",
       "mpl.figure.prototype._init_header = function() {\n",
       "    var titlebar = $(\n",
       "        '<div class=\"ui-dialog-titlebar ui-widget-header ui-corner-all ' +\n",
       "        'ui-helper-clearfix\"/>');\n",
       "    var titletext = $(\n",
       "        '<div class=\"ui-dialog-title\" style=\"width: 100%; ' +\n",
       "        'text-align: center; padding: 3px;\"/>');\n",
       "    titlebar.append(titletext)\n",
       "    this.root.append(titlebar);\n",
       "    this.header = titletext[0];\n",
       "}\n",
       "\n",
       "\n",
       "\n",
       "mpl.figure.prototype._canvas_extra_style = function(canvas_div) {\n",
       "\n",
       "}\n",
       "\n",
       "\n",
       "mpl.figure.prototype._root_extra_style = function(canvas_div) {\n",
       "\n",
       "}\n",
       "\n",
       "mpl.figure.prototype._init_canvas = function() {\n",
       "    var fig = this;\n",
       "\n",
       "    var canvas_div = $('<div/>');\n",
       "\n",
       "    canvas_div.attr('style', 'position: relative; clear: both; outline: 0');\n",
       "\n",
       "    function canvas_keyboard_event(event) {\n",
       "        return fig.key_event(event, event['data']);\n",
       "    }\n",
       "\n",
       "    canvas_div.keydown('key_press', canvas_keyboard_event);\n",
       "    canvas_div.keyup('key_release', canvas_keyboard_event);\n",
       "    this.canvas_div = canvas_div\n",
       "    this._canvas_extra_style(canvas_div)\n",
       "    this.root.append(canvas_div);\n",
       "\n",
       "    var canvas = $('<canvas/>');\n",
       "    canvas.addClass('mpl-canvas');\n",
       "    canvas.attr('style', \"left: 0; top: 0; z-index: 0; outline: 0\")\n",
       "\n",
       "    this.canvas = canvas[0];\n",
       "    this.context = canvas[0].getContext(\"2d\");\n",
       "\n",
       "    var backingStore = this.context.backingStorePixelRatio ||\n",
       "\tthis.context.webkitBackingStorePixelRatio ||\n",
       "\tthis.context.mozBackingStorePixelRatio ||\n",
       "\tthis.context.msBackingStorePixelRatio ||\n",
       "\tthis.context.oBackingStorePixelRatio ||\n",
       "\tthis.context.backingStorePixelRatio || 1;\n",
       "\n",
       "    mpl.ratio = (window.devicePixelRatio || 1) / backingStore;\n",
       "\n",
       "    var rubberband = $('<canvas/>');\n",
       "    rubberband.attr('style', \"position: absolute; left: 0; top: 0; z-index: 1;\")\n",
       "\n",
       "    var pass_mouse_events = true;\n",
       "\n",
       "    canvas_div.resizable({\n",
       "        start: function(event, ui) {\n",
       "            pass_mouse_events = false;\n",
       "        },\n",
       "        resize: function(event, ui) {\n",
       "            fig.request_resize(ui.size.width, ui.size.height);\n",
       "        },\n",
       "        stop: function(event, ui) {\n",
       "            pass_mouse_events = true;\n",
       "            fig.request_resize(ui.size.width, ui.size.height);\n",
       "        },\n",
       "    });\n",
       "\n",
       "    function mouse_event_fn(event) {\n",
       "        if (pass_mouse_events)\n",
       "            return fig.mouse_event(event, event['data']);\n",
       "    }\n",
       "\n",
       "    rubberband.mousedown('button_press', mouse_event_fn);\n",
       "    rubberband.mouseup('button_release', mouse_event_fn);\n",
       "    // Throttle sequential mouse events to 1 every 20ms.\n",
       "    rubberband.mousemove('motion_notify', mouse_event_fn);\n",
       "\n",
       "    rubberband.mouseenter('figure_enter', mouse_event_fn);\n",
       "    rubberband.mouseleave('figure_leave', mouse_event_fn);\n",
       "\n",
       "    canvas_div.on(\"wheel\", function (event) {\n",
       "        event = event.originalEvent;\n",
       "        event['data'] = 'scroll'\n",
       "        if (event.deltaY < 0) {\n",
       "            event.step = 1;\n",
       "        } else {\n",
       "            event.step = -1;\n",
       "        }\n",
       "        mouse_event_fn(event);\n",
       "    });\n",
       "\n",
       "    canvas_div.append(canvas);\n",
       "    canvas_div.append(rubberband);\n",
       "\n",
       "    this.rubberband = rubberband;\n",
       "    this.rubberband_canvas = rubberband[0];\n",
       "    this.rubberband_context = rubberband[0].getContext(\"2d\");\n",
       "    this.rubberband_context.strokeStyle = \"#000000\";\n",
       "\n",
       "    this._resize_canvas = function(width, height) {\n",
       "        // Keep the size of the canvas, canvas container, and rubber band\n",
       "        // canvas in synch.\n",
       "        canvas_div.css('width', width)\n",
       "        canvas_div.css('height', height)\n",
       "\n",
       "        canvas.attr('width', width * mpl.ratio);\n",
       "        canvas.attr('height', height * mpl.ratio);\n",
       "        canvas.attr('style', 'width: ' + width + 'px; height: ' + height + 'px;');\n",
       "\n",
       "        rubberband.attr('width', width);\n",
       "        rubberband.attr('height', height);\n",
       "    }\n",
       "\n",
       "    // Set the figure to an initial 600x600px, this will subsequently be updated\n",
       "    // upon first draw.\n",
       "    this._resize_canvas(600, 600);\n",
       "\n",
       "    // Disable right mouse context menu.\n",
       "    $(this.rubberband_canvas).bind(\"contextmenu\",function(e){\n",
       "        return false;\n",
       "    });\n",
       "\n",
       "    function set_focus () {\n",
       "        canvas.focus();\n",
       "        canvas_div.focus();\n",
       "    }\n",
       "\n",
       "    window.setTimeout(set_focus, 100);\n",
       "}\n",
       "\n",
       "mpl.figure.prototype._init_toolbar = function() {\n",
       "    var fig = this;\n",
       "\n",
       "    var nav_element = $('<div/>')\n",
       "    nav_element.attr('style', 'width: 100%');\n",
       "    this.root.append(nav_element);\n",
       "\n",
       "    // Define a callback function for later on.\n",
       "    function toolbar_event(event) {\n",
       "        return fig.toolbar_button_onclick(event['data']);\n",
       "    }\n",
       "    function toolbar_mouse_event(event) {\n",
       "        return fig.toolbar_button_onmouseover(event['data']);\n",
       "    }\n",
       "\n",
       "    for(var toolbar_ind in mpl.toolbar_items) {\n",
       "        var name = mpl.toolbar_items[toolbar_ind][0];\n",
       "        var tooltip = mpl.toolbar_items[toolbar_ind][1];\n",
       "        var image = mpl.toolbar_items[toolbar_ind][2];\n",
       "        var method_name = mpl.toolbar_items[toolbar_ind][3];\n",
       "\n",
       "        if (!name) {\n",
       "            // put a spacer in here.\n",
       "            continue;\n",
       "        }\n",
       "        var button = $('<button/>');\n",
       "        button.addClass('ui-button ui-widget ui-state-default ui-corner-all ' +\n",
       "                        'ui-button-icon-only');\n",
       "        button.attr('role', 'button');\n",
       "        button.attr('aria-disabled', 'false');\n",
       "        button.click(method_name, toolbar_event);\n",
       "        button.mouseover(tooltip, toolbar_mouse_event);\n",
       "\n",
       "        var icon_img = $('<span/>');\n",
       "        icon_img.addClass('ui-button-icon-primary ui-icon');\n",
       "        icon_img.addClass(image);\n",
       "        icon_img.addClass('ui-corner-all');\n",
       "\n",
       "        var tooltip_span = $('<span/>');\n",
       "        tooltip_span.addClass('ui-button-text');\n",
       "        tooltip_span.html(tooltip);\n",
       "\n",
       "        button.append(icon_img);\n",
       "        button.append(tooltip_span);\n",
       "\n",
       "        nav_element.append(button);\n",
       "    }\n",
       "\n",
       "    var fmt_picker_span = $('<span/>');\n",
       "\n",
       "    var fmt_picker = $('<select/>');\n",
       "    fmt_picker.addClass('mpl-toolbar-option ui-widget ui-widget-content');\n",
       "    fmt_picker_span.append(fmt_picker);\n",
       "    nav_element.append(fmt_picker_span);\n",
       "    this.format_dropdown = fmt_picker[0];\n",
       "\n",
       "    for (var ind in mpl.extensions) {\n",
       "        var fmt = mpl.extensions[ind];\n",
       "        var option = $(\n",
       "            '<option/>', {selected: fmt === mpl.default_extension}).html(fmt);\n",
       "        fmt_picker.append(option)\n",
       "    }\n",
       "\n",
       "    // Add hover states to the ui-buttons\n",
       "    $( \".ui-button\" ).hover(\n",
       "        function() { $(this).addClass(\"ui-state-hover\");},\n",
       "        function() { $(this).removeClass(\"ui-state-hover\");}\n",
       "    );\n",
       "\n",
       "    var status_bar = $('<span class=\"mpl-message\"/>');\n",
       "    nav_element.append(status_bar);\n",
       "    this.message = status_bar[0];\n",
       "}\n",
       "\n",
       "mpl.figure.prototype.request_resize = function(x_pixels, y_pixels) {\n",
       "    // Request matplotlib to resize the figure. Matplotlib will then trigger a resize in the client,\n",
       "    // which will in turn request a refresh of the image.\n",
       "    this.send_message('resize', {'width': x_pixels, 'height': y_pixels});\n",
       "}\n",
       "\n",
       "mpl.figure.prototype.send_message = function(type, properties) {\n",
       "    properties['type'] = type;\n",
       "    properties['figure_id'] = this.id;\n",
       "    this.ws.send(JSON.stringify(properties));\n",
       "}\n",
       "\n",
       "mpl.figure.prototype.send_draw_message = function() {\n",
       "    if (!this.waiting) {\n",
       "        this.waiting = true;\n",
       "        this.ws.send(JSON.stringify({type: \"draw\", figure_id: this.id}));\n",
       "    }\n",
       "}\n",
       "\n",
       "\n",
       "mpl.figure.prototype.handle_save = function(fig, msg) {\n",
       "    var format_dropdown = fig.format_dropdown;\n",
       "    var format = format_dropdown.options[format_dropdown.selectedIndex].value;\n",
       "    fig.ondownload(fig, format);\n",
       "}\n",
       "\n",
       "\n",
       "mpl.figure.prototype.handle_resize = function(fig, msg) {\n",
       "    var size = msg['size'];\n",
       "    if (size[0] != fig.canvas.width || size[1] != fig.canvas.height) {\n",
       "        fig._resize_canvas(size[0], size[1]);\n",
       "        fig.send_message(\"refresh\", {});\n",
       "    };\n",
       "}\n",
       "\n",
       "mpl.figure.prototype.handle_rubberband = function(fig, msg) {\n",
       "    var x0 = msg['x0'] / mpl.ratio;\n",
       "    var y0 = (fig.canvas.height - msg['y0']) / mpl.ratio;\n",
       "    var x1 = msg['x1'] / mpl.ratio;\n",
       "    var y1 = (fig.canvas.height - msg['y1']) / mpl.ratio;\n",
       "    x0 = Math.floor(x0) + 0.5;\n",
       "    y0 = Math.floor(y0) + 0.5;\n",
       "    x1 = Math.floor(x1) + 0.5;\n",
       "    y1 = Math.floor(y1) + 0.5;\n",
       "    var min_x = Math.min(x0, x1);\n",
       "    var min_y = Math.min(y0, y1);\n",
       "    var width = Math.abs(x1 - x0);\n",
       "    var height = Math.abs(y1 - y0);\n",
       "\n",
       "    fig.rubberband_context.clearRect(\n",
       "        0, 0, fig.canvas.width, fig.canvas.height);\n",
       "\n",
       "    fig.rubberband_context.strokeRect(min_x, min_y, width, height);\n",
       "}\n",
       "\n",
       "mpl.figure.prototype.handle_figure_label = function(fig, msg) {\n",
       "    // Updates the figure title.\n",
       "    fig.header.textContent = msg['label'];\n",
       "}\n",
       "\n",
       "mpl.figure.prototype.handle_cursor = function(fig, msg) {\n",
       "    var cursor = msg['cursor'];\n",
       "    switch(cursor)\n",
       "    {\n",
       "    case 0:\n",
       "        cursor = 'pointer';\n",
       "        break;\n",
       "    case 1:\n",
       "        cursor = 'default';\n",
       "        break;\n",
       "    case 2:\n",
       "        cursor = 'crosshair';\n",
       "        break;\n",
       "    case 3:\n",
       "        cursor = 'move';\n",
       "        break;\n",
       "    }\n",
       "    fig.rubberband_canvas.style.cursor = cursor;\n",
       "}\n",
       "\n",
       "mpl.figure.prototype.handle_message = function(fig, msg) {\n",
       "    fig.message.textContent = msg['message'];\n",
       "}\n",
       "\n",
       "mpl.figure.prototype.handle_draw = function(fig, msg) {\n",
       "    // Request the server to send over a new figure.\n",
       "    fig.send_draw_message();\n",
       "}\n",
       "\n",
       "mpl.figure.prototype.handle_image_mode = function(fig, msg) {\n",
       "    fig.image_mode = msg['mode'];\n",
       "}\n",
       "\n",
       "mpl.figure.prototype.updated_canvas_event = function() {\n",
       "    // Called whenever the canvas gets updated.\n",
       "    this.send_message(\"ack\", {});\n",
       "}\n",
       "\n",
       "// A function to construct a web socket function for onmessage handling.\n",
       "// Called in the figure constructor.\n",
       "mpl.figure.prototype._make_on_message_function = function(fig) {\n",
       "    return function socket_on_message(evt) {\n",
       "        if (evt.data instanceof Blob) {\n",
       "            /* FIXME: We get \"Resource interpreted as Image but\n",
       "             * transferred with MIME type text/plain:\" errors on\n",
       "             * Chrome.  But how to set the MIME type?  It doesn't seem\n",
       "             * to be part of the websocket stream */\n",
       "            evt.data.type = \"image/png\";\n",
       "\n",
       "            /* Free the memory for the previous frames */\n",
       "            if (fig.imageObj.src) {\n",
       "                (window.URL || window.webkitURL).revokeObjectURL(\n",
       "                    fig.imageObj.src);\n",
       "            }\n",
       "\n",
       "            fig.imageObj.src = (window.URL || window.webkitURL).createObjectURL(\n",
       "                evt.data);\n",
       "            fig.updated_canvas_event();\n",
       "            fig.waiting = false;\n",
       "            return;\n",
       "        }\n",
       "        else if (typeof evt.data === 'string' && evt.data.slice(0, 21) == \"data:image/png;base64\") {\n",
       "            fig.imageObj.src = evt.data;\n",
       "            fig.updated_canvas_event();\n",
       "            fig.waiting = false;\n",
       "            return;\n",
       "        }\n",
       "\n",
       "        var msg = JSON.parse(evt.data);\n",
       "        var msg_type = msg['type'];\n",
       "\n",
       "        // Call the  \"handle_{type}\" callback, which takes\n",
       "        // the figure and JSON message as its only arguments.\n",
       "        try {\n",
       "            var callback = fig[\"handle_\" + msg_type];\n",
       "        } catch (e) {\n",
       "            console.log(\"No handler for the '\" + msg_type + \"' message type: \", msg);\n",
       "            return;\n",
       "        }\n",
       "\n",
       "        if (callback) {\n",
       "            try {\n",
       "                // console.log(\"Handling '\" + msg_type + \"' message: \", msg);\n",
       "                callback(fig, msg);\n",
       "            } catch (e) {\n",
       "                console.log(\"Exception inside the 'handler_\" + msg_type + \"' callback:\", e, e.stack, msg);\n",
       "            }\n",
       "        }\n",
       "    };\n",
       "}\n",
       "\n",
       "// from http://stackoverflow.com/questions/1114465/getting-mouse-location-in-canvas\n",
       "mpl.findpos = function(e) {\n",
       "    //this section is from http://www.quirksmode.org/js/events_properties.html\n",
       "    var targ;\n",
       "    if (!e)\n",
       "        e = window.event;\n",
       "    if (e.target)\n",
       "        targ = e.target;\n",
       "    else if (e.srcElement)\n",
       "        targ = e.srcElement;\n",
       "    if (targ.nodeType == 3) // defeat Safari bug\n",
       "        targ = targ.parentNode;\n",
       "\n",
       "    // jQuery normalizes the pageX and pageY\n",
       "    // pageX,Y are the mouse positions relative to the document\n",
       "    // offset() returns the position of the element relative to the document\n",
       "    var x = e.pageX - $(targ).offset().left;\n",
       "    var y = e.pageY - $(targ).offset().top;\n",
       "\n",
       "    return {\"x\": x, \"y\": y};\n",
       "};\n",
       "\n",
       "/*\n",
       " * return a copy of an object with only non-object keys\n",
       " * we need this to avoid circular references\n",
       " * http://stackoverflow.com/a/24161582/3208463\n",
       " */\n",
       "function simpleKeys (original) {\n",
       "  return Object.keys(original).reduce(function (obj, key) {\n",
       "    if (typeof original[key] !== 'object')\n",
       "        obj[key] = original[key]\n",
       "    return obj;\n",
       "  }, {});\n",
       "}\n",
       "\n",
       "mpl.figure.prototype.mouse_event = function(event, name) {\n",
       "    var canvas_pos = mpl.findpos(event)\n",
       "\n",
       "    if (name === 'button_press')\n",
       "    {\n",
       "        this.canvas.focus();\n",
       "        this.canvas_div.focus();\n",
       "    }\n",
       "\n",
       "    var x = canvas_pos.x * mpl.ratio;\n",
       "    var y = canvas_pos.y * mpl.ratio;\n",
       "\n",
       "    this.send_message(name, {x: x, y: y, button: event.button,\n",
       "                             step: event.step,\n",
       "                             guiEvent: simpleKeys(event)});\n",
       "\n",
       "    /* This prevents the web browser from automatically changing to\n",
       "     * the text insertion cursor when the button is pressed.  We want\n",
       "     * to control all of the cursor setting manually through the\n",
       "     * 'cursor' event from matplotlib */\n",
       "    event.preventDefault();\n",
       "    return false;\n",
       "}\n",
       "\n",
       "mpl.figure.prototype._key_event_extra = function(event, name) {\n",
       "    // Handle any extra behaviour associated with a key event\n",
       "}\n",
       "\n",
       "mpl.figure.prototype.key_event = function(event, name) {\n",
       "\n",
       "    // Prevent repeat events\n",
       "    if (name == 'key_press')\n",
       "    {\n",
       "        if (event.which === this._key)\n",
       "            return;\n",
       "        else\n",
       "            this._key = event.which;\n",
       "    }\n",
       "    if (name == 'key_release')\n",
       "        this._key = null;\n",
       "\n",
       "    var value = '';\n",
       "    if (event.ctrlKey && event.which != 17)\n",
       "        value += \"ctrl+\";\n",
       "    if (event.altKey && event.which != 18)\n",
       "        value += \"alt+\";\n",
       "    if (event.shiftKey && event.which != 16)\n",
       "        value += \"shift+\";\n",
       "\n",
       "    value += 'k';\n",
       "    value += event.which.toString();\n",
       "\n",
       "    this._key_event_extra(event, name);\n",
       "\n",
       "    this.send_message(name, {key: value,\n",
       "                             guiEvent: simpleKeys(event)});\n",
       "    return false;\n",
       "}\n",
       "\n",
       "mpl.figure.prototype.toolbar_button_onclick = function(name) {\n",
       "    if (name == 'download') {\n",
       "        this.handle_save(this, null);\n",
       "    } else {\n",
       "        this.send_message(\"toolbar_button\", {name: name});\n",
       "    }\n",
       "};\n",
       "\n",
       "mpl.figure.prototype.toolbar_button_onmouseover = function(tooltip) {\n",
       "    this.message.textContent = tooltip;\n",
       "};\n",
       "mpl.toolbar_items = [[\"Home\", \"Reset original view\", \"fa fa-home icon-home\", \"home\"], [\"Back\", \"Back to  previous view\", \"fa fa-arrow-left icon-arrow-left\", \"back\"], [\"Forward\", \"Forward to next view\", \"fa fa-arrow-right icon-arrow-right\", \"forward\"], [\"\", \"\", \"\", \"\"], [\"Pan\", \"Pan axes with left mouse, zoom with right\", \"fa fa-arrows icon-move\", \"pan\"], [\"Zoom\", \"Zoom to rectangle\", \"fa fa-square-o icon-check-empty\", \"zoom\"], [\"\", \"\", \"\", \"\"], [\"Download\", \"Download plot\", \"fa fa-floppy-o icon-save\", \"download\"]];\n",
       "\n",
       "mpl.extensions = [\"eps\", \"jpeg\", \"pdf\", \"png\", \"ps\", \"raw\", \"svg\", \"tif\"];\n",
       "\n",
       "mpl.default_extension = \"png\";var comm_websocket_adapter = function(comm) {\n",
       "    // Create a \"websocket\"-like object which calls the given IPython comm\n",
       "    // object with the appropriate methods. Currently this is a non binary\n",
       "    // socket, so there is still some room for performance tuning.\n",
       "    var ws = {};\n",
       "\n",
       "    ws.close = function() {\n",
       "        comm.close()\n",
       "    };\n",
       "    ws.send = function(m) {\n",
       "        //console.log('sending', m);\n",
       "        comm.send(m);\n",
       "    };\n",
       "    // Register the callback with on_msg.\n",
       "    comm.on_msg(function(msg) {\n",
       "        //console.log('receiving', msg['content']['data'], msg);\n",
       "        // Pass the mpl event to the overridden (by mpl) onmessage function.\n",
       "        ws.onmessage(msg['content']['data'])\n",
       "    });\n",
       "    return ws;\n",
       "}\n",
       "\n",
       "mpl.mpl_figure_comm = function(comm, msg) {\n",
       "    // This is the function which gets called when the mpl process\n",
       "    // starts-up an IPython Comm through the \"matplotlib\" channel.\n",
       "\n",
       "    var id = msg.content.data.id;\n",
       "    // Get hold of the div created by the display call when the Comm\n",
       "    // socket was opened in Python.\n",
       "    var element = $(\"#\" + id);\n",
       "    var ws_proxy = comm_websocket_adapter(comm)\n",
       "\n",
       "    function ondownload(figure, format) {\n",
       "        window.open(figure.imageObj.src);\n",
       "    }\n",
       "\n",
       "    var fig = new mpl.figure(id, ws_proxy,\n",
       "                           ondownload,\n",
       "                           element.get(0));\n",
       "\n",
       "    // Call onopen now - mpl needs it, as it is assuming we've passed it a real\n",
       "    // web socket which is closed, not our websocket->open comm proxy.\n",
       "    ws_proxy.onopen();\n",
       "\n",
       "    fig.parent_element = element.get(0);\n",
       "    fig.cell_info = mpl.find_output_cell(\"<div id='\" + id + \"'></div>\");\n",
       "    if (!fig.cell_info) {\n",
       "        console.error(\"Failed to find cell for figure\", id, fig);\n",
       "        return;\n",
       "    }\n",
       "\n",
       "    var output_index = fig.cell_info[2]\n",
       "    var cell = fig.cell_info[0];\n",
       "\n",
       "};\n",
       "\n",
       "mpl.figure.prototype.handle_close = function(fig, msg) {\n",
       "    var width = fig.canvas.width/mpl.ratio\n",
       "    fig.root.unbind('remove')\n",
       "\n",
       "    // Update the output cell to use the data from the current canvas.\n",
       "    fig.push_to_output();\n",
       "    var dataURL = fig.canvas.toDataURL();\n",
       "    // Re-enable the keyboard manager in IPython - without this line, in FF,\n",
       "    // the notebook keyboard shortcuts fail.\n",
       "    IPython.keyboard_manager.enable()\n",
       "    $(fig.parent_element).html('<img src=\"' + dataURL + '\" width=\"' + width + '\">');\n",
       "    fig.close_ws(fig, msg);\n",
       "}\n",
       "\n",
       "mpl.figure.prototype.close_ws = function(fig, msg){\n",
       "    fig.send_message('closing', msg);\n",
       "    // fig.ws.close()\n",
       "}\n",
       "\n",
       "mpl.figure.prototype.push_to_output = function(remove_interactive) {\n",
       "    // Turn the data on the canvas into data in the output cell.\n",
       "    var width = this.canvas.width/mpl.ratio\n",
       "    var dataURL = this.canvas.toDataURL();\n",
       "    this.cell_info[1]['text/html'] = '<img src=\"' + dataURL + '\" width=\"' + width + '\">';\n",
       "}\n",
       "\n",
       "mpl.figure.prototype.updated_canvas_event = function() {\n",
       "    // Tell IPython that the notebook contents must change.\n",
       "    IPython.notebook.set_dirty(true);\n",
       "    this.send_message(\"ack\", {});\n",
       "    var fig = this;\n",
       "    // Wait a second, then push the new image to the DOM so\n",
       "    // that it is saved nicely (might be nice to debounce this).\n",
       "    setTimeout(function () { fig.push_to_output() }, 1000);\n",
       "}\n",
       "\n",
       "mpl.figure.prototype._init_toolbar = function() {\n",
       "    var fig = this;\n",
       "\n",
       "    var nav_element = $('<div/>')\n",
       "    nav_element.attr('style', 'width: 100%');\n",
       "    this.root.append(nav_element);\n",
       "\n",
       "    // Define a callback function for later on.\n",
       "    function toolbar_event(event) {\n",
       "        return fig.toolbar_button_onclick(event['data']);\n",
       "    }\n",
       "    function toolbar_mouse_event(event) {\n",
       "        return fig.toolbar_button_onmouseover(event['data']);\n",
       "    }\n",
       "\n",
       "    for(var toolbar_ind in mpl.toolbar_items){\n",
       "        var name = mpl.toolbar_items[toolbar_ind][0];\n",
       "        var tooltip = mpl.toolbar_items[toolbar_ind][1];\n",
       "        var image = mpl.toolbar_items[toolbar_ind][2];\n",
       "        var method_name = mpl.toolbar_items[toolbar_ind][3];\n",
       "\n",
       "        if (!name) { continue; };\n",
       "\n",
       "        var button = $('<button class=\"btn btn-default\" href=\"#\" title=\"' + name + '\"><i class=\"fa ' + image + ' fa-lg\"></i></button>');\n",
       "        button.click(method_name, toolbar_event);\n",
       "        button.mouseover(tooltip, toolbar_mouse_event);\n",
       "        nav_element.append(button);\n",
       "    }\n",
       "\n",
       "    // Add the status bar.\n",
       "    var status_bar = $('<span class=\"mpl-message\" style=\"text-align:right; float: right;\"/>');\n",
       "    nav_element.append(status_bar);\n",
       "    this.message = status_bar[0];\n",
       "\n",
       "    // Add the close button to the window.\n",
       "    var buttongrp = $('<div class=\"btn-group inline pull-right\"></div>');\n",
       "    var button = $('<button class=\"btn btn-mini btn-primary\" href=\"#\" title=\"Stop Interaction\"><i class=\"fa fa-power-off icon-remove icon-large\"></i></button>');\n",
       "    button.click(function (evt) { fig.handle_close(fig, {}); } );\n",
       "    button.mouseover('Stop Interaction', toolbar_mouse_event);\n",
       "    buttongrp.append(button);\n",
       "    var titlebar = this.root.find($('.ui-dialog-titlebar'));\n",
       "    titlebar.prepend(buttongrp);\n",
       "}\n",
       "\n",
       "mpl.figure.prototype._root_extra_style = function(el){\n",
       "    var fig = this\n",
       "    el.on(\"remove\", function(){\n",
       "\tfig.close_ws(fig, {});\n",
       "    });\n",
       "}\n",
       "\n",
       "mpl.figure.prototype._canvas_extra_style = function(el){\n",
       "    // this is important to make the div 'focusable\n",
       "    el.attr('tabindex', 0)\n",
       "    // reach out to IPython and tell the keyboard manager to turn it's self\n",
       "    // off when our div gets focus\n",
       "\n",
       "    // location in version 3\n",
       "    if (IPython.notebook.keyboard_manager) {\n",
       "        IPython.notebook.keyboard_manager.register_events(el);\n",
       "    }\n",
       "    else {\n",
       "        // location in version 2\n",
       "        IPython.keyboard_manager.register_events(el);\n",
       "    }\n",
       "\n",
       "}\n",
       "\n",
       "mpl.figure.prototype._key_event_extra = function(event, name) {\n",
       "    var manager = IPython.notebook.keyboard_manager;\n",
       "    if (!manager)\n",
       "        manager = IPython.keyboard_manager;\n",
       "\n",
       "    // Check for shift+enter\n",
       "    if (event.shiftKey && event.which == 13) {\n",
       "        this.canvas_div.blur();\n",
       "        event.shiftKey = false;\n",
       "        // Send a \"J\" for go to next cell\n",
       "        event.which = 74;\n",
       "        event.keyCode = 74;\n",
       "        manager.command_mode();\n",
       "        manager.handle_keydown(event);\n",
       "    }\n",
       "}\n",
       "\n",
       "mpl.figure.prototype.handle_save = function(fig, msg) {\n",
       "    fig.ondownload(fig, null);\n",
       "}\n",
       "\n",
       "\n",
       "mpl.find_output_cell = function(html_output) {\n",
       "    // Return the cell and output element which can be found *uniquely* in the notebook.\n",
       "    // Note - this is a bit hacky, but it is done because the \"notebook_saving.Notebook\"\n",
       "    // IPython event is triggered only after the cells have been serialised, which for\n",
       "    // our purposes (turning an active figure into a static one), is too late.\n",
       "    var cells = IPython.notebook.get_cells();\n",
       "    var ncells = cells.length;\n",
       "    for (var i=0; i<ncells; i++) {\n",
       "        var cell = cells[i];\n",
       "        if (cell.cell_type === 'code'){\n",
       "            for (var j=0; j<cell.output_area.outputs.length; j++) {\n",
       "                var data = cell.output_area.outputs[j];\n",
       "                if (data.data) {\n",
       "                    // IPython >= 3 moved mimebundle to data attribute of output\n",
       "                    data = data.data;\n",
       "                }\n",
       "                if (data['text/html'] == html_output) {\n",
       "                    return [cell, data, j];\n",
       "                }\n",
       "            }\n",
       "        }\n",
       "    }\n",
       "}\n",
       "\n",
       "// Register the function which deals with the matplotlib target/channel.\n",
       "// The kernel may be null if the page has been refreshed.\n",
       "if (IPython.notebook.kernel != null) {\n",
       "    IPython.notebook.kernel.comm_manager.register_target('matplotlib', mpl.mpl_figure_comm);\n",
       "}\n"
      ],
      "text/plain": [
       "<IPython.core.display.Javascript object>"
      ]
     },
     "metadata": {},
     "output_type": "display_data"
    },
    {
     "data": {
      "text/html": [
       "<img src=\"data:image/png;base64,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\" width=\"638.888905813665\">"
      ],
      "text/plain": [
       "<IPython.core.display.HTML object>"
      ]
     },
     "metadata": {},
     "output_type": "display_data"
    }
   ],
   "source": [
    "# Add transfers to start levels\n",
    "SR_levels_time = start_level\n",
    "for epoch in time_list:\n",
    "    if epoch == 1:\n",
    "        SR_levels_time[epoch] = SR_levels_time['Start Level (ML)'] + SR_diffs[epoch]\n",
    "    else:\n",
    "        SR_levels_time[epoch] = SR_levels_time[epoch - 1] + SR_diffs[epoch]\n",
    "\n",
    "# print(SR_levels_time)\n",
    "import matplotlib.pyplot as plt\n",
    "\n",
    "%matplotlib notebook\n",
    "SR_levels_time.T.plot()\n",
    "plt.gca().get_legend().remove()\n",
    "plt.show()"
   ]
  },
  {
   "cell_type": "code",
   "execution_count": 17,
   "metadata": {},
   "outputs": [],
   "source": [
    "# test = SR_levels_time.reset_index()\n",
    "# test[test['Reservoirs'] == 'HorstedKeynesReservoir'].values[0][1:].tolist()"
   ]
  },
  {
   "cell_type": "code",
   "execution_count": 18,
   "metadata": {},
   "outputs": [
    {
     "data": {
      "application/vnd.plotly.v1+json": {
       "data": [
        {
         "line": {
          "color": "rgb(22, 96, 167)"
         },
         "name": "AshdownReservoir",
         "type": "scatter",
         "uid": "27f55722-e6a8-11e8-98cd-9cb6d0e14be4",
         "x": [
          1,
          2,
          3,
          4,
          5,
          6,
          7,
          8,
          9,
          10,
          11,
          12,
          13
         ],
         "y": [
          7.65,
          7.727953804333334,
          7.803199275333333,
          7.877611413,
          7.946763134,
          8.001591938333334,
          8.018868659333334,
          8.014791213666667,
          8.023265851333333,
          8.040073822333333,
          8.060527626666667,
          8.085096014333335,
          8.120289402000001,
          8.155743206333334
         ]
        },
        {
         "line": {
          "color": "red",
          "dash": "dot"
         },
         "name": "Max Level",
         "type": "scatter",
         "uid": "27f55723-e6a8-11e8-af92-9cb6d0e14be4",
         "x": [
          1,
          2,
          3,
          4,
          5,
          6,
          7,
          8,
          9,
          10,
          11,
          12,
          13
         ],
         "y": [
          8.16,
          8.16,
          8.16,
          8.16,
          8.16,
          8.16,
          8.16,
          8.16,
          8.16,
          8.16,
          8.16,
          8.16,
          8.16
         ]
        },
        {
         "line": {
          "color": "red",
          "dash": "dot"
         },
         "name": "Min water level",
         "type": "scatter",
         "uid": "27f55724-e6a8-11e8-bdfb-9cb6d0e14be4",
         "x": [
          1,
          2,
          3,
          4,
          5,
          6,
          7,
          8,
          9,
          10,
          11,
          12,
          13
         ],
         "y": [
          7.139999999999999,
          7.139999999999999,
          7.139999999999999,
          7.139999999999999,
          7.139999999999999,
          7.139999999999999,
          7.139999999999999,
          7.139999999999999,
          7.139999999999999,
          7.139999999999999,
          7.139999999999999,
          7.139999999999999,
          7.139999999999999
         ]
        }
       ],
       "layout": {
        "title": "AshdownReservoir",
        "xaxis": {
         "title": "Time"
        },
        "yaxis": {
         "title": "Water Level / ML"
        }
       }
      },
      "text/html": [
       "<div id=\"0964bdf1-1d62-476e-a6b7-db43863a3643\" style=\"height: 525px; width: 100%;\" class=\"plotly-graph-div\"></div><script type=\"text/javascript\">require([\"plotly\"], function(Plotly) { window.PLOTLYENV=window.PLOTLYENV || {};window.PLOTLYENV.BASE_URL=\"https://plot.ly\";Plotly.newPlot(\"0964bdf1-1d62-476e-a6b7-db43863a3643\", [{\"line\": {\"color\": \"rgb(22, 96, 167)\"}, \"name\": \"AshdownReservoir\", \"x\": [1, 2, 3, 4, 5, 6, 7, 8, 9, 10, 11, 12, 13], \"y\": [7.65, 7.727953804333334, 7.803199275333333, 7.877611413, 7.946763134, 8.001591938333334, 8.018868659333334, 8.014791213666667, 8.023265851333333, 8.040073822333333, 8.060527626666667, 8.085096014333335, 8.120289402000001, 8.155743206333334], \"type\": \"scatter\", \"uid\": \"283e026c-e6a8-11e8-b338-9cb6d0e14be4\"}, {\"line\": {\"color\": \"red\", \"dash\": \"dot\"}, \"name\": \"Max Level\", \"x\": [1, 2, 3, 4, 5, 6, 7, 8, 9, 10, 11, 12, 13], \"y\": [8.16, 8.16, 8.16, 8.16, 8.16, 8.16, 8.16, 8.16, 8.16, 8.16, 8.16, 8.16, 8.16], \"type\": \"scatter\", \"uid\": \"283e026d-e6a8-11e8-8cc7-9cb6d0e14be4\"}, {\"line\": {\"color\": \"red\", \"dash\": \"dot\"}, \"name\": \"Min water level\", \"x\": [1, 2, 3, 4, 5, 6, 7, 8, 9, 10, 11, 12, 13], \"y\": [7.139999999999999, 7.139999999999999, 7.139999999999999, 7.139999999999999, 7.139999999999999, 7.139999999999999, 7.139999999999999, 7.139999999999999, 7.139999999999999, 7.139999999999999, 7.139999999999999, 7.139999999999999, 7.139999999999999], \"type\": \"scatter\", \"uid\": \"283e026e-e6a8-11e8-a397-9cb6d0e14be4\"}], {\"title\": \"AshdownReservoir\", \"xaxis\": {\"title\": \"Time\"}, \"yaxis\": {\"title\": \"Water Level / ML\"}}, {\"showLink\": true, \"linkText\": \"Export to plot.ly\"})});</script>"
      ],
      "text/vnd.plotly.v1+html": [
       "<div id=\"0964bdf1-1d62-476e-a6b7-db43863a3643\" style=\"height: 525px; width: 100%;\" class=\"plotly-graph-div\"></div><script type=\"text/javascript\">require([\"plotly\"], function(Plotly) { window.PLOTLYENV=window.PLOTLYENV || {};window.PLOTLYENV.BASE_URL=\"https://plot.ly\";Plotly.newPlot(\"0964bdf1-1d62-476e-a6b7-db43863a3643\", [{\"line\": {\"color\": \"rgb(22, 96, 167)\"}, \"name\": \"AshdownReservoir\", \"x\": [1, 2, 3, 4, 5, 6, 7, 8, 9, 10, 11, 12, 13], \"y\": [7.65, 7.727953804333334, 7.803199275333333, 7.877611413, 7.946763134, 8.001591938333334, 8.018868659333334, 8.014791213666667, 8.023265851333333, 8.040073822333333, 8.060527626666667, 8.085096014333335, 8.120289402000001, 8.155743206333334], \"type\": \"scatter\", \"uid\": \"283e026c-e6a8-11e8-b338-9cb6d0e14be4\"}, {\"line\": {\"color\": \"red\", \"dash\": \"dot\"}, \"name\": \"Max Level\", \"x\": [1, 2, 3, 4, 5, 6, 7, 8, 9, 10, 11, 12, 13], \"y\": [8.16, 8.16, 8.16, 8.16, 8.16, 8.16, 8.16, 8.16, 8.16, 8.16, 8.16, 8.16, 8.16], \"type\": \"scatter\", \"uid\": \"283e026d-e6a8-11e8-8cc7-9cb6d0e14be4\"}, {\"line\": {\"color\": \"red\", \"dash\": \"dot\"}, \"name\": \"Min water level\", \"x\": [1, 2, 3, 4, 5, 6, 7, 8, 9, 10, 11, 12, 13], \"y\": [7.139999999999999, 7.139999999999999, 7.139999999999999, 7.139999999999999, 7.139999999999999, 7.139999999999999, 7.139999999999999, 7.139999999999999, 7.139999999999999, 7.139999999999999, 7.139999999999999, 7.139999999999999, 7.139999999999999], \"type\": \"scatter\", \"uid\": \"283e026e-e6a8-11e8-a397-9cb6d0e14be4\"}], {\"title\": \"AshdownReservoir\", \"xaxis\": {\"title\": \"Time\"}, \"yaxis\": {\"title\": \"Water Level / ML\"}}, {\"showLink\": true, \"linkText\": \"Export to plot.ly\"})});</script>"
      ]
     },
     "metadata": {},
     "output_type": "display_data"
    },
    {
     "data": {
      "application/vnd.plotly.v1+json": {
       "data": [
        {
         "line": {
          "color": "rgb(22, 96, 167)"
         },
         "name": "BalcombeReservoir",
         "type": "scatter",
         "uid": "2844db94-e6a8-11e8-8c46-9cb6d0e14be4",
         "x": [
          1,
          2,
          3,
          4,
          5,
          6,
          7,
          8,
          9,
          10,
          11,
          12,
          13
         ],
         "y": [
          3.225,
          3.194010416666667,
          3.1642187500000003,
          3.1350000000000002,
          3.4131250000000004,
          3.363697916666667,
          3.2858854166666673,
          3.1921875000000006,
          3.107239583333334,
          3.028645833333334,
          3.2615104166666673,
          3.186041666666667,
          3.1160416666666673,
          3.048489583333334
         ]
        },
        {
         "line": {
          "color": "red",
          "dash": "dot"
         },
         "name": "Max Level",
         "type": "scatter",
         "uid": "2844db95-e6a8-11e8-b98b-9cb6d0e14be4",
         "x": [
          1,
          2,
          3,
          4,
          5,
          6,
          7,
          8,
          9,
          10,
          11,
          12,
          13
         ],
         "y": [
          3.44,
          3.44,
          3.44,
          3.44,
          3.44,
          3.44,
          3.44,
          3.44,
          3.44,
          3.44,
          3.44,
          3.44,
          3.44
         ]
        },
        {
         "line": {
          "color": "red",
          "dash": "dot"
         },
         "name": "Min water level",
         "type": "scatter",
         "uid": "2844db96-e6a8-11e8-a9cf-9cb6d0e14be4",
         "x": [
          1,
          2,
          3,
          4,
          5,
          6,
          7,
          8,
          9,
          10,
          11,
          12,
          13
         ],
         "y": [
          3.01,
          3.01,
          3.01,
          3.01,
          3.01,
          3.01,
          3.01,
          3.01,
          3.01,
          3.01,
          3.01,
          3.01,
          3.01
         ]
        }
       ],
       "layout": {
        "title": "BalcombeReservoir",
        "xaxis": {
         "title": "Time"
        },
        "yaxis": {
         "title": "Water Level / ML"
        }
       }
      },
      "text/html": [
       "<div id=\"414f2091-4978-493b-a316-018ebc77cec5\" style=\"height: 525px; width: 100%;\" class=\"plotly-graph-div\"></div><script type=\"text/javascript\">require([\"plotly\"], function(Plotly) { window.PLOTLYENV=window.PLOTLYENV || {};window.PLOTLYENV.BASE_URL=\"https://plot.ly\";Plotly.newPlot(\"414f2091-4978-493b-a316-018ebc77cec5\", [{\"line\": {\"color\": \"rgb(22, 96, 167)\"}, \"name\": \"BalcombeReservoir\", \"x\": [1, 2, 3, 4, 5, 6, 7, 8, 9, 10, 11, 12, 13], \"y\": [3.225, 3.194010416666667, 3.1642187500000003, 3.1350000000000002, 3.4131250000000004, 3.363697916666667, 3.2858854166666673, 3.1921875000000006, 3.107239583333334, 3.028645833333334, 3.2615104166666673, 3.186041666666667, 3.1160416666666673, 3.048489583333334], \"type\": \"scatter\", \"uid\": \"28499340-e6a8-11e8-9e17-9cb6d0e14be4\"}, {\"line\": {\"color\": \"red\", \"dash\": \"dot\"}, \"name\": \"Max Level\", \"x\": [1, 2, 3, 4, 5, 6, 7, 8, 9, 10, 11, 12, 13], \"y\": [3.44, 3.44, 3.44, 3.44, 3.44, 3.44, 3.44, 3.44, 3.44, 3.44, 3.44, 3.44, 3.44], \"type\": \"scatter\", \"uid\": \"28499341-e6a8-11e8-9954-9cb6d0e14be4\"}, {\"line\": {\"color\": \"red\", \"dash\": \"dot\"}, \"name\": \"Min water level\", \"x\": [1, 2, 3, 4, 5, 6, 7, 8, 9, 10, 11, 12, 13], \"y\": [3.01, 3.01, 3.01, 3.01, 3.01, 3.01, 3.01, 3.01, 3.01, 3.01, 3.01, 3.01, 3.01], \"type\": \"scatter\", \"uid\": \"28499342-e6a8-11e8-9ede-9cb6d0e14be4\"}], {\"title\": \"BalcombeReservoir\", \"xaxis\": {\"title\": \"Time\"}, \"yaxis\": {\"title\": \"Water Level / ML\"}}, {\"showLink\": true, \"linkText\": \"Export to plot.ly\"})});</script>"
      ],
      "text/vnd.plotly.v1+html": [
       "<div id=\"414f2091-4978-493b-a316-018ebc77cec5\" style=\"height: 525px; width: 100%;\" class=\"plotly-graph-div\"></div><script type=\"text/javascript\">require([\"plotly\"], function(Plotly) { window.PLOTLYENV=window.PLOTLYENV || {};window.PLOTLYENV.BASE_URL=\"https://plot.ly\";Plotly.newPlot(\"414f2091-4978-493b-a316-018ebc77cec5\", [{\"line\": {\"color\": \"rgb(22, 96, 167)\"}, \"name\": \"BalcombeReservoir\", \"x\": [1, 2, 3, 4, 5, 6, 7, 8, 9, 10, 11, 12, 13], \"y\": [3.225, 3.194010416666667, 3.1642187500000003, 3.1350000000000002, 3.4131250000000004, 3.363697916666667, 3.2858854166666673, 3.1921875000000006, 3.107239583333334, 3.028645833333334, 3.2615104166666673, 3.186041666666667, 3.1160416666666673, 3.048489583333334], \"type\": \"scatter\", \"uid\": \"28499340-e6a8-11e8-9e17-9cb6d0e14be4\"}, {\"line\": {\"color\": \"red\", \"dash\": \"dot\"}, \"name\": \"Max Level\", \"x\": [1, 2, 3, 4, 5, 6, 7, 8, 9, 10, 11, 12, 13], \"y\": [3.44, 3.44, 3.44, 3.44, 3.44, 3.44, 3.44, 3.44, 3.44, 3.44, 3.44, 3.44, 3.44], \"type\": \"scatter\", \"uid\": \"28499341-e6a8-11e8-9954-9cb6d0e14be4\"}, {\"line\": {\"color\": \"red\", \"dash\": \"dot\"}, \"name\": \"Min water level\", \"x\": [1, 2, 3, 4, 5, 6, 7, 8, 9, 10, 11, 12, 13], \"y\": [3.01, 3.01, 3.01, 3.01, 3.01, 3.01, 3.01, 3.01, 3.01, 3.01, 3.01, 3.01, 3.01], \"type\": \"scatter\", \"uid\": \"28499342-e6a8-11e8-9ede-9cb6d0e14be4\"}], {\"title\": \"BalcombeReservoir\", \"xaxis\": {\"title\": \"Time\"}, \"yaxis\": {\"title\": \"Water Level / ML\"}}, {\"showLink\": true, \"linkText\": \"Export to plot.ly\"})});</script>"
      ]
     },
     "metadata": {},
     "output_type": "display_data"
    },
    {
     "data": {
      "application/vnd.plotly.v1+json": {
       "data": [
        {
         "line": {
          "color": "rgb(22, 96, 167)"
         },
         "name": "BestBeechReservoir",
         "type": "scatter",
         "uid": "2851563e-e6a8-11e8-b5d4-9cb6d0e14be4",
         "x": [
          1,
          2,
          3,
          4,
          5,
          6,
          7,
          8,
          9,
          10,
          11,
          12,
          13
         ],
         "y": [
          1.95,
          1.9821875,
          2.0136458333333334,
          2.045729166666667,
          2.0731770833333334,
          2.08,
          2.0517708333333333,
          2.01328125,
          1.9858333333333333,
          1.9609375,
          1.9372395833333333,
          1.9113020833333334,
          1.8870312500000002,
          1.8665625000000001
         ]
        },
        {
         "line": {
          "color": "red",
          "dash": "dot"
         },
         "name": "Max Level",
         "type": "scatter",
         "uid": "2851563f-e6a8-11e8-96cc-9cb6d0e14be4",
         "x": [
          1,
          2,
          3,
          4,
          5,
          6,
          7,
          8,
          9,
          10,
          11,
          12,
          13
         ],
         "y": [
          2.08,
          2.08,
          2.08,
          2.08,
          2.08,
          2.08,
          2.08,
          2.08,
          2.08,
          2.08,
          2.08,
          2.08,
          2.08
         ]
        },
        {
         "line": {
          "color": "red",
          "dash": "dot"
         },
         "name": "Min water level",
         "type": "scatter",
         "uid": "28515640-e6a8-11e8-888f-9cb6d0e14be4",
         "x": [
          1,
          2,
          3,
          4,
          5,
          6,
          7,
          8,
          9,
          10,
          11,
          12,
          13
         ],
         "y": [
          1.8199999999999998,
          1.8199999999999998,
          1.8199999999999998,
          1.8199999999999998,
          1.8199999999999998,
          1.8199999999999998,
          1.8199999999999998,
          1.8199999999999998,
          1.8199999999999998,
          1.8199999999999998,
          1.8199999999999998,
          1.8199999999999998,
          1.8199999999999998
         ]
        }
       ],
       "layout": {
        "title": "BestBeechReservoir",
        "xaxis": {
         "title": "Time"
        },
        "yaxis": {
         "title": "Water Level / ML"
        }
       }
      },
      "text/html": [
       "<div id=\"4002ebff-7f8f-433a-a68c-3883bd3c285b\" style=\"height: 525px; width: 100%;\" class=\"plotly-graph-div\"></div><script type=\"text/javascript\">require([\"plotly\"], function(Plotly) { window.PLOTLYENV=window.PLOTLYENV || {};window.PLOTLYENV.BASE_URL=\"https://plot.ly\";Plotly.newPlot(\"4002ebff-7f8f-433a-a68c-3883bd3c285b\", [{\"line\": {\"color\": \"rgb(22, 96, 167)\"}, \"name\": \"BestBeechReservoir\", \"x\": [1, 2, 3, 4, 5, 6, 7, 8, 9, 10, 11, 12, 13], \"y\": [1.95, 1.9821875, 2.0136458333333334, 2.045729166666667, 2.0731770833333334, 2.08, 2.0517708333333333, 2.01328125, 1.9858333333333333, 1.9609375, 1.9372395833333333, 1.9113020833333334, 1.8870312500000002, 1.8665625000000001], \"type\": \"scatter\", \"uid\": \"28565bba-e6a8-11e8-8968-9cb6d0e14be4\"}, {\"line\": {\"color\": \"red\", \"dash\": \"dot\"}, \"name\": \"Max Level\", \"x\": [1, 2, 3, 4, 5, 6, 7, 8, 9, 10, 11, 12, 13], \"y\": [2.08, 2.08, 2.08, 2.08, 2.08, 2.08, 2.08, 2.08, 2.08, 2.08, 2.08, 2.08, 2.08], \"type\": \"scatter\", \"uid\": \"28565bbb-e6a8-11e8-9a5c-9cb6d0e14be4\"}, {\"line\": {\"color\": \"red\", \"dash\": \"dot\"}, \"name\": \"Min water level\", \"x\": [1, 2, 3, 4, 5, 6, 7, 8, 9, 10, 11, 12, 13], \"y\": [1.8199999999999998, 1.8199999999999998, 1.8199999999999998, 1.8199999999999998, 1.8199999999999998, 1.8199999999999998, 1.8199999999999998, 1.8199999999999998, 1.8199999999999998, 1.8199999999999998, 1.8199999999999998, 1.8199999999999998, 1.8199999999999998], \"type\": \"scatter\", \"uid\": \"28565bbc-e6a8-11e8-8d22-9cb6d0e14be4\"}], {\"title\": \"BestBeechReservoir\", \"xaxis\": {\"title\": \"Time\"}, \"yaxis\": {\"title\": \"Water Level / ML\"}}, {\"showLink\": true, \"linkText\": \"Export to plot.ly\"})});</script>"
      ],
      "text/vnd.plotly.v1+html": [
       "<div id=\"4002ebff-7f8f-433a-a68c-3883bd3c285b\" style=\"height: 525px; width: 100%;\" class=\"plotly-graph-div\"></div><script type=\"text/javascript\">require([\"plotly\"], function(Plotly) { window.PLOTLYENV=window.PLOTLYENV || {};window.PLOTLYENV.BASE_URL=\"https://plot.ly\";Plotly.newPlot(\"4002ebff-7f8f-433a-a68c-3883bd3c285b\", [{\"line\": {\"color\": \"rgb(22, 96, 167)\"}, \"name\": \"BestBeechReservoir\", \"x\": [1, 2, 3, 4, 5, 6, 7, 8, 9, 10, 11, 12, 13], \"y\": [1.95, 1.9821875, 2.0136458333333334, 2.045729166666667, 2.0731770833333334, 2.08, 2.0517708333333333, 2.01328125, 1.9858333333333333, 1.9609375, 1.9372395833333333, 1.9113020833333334, 1.8870312500000002, 1.8665625000000001], \"type\": \"scatter\", \"uid\": \"28565bba-e6a8-11e8-8968-9cb6d0e14be4\"}, {\"line\": {\"color\": \"red\", \"dash\": \"dot\"}, \"name\": \"Max Level\", \"x\": [1, 2, 3, 4, 5, 6, 7, 8, 9, 10, 11, 12, 13], \"y\": [2.08, 2.08, 2.08, 2.08, 2.08, 2.08, 2.08, 2.08, 2.08, 2.08, 2.08, 2.08, 2.08], \"type\": \"scatter\", \"uid\": \"28565bbb-e6a8-11e8-9a5c-9cb6d0e14be4\"}, {\"line\": {\"color\": \"red\", \"dash\": \"dot\"}, \"name\": \"Min water level\", \"x\": [1, 2, 3, 4, 5, 6, 7, 8, 9, 10, 11, 12, 13], \"y\": [1.8199999999999998, 1.8199999999999998, 1.8199999999999998, 1.8199999999999998, 1.8199999999999998, 1.8199999999999998, 1.8199999999999998, 1.8199999999999998, 1.8199999999999998, 1.8199999999999998, 1.8199999999999998, 1.8199999999999998, 1.8199999999999998], \"type\": \"scatter\", \"uid\": \"28565bbc-e6a8-11e8-8d22-9cb6d0e14be4\"}], {\"title\": \"BestBeechReservoir\", \"xaxis\": {\"title\": \"Time\"}, \"yaxis\": {\"title\": \"Water Level / ML\"}}, {\"showLink\": true, \"linkText\": \"Export to plot.ly\"})});</script>"
      ]
     },
     "metadata": {},
     "output_type": "display_data"
    },
    {
     "data": {
      "application/vnd.plotly.v1+json": {
       "data": [
        {
         "line": {
          "color": "rgb(22, 96, 167)"
         },
         "name": "ButlersGreenReservoir",
         "type": "scatter",
         "uid": "285d5bca-e6a8-11e8-98a1-9cb6d0e14be4",
         "x": [
          1,
          2,
          3,
          4,
          5,
          6,
          7,
          8,
          9,
          10,
          11,
          12,
          13
         ],
         "y": [
          6.675,
          6.798854166666667,
          6.900625,
          7.021510416666667,
          7.12,
          7.119999999666667,
          6.929244786333333,
          6.602291656333334,
          6.4707551930000005,
          6.434010396333334,
          6.409661433,
          6.401510386333333,
          6.337265589666667,
          6.229999959666667
         ]
        },
        {
         "line": {
          "color": "red",
          "dash": "dot"
         },
         "name": "Max Level",
         "type": "scatter",
         "uid": "285d5bcb-e6a8-11e8-afd4-9cb6d0e14be4",
         "x": [
          1,
          2,
          3,
          4,
          5,
          6,
          7,
          8,
          9,
          10,
          11,
          12,
          13
         ],
         "y": [
          7.120000000000001,
          7.120000000000001,
          7.120000000000001,
          7.120000000000001,
          7.120000000000001,
          7.120000000000001,
          7.120000000000001,
          7.120000000000001,
          7.120000000000001,
          7.120000000000001,
          7.120000000000001,
          7.120000000000001,
          7.120000000000001
         ]
        },
        {
         "line": {
          "color": "red",
          "dash": "dot"
         },
         "name": "Min water level",
         "type": "scatter",
         "uid": "285d5bcc-e6a8-11e8-96e5-9cb6d0e14be4",
         "x": [
          1,
          2,
          3,
          4,
          5,
          6,
          7,
          8,
          9,
          10,
          11,
          12,
          13
         ],
         "y": [
          6.2299999999999995,
          6.2299999999999995,
          6.2299999999999995,
          6.2299999999999995,
          6.2299999999999995,
          6.2299999999999995,
          6.2299999999999995,
          6.2299999999999995,
          6.2299999999999995,
          6.2299999999999995,
          6.2299999999999995,
          6.2299999999999995,
          6.2299999999999995
         ]
        }
       ],
       "layout": {
        "title": "ButlersGreenReservoir",
        "xaxis": {
         "title": "Time"
        },
        "yaxis": {
         "title": "Water Level / ML"
        }
       }
      },
      "text/html": [
       "<div id=\"95c5a8fb-46c3-49af-b63e-c7261c3fe720\" style=\"height: 525px; width: 100%;\" class=\"plotly-graph-div\"></div><script type=\"text/javascript\">require([\"plotly\"], function(Plotly) { window.PLOTLYENV=window.PLOTLYENV || {};window.PLOTLYENV.BASE_URL=\"https://plot.ly\";Plotly.newPlot(\"95c5a8fb-46c3-49af-b63e-c7261c3fe720\", [{\"line\": {\"color\": \"rgb(22, 96, 167)\"}, \"name\": \"ButlersGreenReservoir\", \"x\": [1, 2, 3, 4, 5, 6, 7, 8, 9, 10, 11, 12, 13], \"y\": [6.675, 6.798854166666667, 6.900625, 7.021510416666667, 7.12, 7.119999999666667, 6.929244786333333, 6.602291656333334, 6.4707551930000005, 6.434010396333334, 6.409661433, 6.401510386333333, 6.337265589666667, 6.229999959666667], \"type\": \"scatter\", \"uid\": \"2862af82-e6a8-11e8-966f-9cb6d0e14be4\"}, {\"line\": {\"color\": \"red\", \"dash\": \"dot\"}, \"name\": \"Max Level\", \"x\": [1, 2, 3, 4, 5, 6, 7, 8, 9, 10, 11, 12, 13], \"y\": [7.120000000000001, 7.120000000000001, 7.120000000000001, 7.120000000000001, 7.120000000000001, 7.120000000000001, 7.120000000000001, 7.120000000000001, 7.120000000000001, 7.120000000000001, 7.120000000000001, 7.120000000000001, 7.120000000000001], \"type\": \"scatter\", \"uid\": \"2862af83-e6a8-11e8-8058-9cb6d0e14be4\"}, {\"line\": {\"color\": \"red\", \"dash\": \"dot\"}, \"name\": \"Min water level\", \"x\": [1, 2, 3, 4, 5, 6, 7, 8, 9, 10, 11, 12, 13], \"y\": [6.2299999999999995, 6.2299999999999995, 6.2299999999999995, 6.2299999999999995, 6.2299999999999995, 6.2299999999999995, 6.2299999999999995, 6.2299999999999995, 6.2299999999999995, 6.2299999999999995, 6.2299999999999995, 6.2299999999999995, 6.2299999999999995], \"type\": \"scatter\", \"uid\": \"2862af84-e6a8-11e8-bc53-9cb6d0e14be4\"}], {\"title\": \"ButlersGreenReservoir\", \"xaxis\": {\"title\": \"Time\"}, \"yaxis\": {\"title\": \"Water Level / ML\"}}, {\"showLink\": true, \"linkText\": \"Export to plot.ly\"})});</script>"
      ],
      "text/vnd.plotly.v1+html": [
       "<div id=\"95c5a8fb-46c3-49af-b63e-c7261c3fe720\" style=\"height: 525px; width: 100%;\" class=\"plotly-graph-div\"></div><script type=\"text/javascript\">require([\"plotly\"], function(Plotly) { window.PLOTLYENV=window.PLOTLYENV || {};window.PLOTLYENV.BASE_URL=\"https://plot.ly\";Plotly.newPlot(\"95c5a8fb-46c3-49af-b63e-c7261c3fe720\", [{\"line\": {\"color\": \"rgb(22, 96, 167)\"}, \"name\": \"ButlersGreenReservoir\", \"x\": [1, 2, 3, 4, 5, 6, 7, 8, 9, 10, 11, 12, 13], \"y\": [6.675, 6.798854166666667, 6.900625, 7.021510416666667, 7.12, 7.119999999666667, 6.929244786333333, 6.602291656333334, 6.4707551930000005, 6.434010396333334, 6.409661433, 6.401510386333333, 6.337265589666667, 6.229999959666667], \"type\": \"scatter\", \"uid\": \"2862af82-e6a8-11e8-966f-9cb6d0e14be4\"}, {\"line\": {\"color\": \"red\", \"dash\": \"dot\"}, \"name\": \"Max Level\", \"x\": [1, 2, 3, 4, 5, 6, 7, 8, 9, 10, 11, 12, 13], \"y\": [7.120000000000001, 7.120000000000001, 7.120000000000001, 7.120000000000001, 7.120000000000001, 7.120000000000001, 7.120000000000001, 7.120000000000001, 7.120000000000001, 7.120000000000001, 7.120000000000001, 7.120000000000001, 7.120000000000001], \"type\": \"scatter\", \"uid\": \"2862af83-e6a8-11e8-8058-9cb6d0e14be4\"}, {\"line\": {\"color\": \"red\", \"dash\": \"dot\"}, \"name\": \"Min water level\", \"x\": [1, 2, 3, 4, 5, 6, 7, 8, 9, 10, 11, 12, 13], \"y\": [6.2299999999999995, 6.2299999999999995, 6.2299999999999995, 6.2299999999999995, 6.2299999999999995, 6.2299999999999995, 6.2299999999999995, 6.2299999999999995, 6.2299999999999995, 6.2299999999999995, 6.2299999999999995, 6.2299999999999995, 6.2299999999999995], \"type\": \"scatter\", \"uid\": \"2862af84-e6a8-11e8-bc53-9cb6d0e14be4\"}], {\"title\": \"ButlersGreenReservoir\", \"xaxis\": {\"title\": \"Time\"}, \"yaxis\": {\"title\": \"Water Level / ML\"}}, {\"showLink\": true, \"linkText\": \"Export to plot.ly\"})});</script>"
      ]
     },
     "metadata": {},
     "output_type": "display_data"
    },
    {
     "data": {
      "application/vnd.plotly.v1+json": {
       "data": [
        {
         "line": {
          "color": "rgb(22, 96, 167)"
         },
         "name": "ChilliesReservoir",
         "type": "scatter",
         "uid": "286877c2-e6a8-11e8-a60d-9cb6d0e14be4",
         "x": [
          1,
          2,
          3,
          4,
          5,
          6,
          7,
          8,
          9,
          10,
          11,
          12,
          13
         ],
         "y": [
          0.9,
          0.9081169873333333,
          0.9008693913333333,
          0.9106530453333334,
          0.9179366993333333,
          0.9260536866666667,
          0.9189623406666667,
          0.8968189113333334,
          0.8857171486666667,
          0.8813862193333334,
          0.8702323733333334,
          0.8539743606666667,
          0.8552684313333333,
          0.8400000019999999
         ]
        },
        {
         "line": {
          "color": "red",
          "dash": "dot"
         },
         "name": "Max Level",
         "type": "scatter",
         "uid": "286877c3-e6a8-11e8-b161-9cb6d0e14be4",
         "x": [
          1,
          2,
          3,
          4,
          5,
          6,
          7,
          8,
          9,
          10,
          11,
          12,
          13
         ],
         "y": [
          0.96,
          0.96,
          0.96,
          0.96,
          0.96,
          0.96,
          0.96,
          0.96,
          0.96,
          0.96,
          0.96,
          0.96,
          0.96
         ]
        },
        {
         "line": {
          "color": "red",
          "dash": "dot"
         },
         "name": "Min water level",
         "type": "scatter",
         "uid": "286877c4-e6a8-11e8-98de-9cb6d0e14be4",
         "x": [
          1,
          2,
          3,
          4,
          5,
          6,
          7,
          8,
          9,
          10,
          11,
          12,
          13
         ],
         "y": [
          0.84,
          0.84,
          0.84,
          0.84,
          0.84,
          0.84,
          0.84,
          0.84,
          0.84,
          0.84,
          0.84,
          0.84,
          0.84
         ]
        }
       ],
       "layout": {
        "title": "ChilliesReservoir",
        "xaxis": {
         "title": "Time"
        },
        "yaxis": {
         "title": "Water Level / ML"
        }
       }
      },
      "text/html": [
       "<div id=\"2b7ef202-e5c1-435c-937c-be1a71c5bf27\" style=\"height: 525px; width: 100%;\" class=\"plotly-graph-div\"></div><script type=\"text/javascript\">require([\"plotly\"], function(Plotly) { window.PLOTLYENV=window.PLOTLYENV || {};window.PLOTLYENV.BASE_URL=\"https://plot.ly\";Plotly.newPlot(\"2b7ef202-e5c1-435c-937c-be1a71c5bf27\", [{\"line\": {\"color\": \"rgb(22, 96, 167)\"}, \"name\": \"ChilliesReservoir\", \"x\": [1, 2, 3, 4, 5, 6, 7, 8, 9, 10, 11, 12, 13], \"y\": [0.9, 0.9081169873333333, 0.9008693913333333, 0.9106530453333334, 0.9179366993333333, 0.9260536866666667, 0.9189623406666667, 0.8968189113333334, 0.8857171486666667, 0.8813862193333334, 0.8702323733333334, 0.8539743606666667, 0.8552684313333333, 0.8400000019999999], \"type\": \"scatter\", \"uid\": \"286d566e-e6a8-11e8-9ad4-9cb6d0e14be4\"}, {\"line\": {\"color\": \"red\", \"dash\": \"dot\"}, \"name\": \"Max Level\", \"x\": [1, 2, 3, 4, 5, 6, 7, 8, 9, 10, 11, 12, 13], \"y\": [0.96, 0.96, 0.96, 0.96, 0.96, 0.96, 0.96, 0.96, 0.96, 0.96, 0.96, 0.96, 0.96], \"type\": \"scatter\", \"uid\": \"286d566f-e6a8-11e8-8f5e-9cb6d0e14be4\"}, {\"line\": {\"color\": \"red\", \"dash\": \"dot\"}, \"name\": \"Min water level\", \"x\": [1, 2, 3, 4, 5, 6, 7, 8, 9, 10, 11, 12, 13], \"y\": [0.84, 0.84, 0.84, 0.84, 0.84, 0.84, 0.84, 0.84, 0.84, 0.84, 0.84, 0.84, 0.84], \"type\": \"scatter\", \"uid\": \"286d5670-e6a8-11e8-bce6-9cb6d0e14be4\"}], {\"title\": \"ChilliesReservoir\", \"xaxis\": {\"title\": \"Time\"}, \"yaxis\": {\"title\": \"Water Level / ML\"}}, {\"showLink\": true, \"linkText\": \"Export to plot.ly\"})});</script>"
      ],
      "text/vnd.plotly.v1+html": [
       "<div id=\"2b7ef202-e5c1-435c-937c-be1a71c5bf27\" style=\"height: 525px; width: 100%;\" class=\"plotly-graph-div\"></div><script type=\"text/javascript\">require([\"plotly\"], function(Plotly) { window.PLOTLYENV=window.PLOTLYENV || {};window.PLOTLYENV.BASE_URL=\"https://plot.ly\";Plotly.newPlot(\"2b7ef202-e5c1-435c-937c-be1a71c5bf27\", [{\"line\": {\"color\": \"rgb(22, 96, 167)\"}, \"name\": \"ChilliesReservoir\", \"x\": [1, 2, 3, 4, 5, 6, 7, 8, 9, 10, 11, 12, 13], \"y\": [0.9, 0.9081169873333333, 0.9008693913333333, 0.9106530453333334, 0.9179366993333333, 0.9260536866666667, 0.9189623406666667, 0.8968189113333334, 0.8857171486666667, 0.8813862193333334, 0.8702323733333334, 0.8539743606666667, 0.8552684313333333, 0.8400000019999999], \"type\": \"scatter\", \"uid\": \"286d566e-e6a8-11e8-9ad4-9cb6d0e14be4\"}, {\"line\": {\"color\": \"red\", \"dash\": \"dot\"}, \"name\": \"Max Level\", \"x\": [1, 2, 3, 4, 5, 6, 7, 8, 9, 10, 11, 12, 13], \"y\": [0.96, 0.96, 0.96, 0.96, 0.96, 0.96, 0.96, 0.96, 0.96, 0.96, 0.96, 0.96, 0.96], \"type\": \"scatter\", \"uid\": \"286d566f-e6a8-11e8-8f5e-9cb6d0e14be4\"}, {\"line\": {\"color\": \"red\", \"dash\": \"dot\"}, \"name\": \"Min water level\", \"x\": [1, 2, 3, 4, 5, 6, 7, 8, 9, 10, 11, 12, 13], \"y\": [0.84, 0.84, 0.84, 0.84, 0.84, 0.84, 0.84, 0.84, 0.84, 0.84, 0.84, 0.84, 0.84], \"type\": \"scatter\", \"uid\": \"286d5670-e6a8-11e8-bce6-9cb6d0e14be4\"}], {\"title\": \"ChilliesReservoir\", \"xaxis\": {\"title\": \"Time\"}, \"yaxis\": {\"title\": \"Water Level / ML\"}}, {\"showLink\": true, \"linkText\": \"Export to plot.ly\"})});</script>"
      ]
     },
     "metadata": {},
     "output_type": "display_data"
    },
    {
     "data": {
      "application/vnd.plotly.v1+json": {
       "data": [
        {
         "line": {
          "color": "rgb(22, 96, 167)"
         },
         "name": "CottageHillReservoir",
         "type": "scatter",
         "uid": "28756740-e6a8-11e8-ab5b-9cb6d0e14be4",
         "x": [
          1,
          2,
          3,
          4,
          5,
          6,
          7,
          8,
          9,
          10,
          11,
          12,
          13
         ],
         "y": [
          2.7,
          2.70321101,
          2.7055366033333335,
          2.7082788633333337,
          2.695135706666667,
          2.6457425500000005,
          2.531349393333334,
          2.5199999866666674,
          2.5220880800000005,
          2.5339678400000003,
          2.5612121833333337,
          2.59303986,
          2.6314821200000003,
          2.66429938
         ]
        },
        {
         "line": {
          "color": "red",
          "dash": "dot"
         },
         "name": "Max Level",
         "type": "scatter",
         "uid": "28756741-e6a8-11e8-ae4d-9cb6d0e14be4",
         "x": [
          1,
          2,
          3,
          4,
          5,
          6,
          7,
          8,
          9,
          10,
          11,
          12,
          13
         ],
         "y": [
          2.8800000000000003,
          2.8800000000000003,
          2.8800000000000003,
          2.8800000000000003,
          2.8800000000000003,
          2.8800000000000003,
          2.8800000000000003,
          2.8800000000000003,
          2.8800000000000003,
          2.8800000000000003,
          2.8800000000000003,
          2.8800000000000003,
          2.8800000000000003
         ]
        },
        {
         "line": {
          "color": "red",
          "dash": "dot"
         },
         "name": "Min water level",
         "type": "scatter",
         "uid": "28756742-e6a8-11e8-bd8f-9cb6d0e14be4",
         "x": [
          1,
          2,
          3,
          4,
          5,
          6,
          7,
          8,
          9,
          10,
          11,
          12,
          13
         ],
         "y": [
          2.52,
          2.52,
          2.52,
          2.52,
          2.52,
          2.52,
          2.52,
          2.52,
          2.52,
          2.52,
          2.52,
          2.52,
          2.52
         ]
        }
       ],
       "layout": {
        "title": "CottageHillReservoir",
        "xaxis": {
         "title": "Time"
        },
        "yaxis": {
         "title": "Water Level / ML"
        }
       }
      },
      "text/html": [
       "<div id=\"6c2e1067-a087-442c-984e-94e722966e39\" style=\"height: 525px; width: 100%;\" class=\"plotly-graph-div\"></div><script type=\"text/javascript\">require([\"plotly\"], function(Plotly) { window.PLOTLYENV=window.PLOTLYENV || {};window.PLOTLYENV.BASE_URL=\"https://plot.ly\";Plotly.newPlot(\"6c2e1067-a087-442c-984e-94e722966e39\", [{\"line\": {\"color\": \"rgb(22, 96, 167)\"}, \"name\": \"CottageHillReservoir\", \"x\": [1, 2, 3, 4, 5, 6, 7, 8, 9, 10, 11, 12, 13], \"y\": [2.7, 2.70321101, 2.7055366033333335, 2.7082788633333337, 2.695135706666667, 2.6457425500000005, 2.531349393333334, 2.5199999866666674, 2.5220880800000005, 2.5339678400000003, 2.5612121833333337, 2.59303986, 2.6314821200000003, 2.66429938], \"type\": \"scatter\", \"uid\": \"2879f7f0-e6a8-11e8-a93a-9cb6d0e14be4\"}, {\"line\": {\"color\": \"red\", \"dash\": \"dot\"}, \"name\": \"Max Level\", \"x\": [1, 2, 3, 4, 5, 6, 7, 8, 9, 10, 11, 12, 13], \"y\": [2.8800000000000003, 2.8800000000000003, 2.8800000000000003, 2.8800000000000003, 2.8800000000000003, 2.8800000000000003, 2.8800000000000003, 2.8800000000000003, 2.8800000000000003, 2.8800000000000003, 2.8800000000000003, 2.8800000000000003, 2.8800000000000003], \"type\": \"scatter\", \"uid\": \"2879f7f1-e6a8-11e8-89ea-9cb6d0e14be4\"}, {\"line\": {\"color\": \"red\", \"dash\": \"dot\"}, \"name\": \"Min water level\", \"x\": [1, 2, 3, 4, 5, 6, 7, 8, 9, 10, 11, 12, 13], \"y\": [2.52, 2.52, 2.52, 2.52, 2.52, 2.52, 2.52, 2.52, 2.52, 2.52, 2.52, 2.52, 2.52], \"type\": \"scatter\", \"uid\": \"2879f7f2-e6a8-11e8-8878-9cb6d0e14be4\"}], {\"title\": \"CottageHillReservoir\", \"xaxis\": {\"title\": \"Time\"}, \"yaxis\": {\"title\": \"Water Level / ML\"}}, {\"showLink\": true, \"linkText\": \"Export to plot.ly\"})});</script>"
      ],
      "text/vnd.plotly.v1+html": [
       "<div id=\"6c2e1067-a087-442c-984e-94e722966e39\" style=\"height: 525px; width: 100%;\" class=\"plotly-graph-div\"></div><script type=\"text/javascript\">require([\"plotly\"], function(Plotly) { window.PLOTLYENV=window.PLOTLYENV || {};window.PLOTLYENV.BASE_URL=\"https://plot.ly\";Plotly.newPlot(\"6c2e1067-a087-442c-984e-94e722966e39\", [{\"line\": {\"color\": \"rgb(22, 96, 167)\"}, \"name\": \"CottageHillReservoir\", \"x\": [1, 2, 3, 4, 5, 6, 7, 8, 9, 10, 11, 12, 13], \"y\": [2.7, 2.70321101, 2.7055366033333335, 2.7082788633333337, 2.695135706666667, 2.6457425500000005, 2.531349393333334, 2.5199999866666674, 2.5220880800000005, 2.5339678400000003, 2.5612121833333337, 2.59303986, 2.6314821200000003, 2.66429938], \"type\": \"scatter\", \"uid\": \"2879f7f0-e6a8-11e8-a93a-9cb6d0e14be4\"}, {\"line\": {\"color\": \"red\", \"dash\": \"dot\"}, \"name\": \"Max Level\", \"x\": [1, 2, 3, 4, 5, 6, 7, 8, 9, 10, 11, 12, 13], \"y\": [2.8800000000000003, 2.8800000000000003, 2.8800000000000003, 2.8800000000000003, 2.8800000000000003, 2.8800000000000003, 2.8800000000000003, 2.8800000000000003, 2.8800000000000003, 2.8800000000000003, 2.8800000000000003, 2.8800000000000003, 2.8800000000000003], \"type\": \"scatter\", \"uid\": \"2879f7f1-e6a8-11e8-89ea-9cb6d0e14be4\"}, {\"line\": {\"color\": \"red\", \"dash\": \"dot\"}, \"name\": \"Min water level\", \"x\": [1, 2, 3, 4, 5, 6, 7, 8, 9, 10, 11, 12, 13], \"y\": [2.52, 2.52, 2.52, 2.52, 2.52, 2.52, 2.52, 2.52, 2.52, 2.52, 2.52, 2.52, 2.52], \"type\": \"scatter\", \"uid\": \"2879f7f2-e6a8-11e8-8878-9cb6d0e14be4\"}], {\"title\": \"CottageHillReservoir\", \"xaxis\": {\"title\": \"Time\"}, \"yaxis\": {\"title\": \"Water Level / ML\"}}, {\"showLink\": true, \"linkText\": \"Export to plot.ly\"})});</script>"
      ]
     },
     "metadata": {},
     "output_type": "display_data"
    },
    {
     "data": {
      "application/vnd.plotly.v1+json": {
       "data": [
        {
         "line": {
          "color": "rgb(22, 96, 167)"
         },
         "name": "CrowboroughReservoir",
         "type": "scatter",
         "uid": "2880d202-e6a8-11e8-9b86-9cb6d0e14be4",
         "x": [
          1,
          2,
          3,
          4,
          5,
          6,
          7,
          8,
          9,
          10,
          11,
          12,
          13
         ],
         "y": [
          2.4,
          2.347824769,
          2.404651621333333,
          2.472207640333333,
          2.5258574093333332,
          2.5456530116666665,
          2.501281947333333,
          2.319679633,
          2.271193985333333,
          2.240000004333333,
          2.241618523333333,
          2.2569349589999996,
          2.2550638946666663,
          2.2699636636666662
         ]
        },
        {
         "line": {
          "color": "red",
          "dash": "dot"
         },
         "name": "Max Level",
         "type": "scatter",
         "uid": "2880f82e-e6a8-11e8-9566-9cb6d0e14be4",
         "x": [
          1,
          2,
          3,
          4,
          5,
          6,
          7,
          8,
          9,
          10,
          11,
          12,
          13
         ],
         "y": [
          2.5600000000000005,
          2.5600000000000005,
          2.5600000000000005,
          2.5600000000000005,
          2.5600000000000005,
          2.5600000000000005,
          2.5600000000000005,
          2.5600000000000005,
          2.5600000000000005,
          2.5600000000000005,
          2.5600000000000005,
          2.5600000000000005,
          2.5600000000000005
         ]
        },
        {
         "line": {
          "color": "red",
          "dash": "dot"
         },
         "name": "Min water level",
         "type": "scatter",
         "uid": "2880f82f-e6a8-11e8-98a9-9cb6d0e14be4",
         "x": [
          1,
          2,
          3,
          4,
          5,
          6,
          7,
          8,
          9,
          10,
          11,
          12,
          13
         ],
         "y": [
          2.2399999999999998,
          2.2399999999999998,
          2.2399999999999998,
          2.2399999999999998,
          2.2399999999999998,
          2.2399999999999998,
          2.2399999999999998,
          2.2399999999999998,
          2.2399999999999998,
          2.2399999999999998,
          2.2399999999999998,
          2.2399999999999998,
          2.2399999999999998
         ]
        }
       ],
       "layout": {
        "title": "CrowboroughReservoir",
        "xaxis": {
         "title": "Time"
        },
        "yaxis": {
         "title": "Water Level / ML"
        }
       }
      },
      "text/html": [
       "<div id=\"69ef2a38-a2bb-401c-a673-0fc52c3a8c13\" style=\"height: 525px; width: 100%;\" class=\"plotly-graph-div\"></div><script type=\"text/javascript\">require([\"plotly\"], function(Plotly) { window.PLOTLYENV=window.PLOTLYENV || {};window.PLOTLYENV.BASE_URL=\"https://plot.ly\";Plotly.newPlot(\"69ef2a38-a2bb-401c-a673-0fc52c3a8c13\", [{\"line\": {\"color\": \"rgb(22, 96, 167)\"}, \"name\": \"CrowboroughReservoir\", \"x\": [1, 2, 3, 4, 5, 6, 7, 8, 9, 10, 11, 12, 13], \"y\": [2.4, 2.347824769, 2.404651621333333, 2.472207640333333, 2.5258574093333332, 2.5456530116666665, 2.501281947333333, 2.319679633, 2.271193985333333, 2.240000004333333, 2.241618523333333, 2.2569349589999996, 2.2550638946666663, 2.2699636636666662], \"type\": \"scatter\", \"uid\": \"28847834-e6a8-11e8-a1d0-9cb6d0e14be4\"}, {\"line\": {\"color\": \"red\", \"dash\": \"dot\"}, \"name\": \"Max Level\", \"x\": [1, 2, 3, 4, 5, 6, 7, 8, 9, 10, 11, 12, 13], \"y\": [2.5600000000000005, 2.5600000000000005, 2.5600000000000005, 2.5600000000000005, 2.5600000000000005, 2.5600000000000005, 2.5600000000000005, 2.5600000000000005, 2.5600000000000005, 2.5600000000000005, 2.5600000000000005, 2.5600000000000005, 2.5600000000000005], \"type\": \"scatter\", \"uid\": \"28847835-e6a8-11e8-b53a-9cb6d0e14be4\"}, {\"line\": {\"color\": \"red\", \"dash\": \"dot\"}, \"name\": \"Min water level\", \"x\": [1, 2, 3, 4, 5, 6, 7, 8, 9, 10, 11, 12, 13], \"y\": [2.2399999999999998, 2.2399999999999998, 2.2399999999999998, 2.2399999999999998, 2.2399999999999998, 2.2399999999999998, 2.2399999999999998, 2.2399999999999998, 2.2399999999999998, 2.2399999999999998, 2.2399999999999998, 2.2399999999999998, 2.2399999999999998], \"type\": \"scatter\", \"uid\": \"28849f1e-e6a8-11e8-920c-9cb6d0e14be4\"}], {\"title\": \"CrowboroughReservoir\", \"xaxis\": {\"title\": \"Time\"}, \"yaxis\": {\"title\": \"Water Level / ML\"}}, {\"showLink\": true, \"linkText\": \"Export to plot.ly\"})});</script>"
      ],
      "text/vnd.plotly.v1+html": [
       "<div id=\"69ef2a38-a2bb-401c-a673-0fc52c3a8c13\" style=\"height: 525px; width: 100%;\" class=\"plotly-graph-div\"></div><script type=\"text/javascript\">require([\"plotly\"], function(Plotly) { window.PLOTLYENV=window.PLOTLYENV || {};window.PLOTLYENV.BASE_URL=\"https://plot.ly\";Plotly.newPlot(\"69ef2a38-a2bb-401c-a673-0fc52c3a8c13\", [{\"line\": {\"color\": \"rgb(22, 96, 167)\"}, \"name\": \"CrowboroughReservoir\", \"x\": [1, 2, 3, 4, 5, 6, 7, 8, 9, 10, 11, 12, 13], \"y\": [2.4, 2.347824769, 2.404651621333333, 2.472207640333333, 2.5258574093333332, 2.5456530116666665, 2.501281947333333, 2.319679633, 2.271193985333333, 2.240000004333333, 2.241618523333333, 2.2569349589999996, 2.2550638946666663, 2.2699636636666662], \"type\": \"scatter\", \"uid\": \"28847834-e6a8-11e8-a1d0-9cb6d0e14be4\"}, {\"line\": {\"color\": \"red\", \"dash\": \"dot\"}, \"name\": \"Max Level\", \"x\": [1, 2, 3, 4, 5, 6, 7, 8, 9, 10, 11, 12, 13], \"y\": [2.5600000000000005, 2.5600000000000005, 2.5600000000000005, 2.5600000000000005, 2.5600000000000005, 2.5600000000000005, 2.5600000000000005, 2.5600000000000005, 2.5600000000000005, 2.5600000000000005, 2.5600000000000005, 2.5600000000000005, 2.5600000000000005], \"type\": \"scatter\", \"uid\": \"28847835-e6a8-11e8-b53a-9cb6d0e14be4\"}, {\"line\": {\"color\": \"red\", \"dash\": \"dot\"}, \"name\": \"Min water level\", \"x\": [1, 2, 3, 4, 5, 6, 7, 8, 9, 10, 11, 12, 13], \"y\": [2.2399999999999998, 2.2399999999999998, 2.2399999999999998, 2.2399999999999998, 2.2399999999999998, 2.2399999999999998, 2.2399999999999998, 2.2399999999999998, 2.2399999999999998, 2.2399999999999998, 2.2399999999999998, 2.2399999999999998, 2.2399999999999998], \"type\": \"scatter\", \"uid\": \"28849f1e-e6a8-11e8-920c-9cb6d0e14be4\"}], {\"title\": \"CrowboroughReservoir\", \"xaxis\": {\"title\": \"Time\"}, \"yaxis\": {\"title\": \"Water Level / ML\"}}, {\"showLink\": true, \"linkText\": \"Export to plot.ly\"})});</script>"
      ]
     },
     "metadata": {},
     "output_type": "display_data"
    },
    {
     "data": {
      "application/vnd.plotly.v1+json": {
       "data": [
        {
         "line": {
          "color": "rgb(22, 96, 167)"
         },
         "name": "CuckfieldReservoir",
         "type": "scatter",
         "uid": "28977ddc-e6a8-11e8-a5b5-9cb6d0e14be4",
         "x": [
          1,
          2,
          3,
          4,
          5,
          6,
          7,
          8,
          9,
          10,
          11,
          12,
          13
         ],
         "y": [
          3.45,
          3.3896875,
          3.4718229166666665,
          3.5541666666666667,
          3.6285416666666666,
          3.638541666666667,
          3.5606770833333337,
          3.4383333333333335,
          3.3411979166666668,
          3.385104166666667,
          3.4353125,
          3.503229166666667,
          3.564791666666667,
          3.6582291666666666
         ]
        },
        {
         "line": {
          "color": "red",
          "dash": "dot"
         },
         "name": "Max Level",
         "type": "scatter",
         "uid": "28977ddd-e6a8-11e8-a017-9cb6d0e14be4",
         "x": [
          1,
          2,
          3,
          4,
          5,
          6,
          7,
          8,
          9,
          10,
          11,
          12,
          13
         ],
         "y": [
          3.6799999999999997,
          3.6799999999999997,
          3.6799999999999997,
          3.6799999999999997,
          3.6799999999999997,
          3.6799999999999997,
          3.6799999999999997,
          3.6799999999999997,
          3.6799999999999997,
          3.6799999999999997,
          3.6799999999999997,
          3.6799999999999997,
          3.6799999999999997
         ]
        },
        {
         "line": {
          "color": "red",
          "dash": "dot"
         },
         "name": "Min water level",
         "type": "scatter",
         "uid": "28977dde-e6a8-11e8-b58c-9cb6d0e14be4",
         "x": [
          1,
          2,
          3,
          4,
          5,
          6,
          7,
          8,
          9,
          10,
          11,
          12,
          13
         ],
         "y": [
          3.2199999999999998,
          3.2199999999999998,
          3.2199999999999998,
          3.2199999999999998,
          3.2199999999999998,
          3.2199999999999998,
          3.2199999999999998,
          3.2199999999999998,
          3.2199999999999998,
          3.2199999999999998,
          3.2199999999999998,
          3.2199999999999998,
          3.2199999999999998
         ]
        }
       ],
       "layout": {
        "title": "CuckfieldReservoir",
        "xaxis": {
         "title": "Time"
        },
        "yaxis": {
         "title": "Water Level / ML"
        }
       }
      },
      "text/html": [
       "<div id=\"221d1d3a-5f0e-47dc-ac06-bd30a676941f\" style=\"height: 525px; width: 100%;\" class=\"plotly-graph-div\"></div><script type=\"text/javascript\">require([\"plotly\"], function(Plotly) { window.PLOTLYENV=window.PLOTLYENV || {};window.PLOTLYENV.BASE_URL=\"https://plot.ly\";Plotly.newPlot(\"221d1d3a-5f0e-47dc-ac06-bd30a676941f\", [{\"line\": {\"color\": \"rgb(22, 96, 167)\"}, \"name\": \"CuckfieldReservoir\", \"x\": [1, 2, 3, 4, 5, 6, 7, 8, 9, 10, 11, 12, 13], \"y\": [3.45, 3.3896875, 3.4718229166666665, 3.5541666666666667, 3.6285416666666666, 3.638541666666667, 3.5606770833333337, 3.4383333333333335, 3.3411979166666668, 3.385104166666667, 3.4353125, 3.503229166666667, 3.564791666666667, 3.6582291666666666], \"type\": \"scatter\", \"uid\": \"289b99d2-e6a8-11e8-b30b-9cb6d0e14be4\"}, {\"line\": {\"color\": \"red\", \"dash\": \"dot\"}, \"name\": \"Max Level\", \"x\": [1, 2, 3, 4, 5, 6, 7, 8, 9, 10, 11, 12, 13], \"y\": [3.6799999999999997, 3.6799999999999997, 3.6799999999999997, 3.6799999999999997, 3.6799999999999997, 3.6799999999999997, 3.6799999999999997, 3.6799999999999997, 3.6799999999999997, 3.6799999999999997, 3.6799999999999997, 3.6799999999999997, 3.6799999999999997], \"type\": \"scatter\", \"uid\": \"289b99d3-e6a8-11e8-a36d-9cb6d0e14be4\"}, {\"line\": {\"color\": \"red\", \"dash\": \"dot\"}, \"name\": \"Min water level\", \"x\": [1, 2, 3, 4, 5, 6, 7, 8, 9, 10, 11, 12, 13], \"y\": [3.2199999999999998, 3.2199999999999998, 3.2199999999999998, 3.2199999999999998, 3.2199999999999998, 3.2199999999999998, 3.2199999999999998, 3.2199999999999998, 3.2199999999999998, 3.2199999999999998, 3.2199999999999998, 3.2199999999999998, 3.2199999999999998], \"type\": \"scatter\", \"uid\": \"289b99d4-e6a8-11e8-814d-9cb6d0e14be4\"}], {\"title\": \"CuckfieldReservoir\", \"xaxis\": {\"title\": \"Time\"}, \"yaxis\": {\"title\": \"Water Level / ML\"}}, {\"showLink\": true, \"linkText\": \"Export to plot.ly\"})});</script>"
      ],
      "text/vnd.plotly.v1+html": [
       "<div id=\"221d1d3a-5f0e-47dc-ac06-bd30a676941f\" style=\"height: 525px; width: 100%;\" class=\"plotly-graph-div\"></div><script type=\"text/javascript\">require([\"plotly\"], function(Plotly) { window.PLOTLYENV=window.PLOTLYENV || {};window.PLOTLYENV.BASE_URL=\"https://plot.ly\";Plotly.newPlot(\"221d1d3a-5f0e-47dc-ac06-bd30a676941f\", [{\"line\": {\"color\": \"rgb(22, 96, 167)\"}, \"name\": \"CuckfieldReservoir\", \"x\": [1, 2, 3, 4, 5, 6, 7, 8, 9, 10, 11, 12, 13], \"y\": [3.45, 3.3896875, 3.4718229166666665, 3.5541666666666667, 3.6285416666666666, 3.638541666666667, 3.5606770833333337, 3.4383333333333335, 3.3411979166666668, 3.385104166666667, 3.4353125, 3.503229166666667, 3.564791666666667, 3.6582291666666666], \"type\": \"scatter\", \"uid\": \"289b99d2-e6a8-11e8-b30b-9cb6d0e14be4\"}, {\"line\": {\"color\": \"red\", \"dash\": \"dot\"}, \"name\": \"Max Level\", \"x\": [1, 2, 3, 4, 5, 6, 7, 8, 9, 10, 11, 12, 13], \"y\": [3.6799999999999997, 3.6799999999999997, 3.6799999999999997, 3.6799999999999997, 3.6799999999999997, 3.6799999999999997, 3.6799999999999997, 3.6799999999999997, 3.6799999999999997, 3.6799999999999997, 3.6799999999999997, 3.6799999999999997, 3.6799999999999997], \"type\": \"scatter\", \"uid\": \"289b99d3-e6a8-11e8-a36d-9cb6d0e14be4\"}, {\"line\": {\"color\": \"red\", \"dash\": \"dot\"}, \"name\": \"Min water level\", \"x\": [1, 2, 3, 4, 5, 6, 7, 8, 9, 10, 11, 12, 13], \"y\": [3.2199999999999998, 3.2199999999999998, 3.2199999999999998, 3.2199999999999998, 3.2199999999999998, 3.2199999999999998, 3.2199999999999998, 3.2199999999999998, 3.2199999999999998, 3.2199999999999998, 3.2199999999999998, 3.2199999999999998, 3.2199999999999998], \"type\": \"scatter\", \"uid\": \"289b99d4-e6a8-11e8-814d-9cb6d0e14be4\"}], {\"title\": \"CuckfieldReservoir\", \"xaxis\": {\"title\": \"Time\"}, \"yaxis\": {\"title\": \"Water Level / ML\"}}, {\"showLink\": true, \"linkText\": \"Export to plot.ly\"})});</script>"
      ]
     },
     "metadata": {},
     "output_type": "display_data"
    },
    {
     "data": {
      "application/vnd.plotly.v1+json": {
       "data": [
        {
         "line": {
          "color": "rgb(22, 96, 167)"
         },
         "name": "GrovelandsReservoir",
         "type": "scatter",
         "uid": "28a335ac-e6a8-11e8-b80b-9cb6d0e14be4",
         "x": [
          1,
          2,
          3,
          4,
          5,
          6,
          7,
          8,
          9,
          10,
          11,
          12,
          13
         ],
         "y": [
          3.45,
          3.4144270833333334,
          3.3809375,
          3.5979687499999997,
          3.6311979166666664,
          3.6360937499999997,
          3.57875,
          3.4966666666666666,
          3.4366666666666665,
          3.3921875,
          3.3601562499999997,
          3.3335416666666666,
          3.3130729166666666,
          3.2946874999999998
         ]
        },
        {
         "line": {
          "color": "red",
          "dash": "dot"
         },
         "name": "Max Level",
         "type": "scatter",
         "uid": "28a335ad-e6a8-11e8-a19e-9cb6d0e14be4",
         "x": [
          1,
          2,
          3,
          4,
          5,
          6,
          7,
          8,
          9,
          10,
          11,
          12,
          13
         ],
         "y": [
          3.6799999999999997,
          3.6799999999999997,
          3.6799999999999997,
          3.6799999999999997,
          3.6799999999999997,
          3.6799999999999997,
          3.6799999999999997,
          3.6799999999999997,
          3.6799999999999997,
          3.6799999999999997,
          3.6799999999999997,
          3.6799999999999997,
          3.6799999999999997
         ]
        },
        {
         "line": {
          "color": "red",
          "dash": "dot"
         },
         "name": "Min water level",
         "type": "scatter",
         "uid": "28a335ae-e6a8-11e8-8220-9cb6d0e14be4",
         "x": [
          1,
          2,
          3,
          4,
          5,
          6,
          7,
          8,
          9,
          10,
          11,
          12,
          13
         ],
         "y": [
          3.2199999999999998,
          3.2199999999999998,
          3.2199999999999998,
          3.2199999999999998,
          3.2199999999999998,
          3.2199999999999998,
          3.2199999999999998,
          3.2199999999999998,
          3.2199999999999998,
          3.2199999999999998,
          3.2199999999999998,
          3.2199999999999998,
          3.2199999999999998
         ]
        }
       ],
       "layout": {
        "title": "GrovelandsReservoir",
        "xaxis": {
         "title": "Time"
        },
        "yaxis": {
         "title": "Water Level / ML"
        }
       }
      },
      "text/html": [
       "<div id=\"d60befe9-f586-4122-8f34-d8567969dd7f\" style=\"height: 525px; width: 100%;\" class=\"plotly-graph-div\"></div><script type=\"text/javascript\">require([\"plotly\"], function(Plotly) { window.PLOTLYENV=window.PLOTLYENV || {};window.PLOTLYENV.BASE_URL=\"https://plot.ly\";Plotly.newPlot(\"d60befe9-f586-4122-8f34-d8567969dd7f\", [{\"line\": {\"color\": \"rgb(22, 96, 167)\"}, \"name\": \"GrovelandsReservoir\", \"x\": [1, 2, 3, 4, 5, 6, 7, 8, 9, 10, 11, 12, 13], \"y\": [3.45, 3.4144270833333334, 3.3809375, 3.5979687499999997, 3.6311979166666664, 3.6360937499999997, 3.57875, 3.4966666666666666, 3.4366666666666665, 3.3921875, 3.3601562499999997, 3.3335416666666666, 3.3130729166666666, 3.2946874999999998], \"type\": \"scatter\", \"uid\": \"28a72a9a-e6a8-11e8-91be-9cb6d0e14be4\"}, {\"line\": {\"color\": \"red\", \"dash\": \"dot\"}, \"name\": \"Max Level\", \"x\": [1, 2, 3, 4, 5, 6, 7, 8, 9, 10, 11, 12, 13], \"y\": [3.6799999999999997, 3.6799999999999997, 3.6799999999999997, 3.6799999999999997, 3.6799999999999997, 3.6799999999999997, 3.6799999999999997, 3.6799999999999997, 3.6799999999999997, 3.6799999999999997, 3.6799999999999997, 3.6799999999999997, 3.6799999999999997], \"type\": \"scatter\", \"uid\": \"28a72a9b-e6a8-11e8-ab69-9cb6d0e14be4\"}, {\"line\": {\"color\": \"red\", \"dash\": \"dot\"}, \"name\": \"Min water level\", \"x\": [1, 2, 3, 4, 5, 6, 7, 8, 9, 10, 11, 12, 13], \"y\": [3.2199999999999998, 3.2199999999999998, 3.2199999999999998, 3.2199999999999998, 3.2199999999999998, 3.2199999999999998, 3.2199999999999998, 3.2199999999999998, 3.2199999999999998, 3.2199999999999998, 3.2199999999999998, 3.2199999999999998, 3.2199999999999998], \"type\": \"scatter\", \"uid\": \"28a72a9c-e6a8-11e8-80d6-9cb6d0e14be4\"}], {\"title\": \"GrovelandsReservoir\", \"xaxis\": {\"title\": \"Time\"}, \"yaxis\": {\"title\": \"Water Level / ML\"}}, {\"showLink\": true, \"linkText\": \"Export to plot.ly\"})});</script>"
      ],
      "text/vnd.plotly.v1+html": [
       "<div id=\"d60befe9-f586-4122-8f34-d8567969dd7f\" style=\"height: 525px; width: 100%;\" class=\"plotly-graph-div\"></div><script type=\"text/javascript\">require([\"plotly\"], function(Plotly) { window.PLOTLYENV=window.PLOTLYENV || {};window.PLOTLYENV.BASE_URL=\"https://plot.ly\";Plotly.newPlot(\"d60befe9-f586-4122-8f34-d8567969dd7f\", [{\"line\": {\"color\": \"rgb(22, 96, 167)\"}, \"name\": \"GrovelandsReservoir\", \"x\": [1, 2, 3, 4, 5, 6, 7, 8, 9, 10, 11, 12, 13], \"y\": [3.45, 3.4144270833333334, 3.3809375, 3.5979687499999997, 3.6311979166666664, 3.6360937499999997, 3.57875, 3.4966666666666666, 3.4366666666666665, 3.3921875, 3.3601562499999997, 3.3335416666666666, 3.3130729166666666, 3.2946874999999998], \"type\": \"scatter\", \"uid\": \"28a72a9a-e6a8-11e8-91be-9cb6d0e14be4\"}, {\"line\": {\"color\": \"red\", \"dash\": \"dot\"}, \"name\": \"Max Level\", \"x\": [1, 2, 3, 4, 5, 6, 7, 8, 9, 10, 11, 12, 13], \"y\": [3.6799999999999997, 3.6799999999999997, 3.6799999999999997, 3.6799999999999997, 3.6799999999999997, 3.6799999999999997, 3.6799999999999997, 3.6799999999999997, 3.6799999999999997, 3.6799999999999997, 3.6799999999999997, 3.6799999999999997, 3.6799999999999997], \"type\": \"scatter\", \"uid\": \"28a72a9b-e6a8-11e8-ab69-9cb6d0e14be4\"}, {\"line\": {\"color\": \"red\", \"dash\": \"dot\"}, \"name\": \"Min water level\", \"x\": [1, 2, 3, 4, 5, 6, 7, 8, 9, 10, 11, 12, 13], \"y\": [3.2199999999999998, 3.2199999999999998, 3.2199999999999998, 3.2199999999999998, 3.2199999999999998, 3.2199999999999998, 3.2199999999999998, 3.2199999999999998, 3.2199999999999998, 3.2199999999999998, 3.2199999999999998, 3.2199999999999998, 3.2199999999999998], \"type\": \"scatter\", \"uid\": \"28a72a9c-e6a8-11e8-80d6-9cb6d0e14be4\"}], {\"title\": \"GrovelandsReservoir\", \"xaxis\": {\"title\": \"Time\"}, \"yaxis\": {\"title\": \"Water Level / ML\"}}, {\"showLink\": true, \"linkText\": \"Export to plot.ly\"})});</script>"
      ]
     },
     "metadata": {},
     "output_type": "display_data"
    },
    {
     "data": {
      "application/vnd.plotly.v1+json": {
       "data": [
        {
         "line": {
          "color": "rgb(22, 96, 167)"
         },
         "name": "HorstedKeynesReservoir",
         "type": "scatter",
         "uid": "28acf300-e6a8-11e8-a717-9cb6d0e14be4",
         "x": [
          1,
          2,
          3,
          4,
          5,
          6,
          7,
          8,
          9,
          10,
          11,
          12,
          13
         ],
         "y": [
          27.45,
          28.421388889,
          29.247152778,
          29.280000000333334,
          29.003576389333336,
          28.995538195,
          28.867864584000003,
          28.665555556333338,
          28.49012152866667,
          28.340833334333336,
          27.90763889,
          27.787048612333336,
          27.678385418000005,
          27.57467014033334
         ]
        },
        {
         "line": {
          "color": "red",
          "dash": "dot"
         },
         "name": "Max Level",
         "type": "scatter",
         "uid": "28acf301-e6a8-11e8-827c-9cb6d0e14be4",
         "x": [
          1,
          2,
          3,
          4,
          5,
          6,
          7,
          8,
          9,
          10,
          11,
          12,
          13
         ],
         "y": [
          29.28,
          29.28,
          29.28,
          29.28,
          29.28,
          29.28,
          29.28,
          29.28,
          29.28,
          29.28,
          29.28,
          29.28,
          29.28
         ]
        },
        {
         "line": {
          "color": "red",
          "dash": "dot"
         },
         "name": "Min water level",
         "type": "scatter",
         "uid": "28acf302-e6a8-11e8-9c1a-9cb6d0e14be4",
         "x": [
          1,
          2,
          3,
          4,
          5,
          6,
          7,
          8,
          9,
          10,
          11,
          12,
          13
         ],
         "y": [
          25.62,
          25.62,
          25.62,
          25.62,
          25.62,
          25.62,
          25.62,
          25.62,
          25.62,
          25.62,
          25.62,
          25.62,
          25.62
         ]
        }
       ],
       "layout": {
        "title": "HorstedKeynesReservoir",
        "xaxis": {
         "title": "Time"
        },
        "yaxis": {
         "title": "Water Level / ML"
        }
       }
      },
      "text/html": [
       "<div id=\"49e4520a-cd8b-4403-b867-046048e8b933\" style=\"height: 525px; width: 100%;\" class=\"plotly-graph-div\"></div><script type=\"text/javascript\">require([\"plotly\"], function(Plotly) { window.PLOTLYENV=window.PLOTLYENV || {};window.PLOTLYENV.BASE_URL=\"https://plot.ly\";Plotly.newPlot(\"49e4520a-cd8b-4403-b867-046048e8b933\", [{\"line\": {\"color\": \"rgb(22, 96, 167)\"}, \"name\": \"HorstedKeynesReservoir\", \"x\": [1, 2, 3, 4, 5, 6, 7, 8, 9, 10, 11, 12, 13], \"y\": [27.45, 28.421388889, 29.247152778, 29.280000000333334, 29.003576389333336, 28.995538195, 28.867864584000003, 28.665555556333338, 28.49012152866667, 28.340833334333336, 27.90763889, 27.787048612333336, 27.678385418000005, 27.57467014033334], \"type\": \"scatter\", \"uid\": \"28b24688-e6a8-11e8-b79d-9cb6d0e14be4\"}, {\"line\": {\"color\": \"red\", \"dash\": \"dot\"}, \"name\": \"Max Level\", \"x\": [1, 2, 3, 4, 5, 6, 7, 8, 9, 10, 11, 12, 13], \"y\": [29.28, 29.28, 29.28, 29.28, 29.28, 29.28, 29.28, 29.28, 29.28, 29.28, 29.28, 29.28, 29.28], \"type\": \"scatter\", \"uid\": \"28b24689-e6a8-11e8-a28b-9cb6d0e14be4\"}, {\"line\": {\"color\": \"red\", \"dash\": \"dot\"}, \"name\": \"Min water level\", \"x\": [1, 2, 3, 4, 5, 6, 7, 8, 9, 10, 11, 12, 13], \"y\": [25.62, 25.62, 25.62, 25.62, 25.62, 25.62, 25.62, 25.62, 25.62, 25.62, 25.62, 25.62, 25.62], \"type\": \"scatter\", \"uid\": \"28b2468a-e6a8-11e8-a225-9cb6d0e14be4\"}], {\"title\": \"HorstedKeynesReservoir\", \"xaxis\": {\"title\": \"Time\"}, \"yaxis\": {\"title\": \"Water Level / ML\"}}, {\"showLink\": true, \"linkText\": \"Export to plot.ly\"})});</script>"
      ],
      "text/vnd.plotly.v1+html": [
       "<div id=\"49e4520a-cd8b-4403-b867-046048e8b933\" style=\"height: 525px; width: 100%;\" class=\"plotly-graph-div\"></div><script type=\"text/javascript\">require([\"plotly\"], function(Plotly) { window.PLOTLYENV=window.PLOTLYENV || {};window.PLOTLYENV.BASE_URL=\"https://plot.ly\";Plotly.newPlot(\"49e4520a-cd8b-4403-b867-046048e8b933\", [{\"line\": {\"color\": \"rgb(22, 96, 167)\"}, \"name\": \"HorstedKeynesReservoir\", \"x\": [1, 2, 3, 4, 5, 6, 7, 8, 9, 10, 11, 12, 13], \"y\": [27.45, 28.421388889, 29.247152778, 29.280000000333334, 29.003576389333336, 28.995538195, 28.867864584000003, 28.665555556333338, 28.49012152866667, 28.340833334333336, 27.90763889, 27.787048612333336, 27.678385418000005, 27.57467014033334], \"type\": \"scatter\", \"uid\": \"28b24688-e6a8-11e8-b79d-9cb6d0e14be4\"}, {\"line\": {\"color\": \"red\", \"dash\": \"dot\"}, \"name\": \"Max Level\", \"x\": [1, 2, 3, 4, 5, 6, 7, 8, 9, 10, 11, 12, 13], \"y\": [29.28, 29.28, 29.28, 29.28, 29.28, 29.28, 29.28, 29.28, 29.28, 29.28, 29.28, 29.28, 29.28], \"type\": \"scatter\", \"uid\": \"28b24689-e6a8-11e8-a28b-9cb6d0e14be4\"}, {\"line\": {\"color\": \"red\", \"dash\": \"dot\"}, \"name\": \"Min water level\", \"x\": [1, 2, 3, 4, 5, 6, 7, 8, 9, 10, 11, 12, 13], \"y\": [25.62, 25.62, 25.62, 25.62, 25.62, 25.62, 25.62, 25.62, 25.62, 25.62, 25.62, 25.62, 25.62], \"type\": \"scatter\", \"uid\": \"28b2468a-e6a8-11e8-a225-9cb6d0e14be4\"}], {\"title\": \"HorstedKeynesReservoir\", \"xaxis\": {\"title\": \"Time\"}, \"yaxis\": {\"title\": \"Water Level / ML\"}}, {\"showLink\": true, \"linkText\": \"Export to plot.ly\"})});</script>"
      ]
     },
     "metadata": {},
     "output_type": "display_data"
    },
    {
     "data": {
      "application/vnd.plotly.v1+json": {
       "data": [
        {
         "line": {
          "color": "rgb(22, 96, 167)"
         },
         "name": "HourneFarmReservoir",
         "type": "scatter",
         "uid": "28b9469c-e6a8-11e8-a377-9cb6d0e14be4",
         "x": [
          1,
          2,
          3,
          4,
          5,
          6,
          7,
          8,
          9,
          10,
          11,
          12,
          13
         ],
         "y": [
          0.525,
          0.5046875000000001,
          0.4958520833333334,
          0.4869125000000001,
          0.47635833333333344,
          0.45778333333333343,
          0.41592708333333345,
          0.48161458333333346,
          0.4378312500000001,
          0.3992041666666668,
          0.3669833333333335,
          0.3320541666666668,
          0.30025000000000013,
          0.26730000000000015
         ]
        },
        {
         "line": {
          "color": "red",
          "dash": "dot"
         },
         "name": "Max Level",
         "type": "scatter",
         "uid": "28b9469d-e6a8-11e8-a802-9cb6d0e14be4",
         "x": [
          1,
          2,
          3,
          4,
          5,
          6,
          7,
          8,
          9,
          10,
          11,
          12,
          13
         ],
         "y": [
          0.5599999999999999,
          0.5599999999999999,
          0.5599999999999999,
          0.5599999999999999,
          0.5599999999999999,
          0.5599999999999999,
          0.5599999999999999,
          0.5599999999999999,
          0.5599999999999999,
          0.5599999999999999,
          0.5599999999999999,
          0.5599999999999999,
          0.5599999999999999
         ]
        },
        {
         "line": {
          "color": "red",
          "dash": "dot"
         },
         "name": "Min water level",
         "type": "scatter",
         "uid": "28b9469e-e6a8-11e8-b3f0-9cb6d0e14be4",
         "x": [
          1,
          2,
          3,
          4,
          5,
          6,
          7,
          8,
          9,
          10,
          11,
          12,
          13
         ],
         "y": [
          0.48999999999999994,
          0.48999999999999994,
          0.48999999999999994,
          0.48999999999999994,
          0.48999999999999994,
          0.48999999999999994,
          0.48999999999999994,
          0.48999999999999994,
          0.48999999999999994,
          0.48999999999999994,
          0.48999999999999994,
          0.48999999999999994,
          0.48999999999999994
         ]
        }
       ],
       "layout": {
        "title": "HourneFarmReservoir",
        "xaxis": {
         "title": "Time"
        },
        "yaxis": {
         "title": "Water Level / ML"
        }
       }
      },
      "text/html": [
       "<div id=\"de670682-1110-4abd-b200-78dde67327a2\" style=\"height: 525px; width: 100%;\" class=\"plotly-graph-div\"></div><script type=\"text/javascript\">require([\"plotly\"], function(Plotly) { window.PLOTLYENV=window.PLOTLYENV || {};window.PLOTLYENV.BASE_URL=\"https://plot.ly\";Plotly.newPlot(\"de670682-1110-4abd-b200-78dde67327a2\", [{\"line\": {\"color\": \"rgb(22, 96, 167)\"}, \"name\": \"HourneFarmReservoir\", \"x\": [1, 2, 3, 4, 5, 6, 7, 8, 9, 10, 11, 12, 13], \"y\": [0.525, 0.5046875000000001, 0.4958520833333334, 0.4869125000000001, 0.47635833333333344, 0.45778333333333343, 0.41592708333333345, 0.48161458333333346, 0.4378312500000001, 0.3992041666666668, 0.3669833333333335, 0.3320541666666668, 0.30025000000000013, 0.26730000000000015], \"type\": \"scatter\", \"uid\": \"28bd6280-e6a8-11e8-9519-9cb6d0e14be4\"}, {\"line\": {\"color\": \"red\", \"dash\": \"dot\"}, \"name\": \"Max Level\", \"x\": [1, 2, 3, 4, 5, 6, 7, 8, 9, 10, 11, 12, 13], \"y\": [0.5599999999999999, 0.5599999999999999, 0.5599999999999999, 0.5599999999999999, 0.5599999999999999, 0.5599999999999999, 0.5599999999999999, 0.5599999999999999, 0.5599999999999999, 0.5599999999999999, 0.5599999999999999, 0.5599999999999999, 0.5599999999999999], \"type\": \"scatter\", \"uid\": \"28bd6281-e6a8-11e8-bd98-9cb6d0e14be4\"}, {\"line\": {\"color\": \"red\", \"dash\": \"dot\"}, \"name\": \"Min water level\", \"x\": [1, 2, 3, 4, 5, 6, 7, 8, 9, 10, 11, 12, 13], \"y\": [0.48999999999999994, 0.48999999999999994, 0.48999999999999994, 0.48999999999999994, 0.48999999999999994, 0.48999999999999994, 0.48999999999999994, 0.48999999999999994, 0.48999999999999994, 0.48999999999999994, 0.48999999999999994, 0.48999999999999994, 0.48999999999999994], \"type\": \"scatter\", \"uid\": \"28bd6282-e6a8-11e8-ba10-9cb6d0e14be4\"}], {\"title\": \"HourneFarmReservoir\", \"xaxis\": {\"title\": \"Time\"}, \"yaxis\": {\"title\": \"Water Level / ML\"}}, {\"showLink\": true, \"linkText\": \"Export to plot.ly\"})});</script>"
      ],
      "text/vnd.plotly.v1+html": [
       "<div id=\"de670682-1110-4abd-b200-78dde67327a2\" style=\"height: 525px; width: 100%;\" class=\"plotly-graph-div\"></div><script type=\"text/javascript\">require([\"plotly\"], function(Plotly) { window.PLOTLYENV=window.PLOTLYENV || {};window.PLOTLYENV.BASE_URL=\"https://plot.ly\";Plotly.newPlot(\"de670682-1110-4abd-b200-78dde67327a2\", [{\"line\": {\"color\": \"rgb(22, 96, 167)\"}, \"name\": \"HourneFarmReservoir\", \"x\": [1, 2, 3, 4, 5, 6, 7, 8, 9, 10, 11, 12, 13], \"y\": [0.525, 0.5046875000000001, 0.4958520833333334, 0.4869125000000001, 0.47635833333333344, 0.45778333333333343, 0.41592708333333345, 0.48161458333333346, 0.4378312500000001, 0.3992041666666668, 0.3669833333333335, 0.3320541666666668, 0.30025000000000013, 0.26730000000000015], \"type\": \"scatter\", \"uid\": \"28bd6280-e6a8-11e8-9519-9cb6d0e14be4\"}, {\"line\": {\"color\": \"red\", \"dash\": \"dot\"}, \"name\": \"Max Level\", \"x\": [1, 2, 3, 4, 5, 6, 7, 8, 9, 10, 11, 12, 13], \"y\": [0.5599999999999999, 0.5599999999999999, 0.5599999999999999, 0.5599999999999999, 0.5599999999999999, 0.5599999999999999, 0.5599999999999999, 0.5599999999999999, 0.5599999999999999, 0.5599999999999999, 0.5599999999999999, 0.5599999999999999, 0.5599999999999999], \"type\": \"scatter\", \"uid\": \"28bd6281-e6a8-11e8-bd98-9cb6d0e14be4\"}, {\"line\": {\"color\": \"red\", \"dash\": \"dot\"}, \"name\": \"Min water level\", \"x\": [1, 2, 3, 4, 5, 6, 7, 8, 9, 10, 11, 12, 13], \"y\": [0.48999999999999994, 0.48999999999999994, 0.48999999999999994, 0.48999999999999994, 0.48999999999999994, 0.48999999999999994, 0.48999999999999994, 0.48999999999999994, 0.48999999999999994, 0.48999999999999994, 0.48999999999999994, 0.48999999999999994, 0.48999999999999994], \"type\": \"scatter\", \"uid\": \"28bd6282-e6a8-11e8-ba10-9cb6d0e14be4\"}], {\"title\": \"HourneFarmReservoir\", \"xaxis\": {\"title\": \"Time\"}, \"yaxis\": {\"title\": \"Water Level / ML\"}}, {\"showLink\": true, \"linkText\": \"Export to plot.ly\"})});</script>"
      ]
     },
     "metadata": {},
     "output_type": "display_data"
    },
    {
     "data": {
      "application/vnd.plotly.v1+json": {
       "data": [
        {
         "line": {
          "color": "rgb(22, 96, 167)"
         },
         "name": "NutleyReservoir",
         "type": "scatter",
         "uid": "28c54c6e-e6a8-11e8-bb23-9cb6d0e14be4",
         "x": [
          1,
          2,
          3,
          4,
          5,
          6,
          7,
          8,
          9,
          10,
          11,
          12,
          13
         ],
         "y": [
          2.5125,
          2.5486770830000003,
          2.5866249993333335,
          2.6242083323333336,
          2.661583332,
          2.6799999983333334,
          2.6604882796666667,
          2.616757811,
          2.590527342333333,
          2.563098957,
          2.5538476549999998,
          2.549283853,
          2.546751301,
          2.5453645823333333
         ]
        },
        {
         "line": {
          "color": "red",
          "dash": "dot"
         },
         "name": "Max Level",
         "type": "scatter",
         "uid": "28c54c6f-e6a8-11e8-8942-9cb6d0e14be4",
         "x": [
          1,
          2,
          3,
          4,
          5,
          6,
          7,
          8,
          9,
          10,
          11,
          12,
          13
         ],
         "y": [
          2.68,
          2.68,
          2.68,
          2.68,
          2.68,
          2.68,
          2.68,
          2.68,
          2.68,
          2.68,
          2.68,
          2.68,
          2.68
         ]
        },
        {
         "line": {
          "color": "red",
          "dash": "dot"
         },
         "name": "Min water level",
         "type": "scatter",
         "uid": "28c54c70-e6a8-11e8-957f-9cb6d0e14be4",
         "x": [
          1,
          2,
          3,
          4,
          5,
          6,
          7,
          8,
          9,
          10,
          11,
          12,
          13
         ],
         "y": [
          2.3449999999999998,
          2.3449999999999998,
          2.3449999999999998,
          2.3449999999999998,
          2.3449999999999998,
          2.3449999999999998,
          2.3449999999999998,
          2.3449999999999998,
          2.3449999999999998,
          2.3449999999999998,
          2.3449999999999998,
          2.3449999999999998,
          2.3449999999999998
         ]
        }
       ],
       "layout": {
        "title": "NutleyReservoir",
        "xaxis": {
         "title": "Time"
        },
        "yaxis": {
         "title": "Water Level / ML"
        }
       }
      },
      "text/html": [
       "<div id=\"4339fb4f-8341-4c1a-ac7f-55ea0f59b104\" style=\"height: 525px; width: 100%;\" class=\"plotly-graph-div\"></div><script type=\"text/javascript\">require([\"plotly\"], function(Plotly) { window.PLOTLYENV=window.PLOTLYENV || {};window.PLOTLYENV.BASE_URL=\"https://plot.ly\";Plotly.newPlot(\"4339fb4f-8341-4c1a-ac7f-55ea0f59b104\", [{\"line\": {\"color\": \"rgb(22, 96, 167)\"}, \"name\": \"NutleyReservoir\", \"x\": [1, 2, 3, 4, 5, 6, 7, 8, 9, 10, 11, 12, 13], \"y\": [2.5125, 2.5486770830000003, 2.5866249993333335, 2.6242083323333336, 2.661583332, 2.6799999983333334, 2.6604882796666667, 2.616757811, 2.590527342333333, 2.563098957, 2.5538476549999998, 2.549283853, 2.546751301, 2.5453645823333333], \"type\": \"scatter\", \"uid\": \"28c94136-e6a8-11e8-bbdd-9cb6d0e14be4\"}, {\"line\": {\"color\": \"red\", \"dash\": \"dot\"}, \"name\": \"Max Level\", \"x\": [1, 2, 3, 4, 5, 6, 7, 8, 9, 10, 11, 12, 13], \"y\": [2.68, 2.68, 2.68, 2.68, 2.68, 2.68, 2.68, 2.68, 2.68, 2.68, 2.68, 2.68, 2.68], \"type\": \"scatter\", \"uid\": \"28c94137-e6a8-11e8-bc23-9cb6d0e14be4\"}, {\"line\": {\"color\": \"red\", \"dash\": \"dot\"}, \"name\": \"Min water level\", \"x\": [1, 2, 3, 4, 5, 6, 7, 8, 9, 10, 11, 12, 13], \"y\": [2.3449999999999998, 2.3449999999999998, 2.3449999999999998, 2.3449999999999998, 2.3449999999999998, 2.3449999999999998, 2.3449999999999998, 2.3449999999999998, 2.3449999999999998, 2.3449999999999998, 2.3449999999999998, 2.3449999999999998, 2.3449999999999998], \"type\": \"scatter\", \"uid\": \"28c94138-e6a8-11e8-a768-9cb6d0e14be4\"}], {\"title\": \"NutleyReservoir\", \"xaxis\": {\"title\": \"Time\"}, \"yaxis\": {\"title\": \"Water Level / ML\"}}, {\"showLink\": true, \"linkText\": \"Export to plot.ly\"})});</script>"
      ],
      "text/vnd.plotly.v1+html": [
       "<div id=\"4339fb4f-8341-4c1a-ac7f-55ea0f59b104\" style=\"height: 525px; width: 100%;\" class=\"plotly-graph-div\"></div><script type=\"text/javascript\">require([\"plotly\"], function(Plotly) { window.PLOTLYENV=window.PLOTLYENV || {};window.PLOTLYENV.BASE_URL=\"https://plot.ly\";Plotly.newPlot(\"4339fb4f-8341-4c1a-ac7f-55ea0f59b104\", [{\"line\": {\"color\": \"rgb(22, 96, 167)\"}, \"name\": \"NutleyReservoir\", \"x\": [1, 2, 3, 4, 5, 6, 7, 8, 9, 10, 11, 12, 13], \"y\": [2.5125, 2.5486770830000003, 2.5866249993333335, 2.6242083323333336, 2.661583332, 2.6799999983333334, 2.6604882796666667, 2.616757811, 2.590527342333333, 2.563098957, 2.5538476549999998, 2.549283853, 2.546751301, 2.5453645823333333], \"type\": \"scatter\", \"uid\": \"28c94136-e6a8-11e8-bbdd-9cb6d0e14be4\"}, {\"line\": {\"color\": \"red\", \"dash\": \"dot\"}, \"name\": \"Max Level\", \"x\": [1, 2, 3, 4, 5, 6, 7, 8, 9, 10, 11, 12, 13], \"y\": [2.68, 2.68, 2.68, 2.68, 2.68, 2.68, 2.68, 2.68, 2.68, 2.68, 2.68, 2.68, 2.68], \"type\": \"scatter\", \"uid\": \"28c94137-e6a8-11e8-bc23-9cb6d0e14be4\"}, {\"line\": {\"color\": \"red\", \"dash\": \"dot\"}, \"name\": \"Min water level\", \"x\": [1, 2, 3, 4, 5, 6, 7, 8, 9, 10, 11, 12, 13], \"y\": [2.3449999999999998, 2.3449999999999998, 2.3449999999999998, 2.3449999999999998, 2.3449999999999998, 2.3449999999999998, 2.3449999999999998, 2.3449999999999998, 2.3449999999999998, 2.3449999999999998, 2.3449999999999998, 2.3449999999999998, 2.3449999999999998], \"type\": \"scatter\", \"uid\": \"28c94138-e6a8-11e8-a768-9cb6d0e14be4\"}], {\"title\": \"NutleyReservoir\", \"xaxis\": {\"title\": \"Time\"}, \"yaxis\": {\"title\": \"Water Level / ML\"}}, {\"showLink\": true, \"linkText\": \"Export to plot.ly\"})});</script>"
      ]
     },
     "metadata": {},
     "output_type": "display_data"
    },
    {
     "data": {
      "application/vnd.plotly.v1+json": {
       "data": [
        {
         "line": {
          "color": "rgb(22, 96, 167)"
         },
         "name": "PopeswoodReservoir",
         "type": "scatter",
         "uid": "28d08f46-e6a8-11e8-aaab-9cb6d0e14be4",
         "x": [
          1,
          2,
          3,
          4,
          5,
          6,
          7,
          8,
          9,
          10,
          11,
          12,
          13
         ],
         "y": [
          14.325,
          14.416182212666666,
          14.508197758666666,
          14.596202888,
          14.676812184000001,
          14.708931896666668,
          14.629645359333335,
          14.376690072,
          14.167536868000001,
          13.985935747333334,
          13.817095043333333,
          13.660598089333334,
          13.514569885333334,
          13.370000014666667
         ]
        },
        {
         "line": {
          "color": "red",
          "dash": "dot"
         },
         "name": "Max Level",
         "type": "scatter",
         "uid": "28d08f47-e6a8-11e8-9f3d-9cb6d0e14be4",
         "x": [
          1,
          2,
          3,
          4,
          5,
          6,
          7,
          8,
          9,
          10,
          11,
          12,
          13
         ],
         "y": [
          15.280000000000001,
          15.280000000000001,
          15.280000000000001,
          15.280000000000001,
          15.280000000000001,
          15.280000000000001,
          15.280000000000001,
          15.280000000000001,
          15.280000000000001,
          15.280000000000001,
          15.280000000000001,
          15.280000000000001,
          15.280000000000001
         ]
        },
        {
         "line": {
          "color": "red",
          "dash": "dot"
         },
         "name": "Min water level",
         "type": "scatter",
         "uid": "28d08f48-e6a8-11e8-91aa-9cb6d0e14be4",
         "x": [
          1,
          2,
          3,
          4,
          5,
          6,
          7,
          8,
          9,
          10,
          11,
          12,
          13
         ],
         "y": [
          13.370000000000001,
          13.370000000000001,
          13.370000000000001,
          13.370000000000001,
          13.370000000000001,
          13.370000000000001,
          13.370000000000001,
          13.370000000000001,
          13.370000000000001,
          13.370000000000001,
          13.370000000000001,
          13.370000000000001,
          13.370000000000001
         ]
        }
       ],
       "layout": {
        "title": "PopeswoodReservoir",
        "xaxis": {
         "title": "Time"
        },
        "yaxis": {
         "title": "Water Level / ML"
        }
       }
      },
      "text/html": [
       "<div id=\"e4083d31-7c2f-4abe-b0cd-9bdbbde58393\" style=\"height: 525px; width: 100%;\" class=\"plotly-graph-div\"></div><script type=\"text/javascript\">require([\"plotly\"], function(Plotly) { window.PLOTLYENV=window.PLOTLYENV || {};window.PLOTLYENV.BASE_URL=\"https://plot.ly\";Plotly.newPlot(\"e4083d31-7c2f-4abe-b0cd-9bdbbde58393\", [{\"line\": {\"color\": \"rgb(22, 96, 167)\"}, \"name\": \"PopeswoodReservoir\", \"x\": [1, 2, 3, 4, 5, 6, 7, 8, 9, 10, 11, 12, 13], \"y\": [14.325, 14.416182212666666, 14.508197758666666, 14.596202888, 14.676812184000001, 14.708931896666668, 14.629645359333335, 14.376690072, 14.167536868000001, 13.985935747333334, 13.817095043333333, 13.660598089333334, 13.514569885333334, 13.370000014666667], \"type\": \"scatter\", \"uid\": \"28d4f91c-e6a8-11e8-a19f-9cb6d0e14be4\"}, {\"line\": {\"color\": \"red\", \"dash\": \"dot\"}, \"name\": \"Max Level\", \"x\": [1, 2, 3, 4, 5, 6, 7, 8, 9, 10, 11, 12, 13], \"y\": [15.280000000000001, 15.280000000000001, 15.280000000000001, 15.280000000000001, 15.280000000000001, 15.280000000000001, 15.280000000000001, 15.280000000000001, 15.280000000000001, 15.280000000000001, 15.280000000000001, 15.280000000000001, 15.280000000000001], \"type\": \"scatter\", \"uid\": \"28d4f91d-e6a8-11e8-8c67-9cb6d0e14be4\"}, {\"line\": {\"color\": \"red\", \"dash\": \"dot\"}, \"name\": \"Min water level\", \"x\": [1, 2, 3, 4, 5, 6, 7, 8, 9, 10, 11, 12, 13], \"y\": [13.370000000000001, 13.370000000000001, 13.370000000000001, 13.370000000000001, 13.370000000000001, 13.370000000000001, 13.370000000000001, 13.370000000000001, 13.370000000000001, 13.370000000000001, 13.370000000000001, 13.370000000000001, 13.370000000000001], \"type\": \"scatter\", \"uid\": \"28d4f91e-e6a8-11e8-a326-9cb6d0e14be4\"}], {\"title\": \"PopeswoodReservoir\", \"xaxis\": {\"title\": \"Time\"}, \"yaxis\": {\"title\": \"Water Level / ML\"}}, {\"showLink\": true, \"linkText\": \"Export to plot.ly\"})});</script>"
      ],
      "text/vnd.plotly.v1+html": [
       "<div id=\"e4083d31-7c2f-4abe-b0cd-9bdbbde58393\" style=\"height: 525px; width: 100%;\" class=\"plotly-graph-div\"></div><script type=\"text/javascript\">require([\"plotly\"], function(Plotly) { window.PLOTLYENV=window.PLOTLYENV || {};window.PLOTLYENV.BASE_URL=\"https://plot.ly\";Plotly.newPlot(\"e4083d31-7c2f-4abe-b0cd-9bdbbde58393\", [{\"line\": {\"color\": \"rgb(22, 96, 167)\"}, \"name\": \"PopeswoodReservoir\", \"x\": [1, 2, 3, 4, 5, 6, 7, 8, 9, 10, 11, 12, 13], \"y\": [14.325, 14.416182212666666, 14.508197758666666, 14.596202888, 14.676812184000001, 14.708931896666668, 14.629645359333335, 14.376690072, 14.167536868000001, 13.985935747333334, 13.817095043333333, 13.660598089333334, 13.514569885333334, 13.370000014666667], \"type\": \"scatter\", \"uid\": \"28d4f91c-e6a8-11e8-a19f-9cb6d0e14be4\"}, {\"line\": {\"color\": \"red\", \"dash\": \"dot\"}, \"name\": \"Max Level\", \"x\": [1, 2, 3, 4, 5, 6, 7, 8, 9, 10, 11, 12, 13], \"y\": [15.280000000000001, 15.280000000000001, 15.280000000000001, 15.280000000000001, 15.280000000000001, 15.280000000000001, 15.280000000000001, 15.280000000000001, 15.280000000000001, 15.280000000000001, 15.280000000000001, 15.280000000000001, 15.280000000000001], \"type\": \"scatter\", \"uid\": \"28d4f91d-e6a8-11e8-8c67-9cb6d0e14be4\"}, {\"line\": {\"color\": \"red\", \"dash\": \"dot\"}, \"name\": \"Min water level\", \"x\": [1, 2, 3, 4, 5, 6, 7, 8, 9, 10, 11, 12, 13], \"y\": [13.370000000000001, 13.370000000000001, 13.370000000000001, 13.370000000000001, 13.370000000000001, 13.370000000000001, 13.370000000000001, 13.370000000000001, 13.370000000000001, 13.370000000000001, 13.370000000000001, 13.370000000000001, 13.370000000000001], \"type\": \"scatter\", \"uid\": \"28d4f91e-e6a8-11e8-a326-9cb6d0e14be4\"}], {\"title\": \"PopeswoodReservoir\", \"xaxis\": {\"title\": \"Time\"}, \"yaxis\": {\"title\": \"Water Level / ML\"}}, {\"showLink\": true, \"linkText\": \"Export to plot.ly\"})});</script>"
      ]
     },
     "metadata": {},
     "output_type": "display_data"
    },
    {
     "data": {
      "application/vnd.plotly.v1+json": {
       "data": [
        {
         "line": {
          "color": "rgb(22, 96, 167)"
         },
         "name": "SelsfieldReservoir",
         "type": "scatter",
         "uid": "28dbf918-e6a8-11e8-a0ea-9cb6d0e14be4",
         "x": [
          1,
          2,
          3,
          4,
          5,
          6,
          7,
          8,
          9,
          10,
          11,
          12,
          13
         ],
         "y": [
          4.275,
          4.209635416666667,
          4.1471875,
          4.083281250000001,
          4.191458333333334,
          4.274427083333334,
          4.296250000000001,
          4.298072916666667,
          4.314791666666667,
          4.345208333333334,
          4.391614583333334,
          4.4424479166666675,
          4.4961979166666675,
          4.551718750000001
         ]
        },
        {
         "line": {
          "color": "red",
          "dash": "dot"
         },
         "name": "Max Level",
         "type": "scatter",
         "uid": "28dbf919-e6a8-11e8-8f88-9cb6d0e14be4",
         "x": [
          1,
          2,
          3,
          4,
          5,
          6,
          7,
          8,
          9,
          10,
          11,
          12,
          13
         ],
         "y": [
          4.5600000000000005,
          4.5600000000000005,
          4.5600000000000005,
          4.5600000000000005,
          4.5600000000000005,
          4.5600000000000005,
          4.5600000000000005,
          4.5600000000000005,
          4.5600000000000005,
          4.5600000000000005,
          4.5600000000000005,
          4.5600000000000005,
          4.5600000000000005
         ]
        },
        {
         "line": {
          "color": "red",
          "dash": "dot"
         },
         "name": "Min water level",
         "type": "scatter",
         "uid": "28dbf91a-e6a8-11e8-94f0-9cb6d0e14be4",
         "x": [
          1,
          2,
          3,
          4,
          5,
          6,
          7,
          8,
          9,
          10,
          11,
          12,
          13
         ],
         "y": [
          3.9899999999999998,
          3.9899999999999998,
          3.9899999999999998,
          3.9899999999999998,
          3.9899999999999998,
          3.9899999999999998,
          3.9899999999999998,
          3.9899999999999998,
          3.9899999999999998,
          3.9899999999999998,
          3.9899999999999998,
          3.9899999999999998,
          3.9899999999999998
         ]
        }
       ],
       "layout": {
        "title": "SelsfieldReservoir",
        "xaxis": {
         "title": "Time"
        },
        "yaxis": {
         "title": "Water Level / ML"
        }
       }
      },
      "text/html": [
       "<div id=\"d006631f-94f3-4355-a5a5-fd89f40bb014\" style=\"height: 525px; width: 100%;\" class=\"plotly-graph-div\"></div><script type=\"text/javascript\">require([\"plotly\"], function(Plotly) { window.PLOTLYENV=window.PLOTLYENV || {};window.PLOTLYENV.BASE_URL=\"https://plot.ly\";Plotly.newPlot(\"d006631f-94f3-4355-a5a5-fd89f40bb014\", [{\"line\": {\"color\": \"rgb(22, 96, 167)\"}, \"name\": \"SelsfieldReservoir\", \"x\": [1, 2, 3, 4, 5, 6, 7, 8, 9, 10, 11, 12, 13], \"y\": [4.275, 4.209635416666667, 4.1471875, 4.083281250000001, 4.191458333333334, 4.274427083333334, 4.296250000000001, 4.298072916666667, 4.314791666666667, 4.345208333333334, 4.391614583333334, 4.4424479166666675, 4.4961979166666675, 4.551718750000001], \"type\": \"scatter\", \"uid\": \"28dfee0a-e6a8-11e8-b854-9cb6d0e14be4\"}, {\"line\": {\"color\": \"red\", \"dash\": \"dot\"}, \"name\": \"Max Level\", \"x\": [1, 2, 3, 4, 5, 6, 7, 8, 9, 10, 11, 12, 13], \"y\": [4.5600000000000005, 4.5600000000000005, 4.5600000000000005, 4.5600000000000005, 4.5600000000000005, 4.5600000000000005, 4.5600000000000005, 4.5600000000000005, 4.5600000000000005, 4.5600000000000005, 4.5600000000000005, 4.5600000000000005, 4.5600000000000005], \"type\": \"scatter\", \"uid\": \"28e01500-e6a8-11e8-95f6-9cb6d0e14be4\"}, {\"line\": {\"color\": \"red\", \"dash\": \"dot\"}, \"name\": \"Min water level\", \"x\": [1, 2, 3, 4, 5, 6, 7, 8, 9, 10, 11, 12, 13], \"y\": [3.9899999999999998, 3.9899999999999998, 3.9899999999999998, 3.9899999999999998, 3.9899999999999998, 3.9899999999999998, 3.9899999999999998, 3.9899999999999998, 3.9899999999999998, 3.9899999999999998, 3.9899999999999998, 3.9899999999999998, 3.9899999999999998], \"type\": \"scatter\", \"uid\": \"28e01501-e6a8-11e8-b94a-9cb6d0e14be4\"}], {\"title\": \"SelsfieldReservoir\", \"xaxis\": {\"title\": \"Time\"}, \"yaxis\": {\"title\": \"Water Level / ML\"}}, {\"showLink\": true, \"linkText\": \"Export to plot.ly\"})});</script>"
      ],
      "text/vnd.plotly.v1+html": [
       "<div id=\"d006631f-94f3-4355-a5a5-fd89f40bb014\" style=\"height: 525px; width: 100%;\" class=\"plotly-graph-div\"></div><script type=\"text/javascript\">require([\"plotly\"], function(Plotly) { window.PLOTLYENV=window.PLOTLYENV || {};window.PLOTLYENV.BASE_URL=\"https://plot.ly\";Plotly.newPlot(\"d006631f-94f3-4355-a5a5-fd89f40bb014\", [{\"line\": {\"color\": \"rgb(22, 96, 167)\"}, \"name\": \"SelsfieldReservoir\", \"x\": [1, 2, 3, 4, 5, 6, 7, 8, 9, 10, 11, 12, 13], \"y\": [4.275, 4.209635416666667, 4.1471875, 4.083281250000001, 4.191458333333334, 4.274427083333334, 4.296250000000001, 4.298072916666667, 4.314791666666667, 4.345208333333334, 4.391614583333334, 4.4424479166666675, 4.4961979166666675, 4.551718750000001], \"type\": \"scatter\", \"uid\": \"28dfee0a-e6a8-11e8-b854-9cb6d0e14be4\"}, {\"line\": {\"color\": \"red\", \"dash\": \"dot\"}, \"name\": \"Max Level\", \"x\": [1, 2, 3, 4, 5, 6, 7, 8, 9, 10, 11, 12, 13], \"y\": [4.5600000000000005, 4.5600000000000005, 4.5600000000000005, 4.5600000000000005, 4.5600000000000005, 4.5600000000000005, 4.5600000000000005, 4.5600000000000005, 4.5600000000000005, 4.5600000000000005, 4.5600000000000005, 4.5600000000000005, 4.5600000000000005], \"type\": \"scatter\", \"uid\": \"28e01500-e6a8-11e8-95f6-9cb6d0e14be4\"}, {\"line\": {\"color\": \"red\", \"dash\": \"dot\"}, \"name\": \"Min water level\", \"x\": [1, 2, 3, 4, 5, 6, 7, 8, 9, 10, 11, 12, 13], \"y\": [3.9899999999999998, 3.9899999999999998, 3.9899999999999998, 3.9899999999999998, 3.9899999999999998, 3.9899999999999998, 3.9899999999999998, 3.9899999999999998, 3.9899999999999998, 3.9899999999999998, 3.9899999999999998, 3.9899999999999998, 3.9899999999999998], \"type\": \"scatter\", \"uid\": \"28e01501-e6a8-11e8-b94a-9cb6d0e14be4\"}], {\"title\": \"SelsfieldReservoir\", \"xaxis\": {\"title\": \"Time\"}, \"yaxis\": {\"title\": \"Water Level / ML\"}}, {\"showLink\": true, \"linkText\": \"Export to plot.ly\"})});</script>"
      ]
     },
     "metadata": {},
     "output_type": "display_data"
    },
    {
     "data": {
      "application/vnd.plotly.v1+json": {
       "data": [
        {
         "line": {
          "color": "rgb(22, 96, 167)"
         },
         "name": "StFrancisReservoir",
         "type": "scatter",
         "uid": "28e6c73e-e6a8-11e8-87f6-9cb6d0e14be4",
         "x": [
          1,
          2,
          3,
          4,
          5,
          6,
          7,
          8,
          9,
          10,
          11,
          12,
          13
         ],
         "y": [
          6.525,
          6.558840278,
          6.5980972226666665,
          6.640895834,
          6.679788195333334,
          6.69873264,
          6.640072918,
          6.550527779333334,
          6.462701390666667,
          6.401281252,
          6.354288196666667,
          6.313909724666667,
          6.283531252666667,
          6.247319447333334
         ]
        },
        {
         "line": {
          "color": "red",
          "dash": "dot"
         },
         "name": "Max Level",
         "type": "scatter",
         "uid": "28e6c73f-e6a8-11e8-b892-9cb6d0e14be4",
         "x": [
          1,
          2,
          3,
          4,
          5,
          6,
          7,
          8,
          9,
          10,
          11,
          12,
          13
         ],
         "y": [
          6.96,
          6.96,
          6.96,
          6.96,
          6.96,
          6.96,
          6.96,
          6.96,
          6.96,
          6.96,
          6.96,
          6.96,
          6.96
         ]
        },
        {
         "line": {
          "color": "red",
          "dash": "dot"
         },
         "name": "Min water level",
         "type": "scatter",
         "uid": "28e6c740-e6a8-11e8-8360-9cb6d0e14be4",
         "x": [
          1,
          2,
          3,
          4,
          5,
          6,
          7,
          8,
          9,
          10,
          11,
          12,
          13
         ],
         "y": [
          6.089999999999999,
          6.089999999999999,
          6.089999999999999,
          6.089999999999999,
          6.089999999999999,
          6.089999999999999,
          6.089999999999999,
          6.089999999999999,
          6.089999999999999,
          6.089999999999999,
          6.089999999999999,
          6.089999999999999,
          6.089999999999999
         ]
        }
       ],
       "layout": {
        "title": "StFrancisReservoir",
        "xaxis": {
         "title": "Time"
        },
        "yaxis": {
         "title": "Water Level / ML"
        }
       }
      },
      "text/html": [
       "<div id=\"11d9e83c-5d18-4c15-9da6-8f4ccdb4bf76\" style=\"height: 525px; width: 100%;\" class=\"plotly-graph-div\"></div><script type=\"text/javascript\">require([\"plotly\"], function(Plotly) { window.PLOTLYENV=window.PLOTLYENV || {};window.PLOTLYENV.BASE_URL=\"https://plot.ly\";Plotly.newPlot(\"11d9e83c-5d18-4c15-9da6-8f4ccdb4bf76\", [{\"line\": {\"color\": \"rgb(22, 96, 167)\"}, \"name\": \"StFrancisReservoir\", \"x\": [1, 2, 3, 4, 5, 6, 7, 8, 9, 10, 11, 12, 13], \"y\": [6.525, 6.558840278, 6.5980972226666665, 6.640895834, 6.679788195333334, 6.69873264, 6.640072918, 6.550527779333334, 6.462701390666667, 6.401281252, 6.354288196666667, 6.313909724666667, 6.283531252666667, 6.247319447333334], \"type\": \"scatter\", \"uid\": \"28eba5cc-e6a8-11e8-b9d0-9cb6d0e14be4\"}, {\"line\": {\"color\": \"red\", \"dash\": \"dot\"}, \"name\": \"Max Level\", \"x\": [1, 2, 3, 4, 5, 6, 7, 8, 9, 10, 11, 12, 13], \"y\": [6.96, 6.96, 6.96, 6.96, 6.96, 6.96, 6.96, 6.96, 6.96, 6.96, 6.96, 6.96, 6.96], \"type\": \"scatter\", \"uid\": \"28eba5cd-e6a8-11e8-ae0b-9cb6d0e14be4\"}, {\"line\": {\"color\": \"red\", \"dash\": \"dot\"}, \"name\": \"Min water level\", \"x\": [1, 2, 3, 4, 5, 6, 7, 8, 9, 10, 11, 12, 13], \"y\": [6.089999999999999, 6.089999999999999, 6.089999999999999, 6.089999999999999, 6.089999999999999, 6.089999999999999, 6.089999999999999, 6.089999999999999, 6.089999999999999, 6.089999999999999, 6.089999999999999, 6.089999999999999, 6.089999999999999], \"type\": \"scatter\", \"uid\": \"28eba5ce-e6a8-11e8-af0a-9cb6d0e14be4\"}], {\"title\": \"StFrancisReservoir\", \"xaxis\": {\"title\": \"Time\"}, \"yaxis\": {\"title\": \"Water Level / ML\"}}, {\"showLink\": true, \"linkText\": \"Export to plot.ly\"})});</script>"
      ],
      "text/vnd.plotly.v1+html": [
       "<div id=\"11d9e83c-5d18-4c15-9da6-8f4ccdb4bf76\" style=\"height: 525px; width: 100%;\" class=\"plotly-graph-div\"></div><script type=\"text/javascript\">require([\"plotly\"], function(Plotly) { window.PLOTLYENV=window.PLOTLYENV || {};window.PLOTLYENV.BASE_URL=\"https://plot.ly\";Plotly.newPlot(\"11d9e83c-5d18-4c15-9da6-8f4ccdb4bf76\", [{\"line\": {\"color\": \"rgb(22, 96, 167)\"}, \"name\": \"StFrancisReservoir\", \"x\": [1, 2, 3, 4, 5, 6, 7, 8, 9, 10, 11, 12, 13], \"y\": [6.525, 6.558840278, 6.5980972226666665, 6.640895834, 6.679788195333334, 6.69873264, 6.640072918, 6.550527779333334, 6.462701390666667, 6.401281252, 6.354288196666667, 6.313909724666667, 6.283531252666667, 6.247319447333334], \"type\": \"scatter\", \"uid\": \"28eba5cc-e6a8-11e8-b9d0-9cb6d0e14be4\"}, {\"line\": {\"color\": \"red\", \"dash\": \"dot\"}, \"name\": \"Max Level\", \"x\": [1, 2, 3, 4, 5, 6, 7, 8, 9, 10, 11, 12, 13], \"y\": [6.96, 6.96, 6.96, 6.96, 6.96, 6.96, 6.96, 6.96, 6.96, 6.96, 6.96, 6.96, 6.96], \"type\": \"scatter\", \"uid\": \"28eba5cd-e6a8-11e8-ae0b-9cb6d0e14be4\"}, {\"line\": {\"color\": \"red\", \"dash\": \"dot\"}, \"name\": \"Min water level\", \"x\": [1, 2, 3, 4, 5, 6, 7, 8, 9, 10, 11, 12, 13], \"y\": [6.089999999999999, 6.089999999999999, 6.089999999999999, 6.089999999999999, 6.089999999999999, 6.089999999999999, 6.089999999999999, 6.089999999999999, 6.089999999999999, 6.089999999999999, 6.089999999999999, 6.089999999999999, 6.089999999999999], \"type\": \"scatter\", \"uid\": \"28eba5ce-e6a8-11e8-af0a-9cb6d0e14be4\"}], {\"title\": \"StFrancisReservoir\", \"xaxis\": {\"title\": \"Time\"}, \"yaxis\": {\"title\": \"Water Level / ML\"}}, {\"showLink\": true, \"linkText\": \"Export to plot.ly\"})});</script>"
      ]
     },
     "metadata": {},
     "output_type": "display_data"
    },
    {
     "data": {
      "application/vnd.plotly.v1+json": {
       "data": [
        {
         "line": {
          "color": "rgb(22, 96, 167)"
         },
         "name": "UckfieldReservoir",
         "type": "scatter",
         "uid": "28f27efe-e6a8-11e8-ba4f-9cb6d0e14be4",
         "x": [
          1,
          2,
          3,
          4,
          5,
          6,
          7,
          8,
          9,
          10,
          11,
          12,
          13
         ],
         "y": [
          0.9375,
          0.946947917,
          0.9563958340000001,
          0.9658437510000001,
          0.9752916680000001,
          0.9847395850000001,
          0.9866471370000002,
          0.9885546890000002,
          0.9904622410000002,
          0.9923697930000003,
          0.9942773450000003,
          0.9961848970000003,
          0.9980924490000004,
          1.0000000010000003
         ]
        },
        {
         "line": {
          "color": "red",
          "dash": "dot"
         },
         "name": "Max Level",
         "type": "scatter",
         "uid": "28f27eff-e6a8-11e8-90b5-9cb6d0e14be4",
         "x": [
          1,
          2,
          3,
          4,
          5,
          6,
          7,
          8,
          9,
          10,
          11,
          12,
          13
         ],
         "y": [
          1,
          1,
          1,
          1,
          1,
          1,
          1,
          1,
          1,
          1,
          1,
          1,
          1
         ]
        },
        {
         "line": {
          "color": "red",
          "dash": "dot"
         },
         "name": "Min water level",
         "type": "scatter",
         "uid": "28f27f00-e6a8-11e8-850a-9cb6d0e14be4",
         "x": [
          1,
          2,
          3,
          4,
          5,
          6,
          7,
          8,
          9,
          10,
          11,
          12,
          13
         ],
         "y": [
          0.875,
          0.875,
          0.875,
          0.875,
          0.875,
          0.875,
          0.875,
          0.875,
          0.875,
          0.875,
          0.875,
          0.875,
          0.875
         ]
        }
       ],
       "layout": {
        "title": "UckfieldReservoir",
        "xaxis": {
         "title": "Time"
        },
        "yaxis": {
         "title": "Water Level / ML"
        }
       }
      },
      "text/html": [
       "<div id=\"33dd3bce-a4aa-4a7a-b7fc-dae353b0171a\" style=\"height: 525px; width: 100%;\" class=\"plotly-graph-div\"></div><script type=\"text/javascript\">require([\"plotly\"], function(Plotly) { window.PLOTLYENV=window.PLOTLYENV || {};window.PLOTLYENV.BASE_URL=\"https://plot.ly\";Plotly.newPlot(\"33dd3bce-a4aa-4a7a-b7fc-dae353b0171a\", [{\"line\": {\"color\": \"rgb(22, 96, 167)\"}, \"name\": \"UckfieldReservoir\", \"x\": [1, 2, 3, 4, 5, 6, 7, 8, 9, 10, 11, 12, 13], \"y\": [0.9375, 0.946947917, 0.9563958340000001, 0.9658437510000001, 0.9752916680000001, 0.9847395850000001, 0.9866471370000002, 0.9885546890000002, 0.9904622410000002, 0.9923697930000003, 0.9942773450000003, 0.9961848970000003, 0.9980924490000004, 1.0000000010000003], \"type\": \"scatter\", \"uid\": \"28f70fb0-e6a8-11e8-b4bd-9cb6d0e14be4\"}, {\"line\": {\"color\": \"red\", \"dash\": \"dot\"}, \"name\": \"Max Level\", \"x\": [1, 2, 3, 4, 5, 6, 7, 8, 9, 10, 11, 12, 13], \"y\": [1.0, 1.0, 1.0, 1.0, 1.0, 1.0, 1.0, 1.0, 1.0, 1.0, 1.0, 1.0, 1.0], \"type\": \"scatter\", \"uid\": \"28f70fb1-e6a8-11e8-9855-9cb6d0e14be4\"}, {\"line\": {\"color\": \"red\", \"dash\": \"dot\"}, \"name\": \"Min water level\", \"x\": [1, 2, 3, 4, 5, 6, 7, 8, 9, 10, 11, 12, 13], \"y\": [0.875, 0.875, 0.875, 0.875, 0.875, 0.875, 0.875, 0.875, 0.875, 0.875, 0.875, 0.875, 0.875], \"type\": \"scatter\", \"uid\": \"28f70fb2-e6a8-11e8-9e0f-9cb6d0e14be4\"}], {\"title\": \"UckfieldReservoir\", \"xaxis\": {\"title\": \"Time\"}, \"yaxis\": {\"title\": \"Water Level / ML\"}}, {\"showLink\": true, \"linkText\": \"Export to plot.ly\"})});</script>"
      ],
      "text/vnd.plotly.v1+html": [
       "<div id=\"33dd3bce-a4aa-4a7a-b7fc-dae353b0171a\" style=\"height: 525px; width: 100%;\" class=\"plotly-graph-div\"></div><script type=\"text/javascript\">require([\"plotly\"], function(Plotly) { window.PLOTLYENV=window.PLOTLYENV || {};window.PLOTLYENV.BASE_URL=\"https://plot.ly\";Plotly.newPlot(\"33dd3bce-a4aa-4a7a-b7fc-dae353b0171a\", [{\"line\": {\"color\": \"rgb(22, 96, 167)\"}, \"name\": \"UckfieldReservoir\", \"x\": [1, 2, 3, 4, 5, 6, 7, 8, 9, 10, 11, 12, 13], \"y\": [0.9375, 0.946947917, 0.9563958340000001, 0.9658437510000001, 0.9752916680000001, 0.9847395850000001, 0.9866471370000002, 0.9885546890000002, 0.9904622410000002, 0.9923697930000003, 0.9942773450000003, 0.9961848970000003, 0.9980924490000004, 1.0000000010000003], \"type\": \"scatter\", \"uid\": \"28f70fb0-e6a8-11e8-b4bd-9cb6d0e14be4\"}, {\"line\": {\"color\": \"red\", \"dash\": \"dot\"}, \"name\": \"Max Level\", \"x\": [1, 2, 3, 4, 5, 6, 7, 8, 9, 10, 11, 12, 13], \"y\": [1.0, 1.0, 1.0, 1.0, 1.0, 1.0, 1.0, 1.0, 1.0, 1.0, 1.0, 1.0, 1.0], \"type\": \"scatter\", \"uid\": \"28f70fb1-e6a8-11e8-9855-9cb6d0e14be4\"}, {\"line\": {\"color\": \"red\", \"dash\": \"dot\"}, \"name\": \"Min water level\", \"x\": [1, 2, 3, 4, 5, 6, 7, 8, 9, 10, 11, 12, 13], \"y\": [0.875, 0.875, 0.875, 0.875, 0.875, 0.875, 0.875, 0.875, 0.875, 0.875, 0.875, 0.875, 0.875], \"type\": \"scatter\", \"uid\": \"28f70fb2-e6a8-11e8-9e0f-9cb6d0e14be4\"}], {\"title\": \"UckfieldReservoir\", \"xaxis\": {\"title\": \"Time\"}, \"yaxis\": {\"title\": \"Water Level / ML\"}}, {\"showLink\": true, \"linkText\": \"Export to plot.ly\"})});</script>"
      ]
     },
     "metadata": {},
     "output_type": "display_data"
    },
    {
     "data": {
      "application/vnd.plotly.v1+json": {
       "data": [
        {
         "line": {
          "color": "rgb(22, 96, 167)"
         },
         "name": "WychCrossReservoir",
         "type": "scatter",
         "uid": "28fd4d0c-e6a8-11e8-8030-9cb6d0e14be4",
         "x": [
          1,
          2,
          3,
          4,
          5,
          6,
          7,
          8,
          9,
          10,
          11,
          12,
          13
         ],
         "y": [
          10.2,
          9.94203125,
          9.686979166666665,
          9.976093749999999,
          10.243333333333332,
          10.399791666666665,
          10.353958333333333,
          10.245625,
          10.197552083333333,
          10.180677083333332,
          10.203697916666666,
          10.236041666666667,
          10.295,
          10.359635416666666
         ]
        },
        {
         "line": {
          "color": "red",
          "dash": "dot"
         },
         "name": "Max Level",
         "type": "scatter",
         "uid": "28fd4d0d-e6a8-11e8-bc28-9cb6d0e14be4",
         "x": [
          1,
          2,
          3,
          4,
          5,
          6,
          7,
          8,
          9,
          10,
          11,
          12,
          13
         ],
         "y": [
          10.88,
          10.88,
          10.88,
          10.88,
          10.88,
          10.88,
          10.88,
          10.88,
          10.88,
          10.88,
          10.88,
          10.88,
          10.88
         ]
        },
        {
         "line": {
          "color": "red",
          "dash": "dot"
         },
         "name": "Min water level",
         "type": "scatter",
         "uid": "28fd4d0e-e6a8-11e8-973c-9cb6d0e14be4",
         "x": [
          1,
          2,
          3,
          4,
          5,
          6,
          7,
          8,
          9,
          10,
          11,
          12,
          13
         ],
         "y": [
          9.52,
          9.52,
          9.52,
          9.52,
          9.52,
          9.52,
          9.52,
          9.52,
          9.52,
          9.52,
          9.52,
          9.52,
          9.52
         ]
        }
       ],
       "layout": {
        "title": "WychCrossReservoir",
        "xaxis": {
         "title": "Time"
        },
        "yaxis": {
         "title": "Water Level / ML"
        }
       }
      },
      "text/html": [
       "<div id=\"eaeae71b-f3d1-4fe9-aba9-10a23ee361f3\" style=\"height: 525px; width: 100%;\" class=\"plotly-graph-div\"></div><script type=\"text/javascript\">require([\"plotly\"], function(Plotly) { window.PLOTLYENV=window.PLOTLYENV || {};window.PLOTLYENV.BASE_URL=\"https://plot.ly\";Plotly.newPlot(\"eaeae71b-f3d1-4fe9-aba9-10a23ee361f3\", [{\"line\": {\"color\": \"rgb(22, 96, 167)\"}, \"name\": \"WychCrossReservoir\", \"x\": [1, 2, 3, 4, 5, 6, 7, 8, 9, 10, 11, 12, 13], \"y\": [10.2, 9.94203125, 9.686979166666665, 9.976093749999999, 10.243333333333332, 10.399791666666665, 10.353958333333333, 10.245625, 10.197552083333333, 10.180677083333332, 10.203697916666666, 10.236041666666667, 10.295, 10.359635416666666], \"type\": \"scatter\", \"uid\": \"2900f40c-e6a8-11e8-a9c6-9cb6d0e14be4\"}, {\"line\": {\"color\": \"red\", \"dash\": \"dot\"}, \"name\": \"Max Level\", \"x\": [1, 2, 3, 4, 5, 6, 7, 8, 9, 10, 11, 12, 13], \"y\": [10.88, 10.88, 10.88, 10.88, 10.88, 10.88, 10.88, 10.88, 10.88, 10.88, 10.88, 10.88, 10.88], \"type\": \"scatter\", \"uid\": \"2900f40d-e6a8-11e8-bff0-9cb6d0e14be4\"}, {\"line\": {\"color\": \"red\", \"dash\": \"dot\"}, \"name\": \"Min water level\", \"x\": [1, 2, 3, 4, 5, 6, 7, 8, 9, 10, 11, 12, 13], \"y\": [9.52, 9.52, 9.52, 9.52, 9.52, 9.52, 9.52, 9.52, 9.52, 9.52, 9.52, 9.52, 9.52], \"type\": \"scatter\", \"uid\": \"2900f40e-e6a8-11e8-9c0e-9cb6d0e14be4\"}], {\"title\": \"WychCrossReservoir\", \"xaxis\": {\"title\": \"Time\"}, \"yaxis\": {\"title\": \"Water Level / ML\"}}, {\"showLink\": true, \"linkText\": \"Export to plot.ly\"})});</script>"
      ],
      "text/vnd.plotly.v1+html": [
       "<div id=\"eaeae71b-f3d1-4fe9-aba9-10a23ee361f3\" style=\"height: 525px; width: 100%;\" class=\"plotly-graph-div\"></div><script type=\"text/javascript\">require([\"plotly\"], function(Plotly) { window.PLOTLYENV=window.PLOTLYENV || {};window.PLOTLYENV.BASE_URL=\"https://plot.ly\";Plotly.newPlot(\"eaeae71b-f3d1-4fe9-aba9-10a23ee361f3\", [{\"line\": {\"color\": \"rgb(22, 96, 167)\"}, \"name\": \"WychCrossReservoir\", \"x\": [1, 2, 3, 4, 5, 6, 7, 8, 9, 10, 11, 12, 13], \"y\": [10.2, 9.94203125, 9.686979166666665, 9.976093749999999, 10.243333333333332, 10.399791666666665, 10.353958333333333, 10.245625, 10.197552083333333, 10.180677083333332, 10.203697916666666, 10.236041666666667, 10.295, 10.359635416666666], \"type\": \"scatter\", \"uid\": \"2900f40c-e6a8-11e8-a9c6-9cb6d0e14be4\"}, {\"line\": {\"color\": \"red\", \"dash\": \"dot\"}, \"name\": \"Max Level\", \"x\": [1, 2, 3, 4, 5, 6, 7, 8, 9, 10, 11, 12, 13], \"y\": [10.88, 10.88, 10.88, 10.88, 10.88, 10.88, 10.88, 10.88, 10.88, 10.88, 10.88, 10.88, 10.88], \"type\": \"scatter\", \"uid\": \"2900f40d-e6a8-11e8-bff0-9cb6d0e14be4\"}, {\"line\": {\"color\": \"red\", \"dash\": \"dot\"}, \"name\": \"Min water level\", \"x\": [1, 2, 3, 4, 5, 6, 7, 8, 9, 10, 11, 12, 13], \"y\": [9.52, 9.52, 9.52, 9.52, 9.52, 9.52, 9.52, 9.52, 9.52, 9.52, 9.52, 9.52, 9.52], \"type\": \"scatter\", \"uid\": \"2900f40e-e6a8-11e8-9c0e-9cb6d0e14be4\"}], {\"title\": \"WychCrossReservoir\", \"xaxis\": {\"title\": \"Time\"}, \"yaxis\": {\"title\": \"Water Level / ML\"}}, {\"showLink\": true, \"linkText\": \"Export to plot.ly\"})});</script>"
      ]
     },
     "metadata": {},
     "output_type": "display_data"
    }
   ],
   "source": [
    "def water_level_plot(timeperiods, dataframe, SR):\n",
    "    #plot SR water level\n",
    "    trace1 = go.Scatter(\n",
    "        x = timeperiods.tolist(),\n",
    "        name = SR,\n",
    "        y = dataframe.loc[SR,:].tolist(),\n",
    "        line = dict(\n",
    "            color = ('rgb(22, 96, 167)'))\n",
    "            # width = 4,\n",
    "    )\n",
    "    #plot backgound water level\n",
    "    trace2 = go.Scatter(\n",
    "        x=timeperiods.tolist(),\n",
    "        y=[softmax_level.loc[SR].values[0]] * len(time_list),\n",
    "        name='Max Level',\n",
    "        line = dict(\n",
    "            color = 'red',\n",
    "            # width = 4,\n",
    "            dash = 'dot')\n",
    "    )\n",
    "    #plot min water level\n",
    "    trace3 = go.Scatter(\n",
    "        x=timeperiods.tolist(),\n",
    "        y=[softlow_level.loc[SR].values[0]] * len(time_list),\n",
    "        name='Min water level',\n",
    "        line = dict(\n",
    "            color = 'red',\n",
    "            # width = 4,\n",
    "            dash = 'dot')\n",
    "    )\n",
    "    return [trace1, trace2, trace3]\n",
    "\n",
    "for sr in reservoirs:\n",
    "    data = water_level_plot(time_list, SR_levels_time, sr)\n",
    "    layout = dict(title = sr,\n",
    "              xaxis = dict(title = 'Time'),\n",
    "              yaxis = dict(title = 'Water Level / ML'),\n",
    "              )\n",
    "\n",
    "    # x = list()\n",
    "    # for i, source_name in enumerate(water_levels.columns):\n",
    "    #     fig.append_trace(data.get(source_name), i+1, 1)\n",
    "\n",
    "#     fig['layout'].update(height=1200, width=600, title='Stacked subplots')\n",
    "    fig = dict(data=data, layout=layout)\n",
    "    py.iplot(fig, filename='styled-line')"
   ]
  },
  {
   "cell_type": "code",
   "execution_count": 19,
   "metadata": {},
   "outputs": [],
   "source": [
    "#Save Outputs\n",
    "\n",
    "# Save SR_levels_time\n",
    "outname = 'SR_levels_time.csv'\n",
    "outdir = './Outputs'\n",
    "if not os.path.exists(outdir):\n",
    "    os.mkdir(outdir)\n",
    "fullname = os.path.join(outdir, outname)    \n",
    "SR_levels_time.to_csv(fullname)\n",
    "\n",
    "# Save Transfers Data Frame\n",
    "outname = 'all_transfers.csv'\n",
    "outdir = './Outputs'\n",
    "if not os.path.exists(outdir):\n",
    "    os.mkdir(outdir)\n",
    "fullname = os.path.join(outdir, outname)    \n",
    "transfer_df.to_csv(fullname)\n",
    "\n",
    "# Save Transfers IN ONLY Data Frame\n",
    "outname = 'transfers_IN_ONLY.csv'\n",
    "outdir = './Outputs'\n",
    "if not os.path.exists(outdir):\n",
    "    os.mkdir(outdir)\n",
    "fullname = os.path.join(outdir, outname)    \n",
    "transfers_in_df.to_csv(fullname)\n",
    "\n",
    "# Save Transfers OUT ONLY Data Frame\n",
    "outname = 'transfers_OUT_ONLY.csv'\n",
    "outdir = './Outputs'\n",
    "if not os.path.exists(outdir):\n",
    "    os.mkdir(outdir)\n",
    "fullname = os.path.join(outdir, outname)    \n",
    "transfers_out_df.to_csv(fullname)\n",
    "\n",
    "# Save Demand Profile Data Frame (FOR PLOTTING)\n",
    "outname = 'demand_for_plot.csv'\n",
    "outdir = './Outputs'\n",
    "if not os.path.exists(outdir):\n",
    "    os.mkdir(outdir)\n",
    "fullname = os.path.join(outdir, outname)    \n",
    "demand_df.to_csv(fullname)\n"
   ]
  },
  {
   "cell_type": "code",
   "execution_count": 20,
   "metadata": {},
   "outputs": [
    {
     "data": {
      "application/vnd.plotly.v1+json": {
       "data": [
        {
         "line": {
          "color": "cyan"
         },
         "name": "Transfers In",
         "type": "scatter",
         "uid": "290ef424-e6a8-11e8-9770-9cb6d0e14be4",
         "x": [
          1,
          2,
          3,
          4,
          5,
          6,
          7,
          8,
          9,
          10,
          11,
          12,
          13
         ],
         "y": [
          0.293,
          0.293,
          0.293,
          0.293,
          0.293,
          0.293,
          0.293,
          0.293,
          0.293,
          0.293,
          0.293,
          0.293,
          0.293
         ]
        },
        {
         "line": {
          "color": "green"
         },
         "name": "Transfers Out",
         "type": "scatter",
         "uid": "290ef425-e6a8-11e8-933e-9cb6d0e14be4",
         "x": [
          1,
          2,
          3,
          4,
          5,
          6,
          7,
          8,
          9,
          10,
          11,
          12,
          13
         ],
         "y": [
          0.172910779,
          0.172910779,
          0.172910779,
          0.172910779,
          0.172910779,
          0.172910779,
          0.172910779,
          0.172910779,
          0.172910779,
          0.172910779,
          0.172910779,
          0.172910779,
          0.172910779
         ]
        },
        {
         "line": {
          "color": "red"
         },
         "name": "Demand",
         "type": "scatter",
         "uid": "290ef426-e6a8-11e8-b4c3-9cb6d0e14be4",
         "x": [
          1,
          2,
          3,
          4,
          5,
          6,
          7,
          8,
          9,
          10,
          11,
          12,
          13
         ],
         "y": [
          0.04213541666666667,
          0.044843749999999995,
          0.04567708333333333,
          0.0509375,
          0.06526041666666667,
          0.10281249999999999,
          0.12416666666666666,
          0.11161458333333334,
          0.10328124999999999,
          0.09963541666666666,
          0.09552083333333333,
          0.08489583333333334,
          0.08463541666666667
         ]
        }
       ],
       "layout": {
        "title": "AshdownReservoir",
        "xaxis": {
         "title": "Time / Hour"
        },
        "yaxis": {
         "title": "Water Level / ML"
        }
       }
      },
      "text/html": [
       "<div id=\"da0a8299-230d-43c0-897f-85c53769d055\" style=\"height: 525px; width: 100%;\" class=\"plotly-graph-div\"></div><script type=\"text/javascript\">require([\"plotly\"], function(Plotly) { window.PLOTLYENV=window.PLOTLYENV || {};window.PLOTLYENV.BASE_URL=\"https://plot.ly\";Plotly.newPlot(\"da0a8299-230d-43c0-897f-85c53769d055\", [{\"line\": {\"color\": \"cyan\"}, \"name\": \"Transfers In\", \"x\": [1, 2, 3, 4, 5, 6, 7, 8, 9, 10, 11, 12, 13], \"y\": [0.293, 0.293, 0.293, 0.293, 0.293, 0.293, 0.293, 0.293, 0.293, 0.293, 0.293, 0.293, 0.293], \"type\": \"scatter\", \"uid\": \"2912c226-e6a8-11e8-b861-9cb6d0e14be4\"}, {\"line\": {\"color\": \"green\"}, \"name\": \"Transfers Out\", \"x\": [1, 2, 3, 4, 5, 6, 7, 8, 9, 10, 11, 12, 13], \"y\": [0.172910779, 0.172910779, 0.172910779, 0.172910779, 0.172910779, 0.172910779, 0.172910779, 0.172910779, 0.172910779, 0.172910779, 0.172910779, 0.172910779, 0.172910779], \"type\": \"scatter\", \"uid\": \"2912c227-e6a8-11e8-af32-9cb6d0e14be4\"}, {\"line\": {\"color\": \"red\"}, \"name\": \"Demand\", \"x\": [1, 2, 3, 4, 5, 6, 7, 8, 9, 10, 11, 12, 13], \"y\": [0.04213541666666667, 0.044843749999999995, 0.04567708333333333, 0.0509375, 0.06526041666666667, 0.10281249999999999, 0.12416666666666666, 0.11161458333333334, 0.10328124999999999, 0.09963541666666666, 0.09552083333333333, 0.08489583333333334, 0.08463541666666667], \"type\": \"scatter\", \"uid\": \"2912c228-e6a8-11e8-ba4a-9cb6d0e14be4\"}], {\"title\": \"AshdownReservoir\", \"xaxis\": {\"title\": \"Time / Hour\"}, \"yaxis\": {\"title\": \"Water Level / ML\"}}, {\"showLink\": true, \"linkText\": \"Export to plot.ly\"})});</script>"
      ],
      "text/vnd.plotly.v1+html": [
       "<div id=\"da0a8299-230d-43c0-897f-85c53769d055\" style=\"height: 525px; width: 100%;\" class=\"plotly-graph-div\"></div><script type=\"text/javascript\">require([\"plotly\"], function(Plotly) { window.PLOTLYENV=window.PLOTLYENV || {};window.PLOTLYENV.BASE_URL=\"https://plot.ly\";Plotly.newPlot(\"da0a8299-230d-43c0-897f-85c53769d055\", [{\"line\": {\"color\": \"cyan\"}, \"name\": \"Transfers In\", \"x\": [1, 2, 3, 4, 5, 6, 7, 8, 9, 10, 11, 12, 13], \"y\": [0.293, 0.293, 0.293, 0.293, 0.293, 0.293, 0.293, 0.293, 0.293, 0.293, 0.293, 0.293, 0.293], \"type\": \"scatter\", \"uid\": \"2912c226-e6a8-11e8-b861-9cb6d0e14be4\"}, {\"line\": {\"color\": \"green\"}, \"name\": \"Transfers Out\", \"x\": [1, 2, 3, 4, 5, 6, 7, 8, 9, 10, 11, 12, 13], \"y\": [0.172910779, 0.172910779, 0.172910779, 0.172910779, 0.172910779, 0.172910779, 0.172910779, 0.172910779, 0.172910779, 0.172910779, 0.172910779, 0.172910779, 0.172910779], \"type\": \"scatter\", \"uid\": \"2912c227-e6a8-11e8-af32-9cb6d0e14be4\"}, {\"line\": {\"color\": \"red\"}, \"name\": \"Demand\", \"x\": [1, 2, 3, 4, 5, 6, 7, 8, 9, 10, 11, 12, 13], \"y\": [0.04213541666666667, 0.044843749999999995, 0.04567708333333333, 0.0509375, 0.06526041666666667, 0.10281249999999999, 0.12416666666666666, 0.11161458333333334, 0.10328124999999999, 0.09963541666666666, 0.09552083333333333, 0.08489583333333334, 0.08463541666666667], \"type\": \"scatter\", \"uid\": \"2912c228-e6a8-11e8-ba4a-9cb6d0e14be4\"}], {\"title\": \"AshdownReservoir\", \"xaxis\": {\"title\": \"Time / Hour\"}, \"yaxis\": {\"title\": \"Water Level / ML\"}}, {\"showLink\": true, \"linkText\": \"Export to plot.ly\"})});</script>"
      ]
     },
     "metadata": {},
     "output_type": "display_data"
    },
    {
     "data": {
      "application/vnd.plotly.v1+json": {
       "data": [
        {
         "line": {
          "color": "cyan"
         },
         "name": "Transfers In",
         "type": "scatter",
         "uid": "29188a90-e6a8-11e8-b6cc-9cb6d0e14be4",
         "x": [
          1,
          2,
          3,
          4,
          5,
          6,
          7,
          8,
          9,
          10,
          11,
          12,
          13
         ],
         "y": [
          0,
          0,
          0,
          0.31,
          0,
          0,
          0,
          0,
          0,
          0.31,
          0,
          0,
          0
         ]
        },
        {
         "line": {
          "color": "green"
         },
         "name": "Transfers Out",
         "type": "scatter",
         "uid": "29188a91-e6a8-11e8-8202-9cb6d0e14be4",
         "x": [
          1,
          2,
          3,
          4,
          5,
          6,
          7,
          8,
          9,
          10,
          11,
          12,
          13
         ],
         "y": [
          0,
          0,
          0,
          0,
          0,
          0,
          0,
          0,
          0,
          0,
          0,
          0,
          0
         ]
        },
        {
         "line": {
          "color": "red"
         },
         "name": "Demand",
         "type": "scatter",
         "uid": "29188a92-e6a8-11e8-94d0-9cb6d0e14be4",
         "x": [
          1,
          2,
          3,
          4,
          5,
          6,
          7,
          8,
          9,
          10,
          11,
          12,
          13
         ],
         "y": [
          0.030989583333333334,
          0.02979166666666666,
          0.029218749999999998,
          0.031875,
          0.04942708333333334,
          0.07781249999999999,
          0.09369791666666667,
          0.08494791666666668,
          0.07859375,
          0.07713541666666666,
          0.07546875,
          0.07,
          0.06755208333333333
         ]
        }
       ],
       "layout": {
        "title": "BalcombeReservoir",
        "xaxis": {
         "title": "Time / Hour"
        },
        "yaxis": {
         "title": "Water Level / ML"
        }
       }
      },
      "text/html": [
       "<div id=\"68b96990-2511-4923-bbd6-a7294609a0f0\" style=\"height: 525px; width: 100%;\" class=\"plotly-graph-div\"></div><script type=\"text/javascript\">require([\"plotly\"], function(Plotly) { window.PLOTLYENV=window.PLOTLYENV || {};window.PLOTLYENV.BASE_URL=\"https://plot.ly\";Plotly.newPlot(\"68b96990-2511-4923-bbd6-a7294609a0f0\", [{\"line\": {\"color\": \"cyan\"}, \"name\": \"Transfers In\", \"x\": [1, 2, 3, 4, 5, 6, 7, 8, 9, 10, 11, 12, 13], \"y\": [0.0, 0.0, 0.0, 0.31, 0.0, 0.0, 0.0, 0.0, 0.0, 0.31, 0.0, 0.0, 0.0], \"type\": \"scatter\", \"uid\": \"291cf44c-e6a8-11e8-99d5-9cb6d0e14be4\"}, {\"line\": {\"color\": \"green\"}, \"name\": \"Transfers Out\", \"x\": [1, 2, 3, 4, 5, 6, 7, 8, 9, 10, 11, 12, 13], \"y\": [0.0, 0.0, 0.0, 0.0, 0.0, 0.0, 0.0, 0.0, 0.0, 0.0, 0.0, 0.0, 0.0], \"type\": \"scatter\", \"uid\": \"291cf44d-e6a8-11e8-96a8-9cb6d0e14be4\"}, {\"line\": {\"color\": \"red\"}, \"name\": \"Demand\", \"x\": [1, 2, 3, 4, 5, 6, 7, 8, 9, 10, 11, 12, 13], \"y\": [0.030989583333333334, 0.02979166666666666, 0.029218749999999998, 0.031875, 0.04942708333333334, 0.07781249999999999, 0.09369791666666667, 0.08494791666666668, 0.07859375, 0.07713541666666666, 0.07546875, 0.07, 0.06755208333333333], \"type\": \"scatter\", \"uid\": \"291cf44e-e6a8-11e8-b53c-9cb6d0e14be4\"}], {\"title\": \"BalcombeReservoir\", \"xaxis\": {\"title\": \"Time / Hour\"}, \"yaxis\": {\"title\": \"Water Level / ML\"}}, {\"showLink\": true, \"linkText\": \"Export to plot.ly\"})});</script>"
      ],
      "text/vnd.plotly.v1+html": [
       "<div id=\"68b96990-2511-4923-bbd6-a7294609a0f0\" style=\"height: 525px; width: 100%;\" class=\"plotly-graph-div\"></div><script type=\"text/javascript\">require([\"plotly\"], function(Plotly) { window.PLOTLYENV=window.PLOTLYENV || {};window.PLOTLYENV.BASE_URL=\"https://plot.ly\";Plotly.newPlot(\"68b96990-2511-4923-bbd6-a7294609a0f0\", [{\"line\": {\"color\": \"cyan\"}, \"name\": \"Transfers In\", \"x\": [1, 2, 3, 4, 5, 6, 7, 8, 9, 10, 11, 12, 13], \"y\": [0.0, 0.0, 0.0, 0.31, 0.0, 0.0, 0.0, 0.0, 0.0, 0.31, 0.0, 0.0, 0.0], \"type\": \"scatter\", \"uid\": \"291cf44c-e6a8-11e8-99d5-9cb6d0e14be4\"}, {\"line\": {\"color\": \"green\"}, \"name\": \"Transfers Out\", \"x\": [1, 2, 3, 4, 5, 6, 7, 8, 9, 10, 11, 12, 13], \"y\": [0.0, 0.0, 0.0, 0.0, 0.0, 0.0, 0.0, 0.0, 0.0, 0.0, 0.0, 0.0, 0.0], \"type\": \"scatter\", \"uid\": \"291cf44d-e6a8-11e8-96a8-9cb6d0e14be4\"}, {\"line\": {\"color\": \"red\"}, \"name\": \"Demand\", \"x\": [1, 2, 3, 4, 5, 6, 7, 8, 9, 10, 11, 12, 13], \"y\": [0.030989583333333334, 0.02979166666666666, 0.029218749999999998, 0.031875, 0.04942708333333334, 0.07781249999999999, 0.09369791666666667, 0.08494791666666668, 0.07859375, 0.07713541666666666, 0.07546875, 0.07, 0.06755208333333333], \"type\": \"scatter\", \"uid\": \"291cf44e-e6a8-11e8-b53c-9cb6d0e14be4\"}], {\"title\": \"BalcombeReservoir\", \"xaxis\": {\"title\": \"Time / Hour\"}, \"yaxis\": {\"title\": \"Water Level / ML\"}}, {\"showLink\": true, \"linkText\": \"Export to plot.ly\"})});</script>"
      ]
     },
     "metadata": {},
     "output_type": "display_data"
    },
    {
     "data": {
      "application/vnd.plotly.v1+json": {
       "data": [
        {
         "line": {
          "color": "cyan"
         },
         "name": "Transfers In",
         "type": "scatter",
         "uid": "29237f90-e6a8-11e8-9445-9cb6d0e14be4",
         "x": [
          1,
          2,
          3,
          4,
          5,
          6,
          7,
          8,
          9,
          10,
          11,
          12,
          13
         ],
         "y": [
          0.06328125,
          0.06328125,
          0.06328125,
          0.06328125,
          0.06328125,
          0.06328125,
          0.06328125,
          0.06328125,
          0.06328125,
          0.06328125,
          0.06328125,
          0.06328125,
          0.06328125
         ]
        },
        {
         "line": {
          "color": "green"
         },
         "name": "Transfers Out",
         "type": "scatter",
         "uid": "2923a686-e6a8-11e8-ab6d-9cb6d0e14be4",
         "x": [
          1,
          2,
          3,
          4,
          5,
          6,
          7,
          8,
          9,
          10,
          11,
          12,
          13
         ],
         "y": [
          0,
          0,
          0,
          0,
          0,
          0,
          0,
          0,
          0,
          0,
          0,
          0,
          0
         ]
        },
        {
         "line": {
          "color": "red"
         },
         "name": "Demand",
         "type": "scatter",
         "uid": "2923a687-e6a8-11e8-8e81-9cb6d0e14be4",
         "x": [
          1,
          2,
          3,
          4,
          5,
          6,
          7,
          8,
          9,
          10,
          11,
          12,
          13
         ],
         "y": [
          0.03109375,
          0.031822916666666666,
          0.03119791666666667,
          0.035833333333333335,
          0.056458333333333326,
          0.09151041666666666,
          0.10177083333333332,
          0.09072916666666665,
          0.08817708333333334,
          0.08697916666666668,
          0.08921875000000001,
          0.08755208333333335,
          0.08375
         ]
        }
       ],
       "layout": {
        "title": "BestBeechReservoir",
        "xaxis": {
         "title": "Time / Hour"
        },
        "yaxis": {
         "title": "Water Level / ML"
        }
       }
      },
      "text/html": [
       "<div id=\"28f1289a-fa3a-4198-8e42-937386b6f501\" style=\"height: 525px; width: 100%;\" class=\"plotly-graph-div\"></div><script type=\"text/javascript\">require([\"plotly\"], function(Plotly) { window.PLOTLYENV=window.PLOTLYENV || {};window.PLOTLYENV.BASE_URL=\"https://plot.ly\";Plotly.newPlot(\"28f1289a-fa3a-4198-8e42-937386b6f501\", [{\"line\": {\"color\": \"cyan\"}, \"name\": \"Transfers In\", \"x\": [1, 2, 3, 4, 5, 6, 7, 8, 9, 10, 11, 12, 13], \"y\": [0.06328125, 0.06328125, 0.06328125, 0.06328125, 0.06328125, 0.06328125, 0.06328125, 0.06328125, 0.06328125, 0.06328125, 0.06328125, 0.06328125, 0.06328125], \"type\": \"scatter\", \"uid\": \"292f1058-e6a8-11e8-8407-9cb6d0e14be4\"}, {\"line\": {\"color\": \"green\"}, \"name\": \"Transfers Out\", \"x\": [1, 2, 3, 4, 5, 6, 7, 8, 9, 10, 11, 12, 13], \"y\": [0.0, 0.0, 0.0, 0.0, 0.0, 0.0, 0.0, 0.0, 0.0, 0.0, 0.0, 0.0, 0.0], \"type\": \"scatter\", \"uid\": \"292f3746-e6a8-11e8-a5c7-9cb6d0e14be4\"}, {\"line\": {\"color\": \"red\"}, \"name\": \"Demand\", \"x\": [1, 2, 3, 4, 5, 6, 7, 8, 9, 10, 11, 12, 13], \"y\": [0.03109375, 0.031822916666666666, 0.03119791666666667, 0.035833333333333335, 0.056458333333333326, 0.09151041666666666, 0.10177083333333332, 0.09072916666666665, 0.08817708333333334, 0.08697916666666668, 0.08921875000000001, 0.08755208333333335, 0.08375], \"type\": \"scatter\", \"uid\": \"292f3747-e6a8-11e8-8b91-9cb6d0e14be4\"}], {\"title\": \"BestBeechReservoir\", \"xaxis\": {\"title\": \"Time / Hour\"}, \"yaxis\": {\"title\": \"Water Level / ML\"}}, {\"showLink\": true, \"linkText\": \"Export to plot.ly\"})});</script>"
      ],
      "text/vnd.plotly.v1+html": [
       "<div id=\"28f1289a-fa3a-4198-8e42-937386b6f501\" style=\"height: 525px; width: 100%;\" class=\"plotly-graph-div\"></div><script type=\"text/javascript\">require([\"plotly\"], function(Plotly) { window.PLOTLYENV=window.PLOTLYENV || {};window.PLOTLYENV.BASE_URL=\"https://plot.ly\";Plotly.newPlot(\"28f1289a-fa3a-4198-8e42-937386b6f501\", [{\"line\": {\"color\": \"cyan\"}, \"name\": \"Transfers In\", \"x\": [1, 2, 3, 4, 5, 6, 7, 8, 9, 10, 11, 12, 13], \"y\": [0.06328125, 0.06328125, 0.06328125, 0.06328125, 0.06328125, 0.06328125, 0.06328125, 0.06328125, 0.06328125, 0.06328125, 0.06328125, 0.06328125, 0.06328125], \"type\": \"scatter\", \"uid\": \"292f1058-e6a8-11e8-8407-9cb6d0e14be4\"}, {\"line\": {\"color\": \"green\"}, \"name\": \"Transfers Out\", \"x\": [1, 2, 3, 4, 5, 6, 7, 8, 9, 10, 11, 12, 13], \"y\": [0.0, 0.0, 0.0, 0.0, 0.0, 0.0, 0.0, 0.0, 0.0, 0.0, 0.0, 0.0, 0.0], \"type\": \"scatter\", \"uid\": \"292f3746-e6a8-11e8-a5c7-9cb6d0e14be4\"}, {\"line\": {\"color\": \"red\"}, \"name\": \"Demand\", \"x\": [1, 2, 3, 4, 5, 6, 7, 8, 9, 10, 11, 12, 13], \"y\": [0.03109375, 0.031822916666666666, 0.03119791666666667, 0.035833333333333335, 0.056458333333333326, 0.09151041666666666, 0.10177083333333332, 0.09072916666666665, 0.08817708333333334, 0.08697916666666668, 0.08921875000000001, 0.08755208333333335, 0.08375], \"type\": \"scatter\", \"uid\": \"292f3747-e6a8-11e8-8b91-9cb6d0e14be4\"}], {\"title\": \"BestBeechReservoir\", \"xaxis\": {\"title\": \"Time / Hour\"}, \"yaxis\": {\"title\": \"Water Level / ML\"}}, {\"showLink\": true, \"linkText\": \"Export to plot.ly\"})});</script>"
      ]
     },
     "metadata": {},
     "output_type": "display_data"
    },
    {
     "data": {
      "application/vnd.plotly.v1+json": {
       "data": [
        {
         "line": {
          "color": "cyan"
         },
         "name": "Transfers In",
         "type": "scatter",
         "uid": "29374826-e6a8-11e8-9f13-9cb6d0e14be4",
         "x": [
          1,
          2,
          3,
          4,
          5,
          6,
          7,
          8,
          9,
          10,
          11,
          12,
          13
         ],
         "y": [
          0.251875,
          0.251875,
          0.251875,
          0.251875,
          0.299427083,
          0.35945311999999996,
          0.35945311999999996,
          0.35945311999999996,
          0.35945311999999996,
          0.35945311999999996,
          0.35945311999999996,
          0.35945311999999996,
          0.35945311999999996
         ]
        },
        {
         "line": {
          "color": "green"
         },
         "name": "Transfers Out",
         "type": "scatter",
         "uid": "29374827-e6a8-11e8-a0d3-9cb6d0e14be4",
         "x": [
          1,
          2,
          3,
          4,
          5,
          6,
          7,
          8,
          9,
          10,
          11,
          12,
          13
         ],
         "y": [
          0,
          0,
          0,
          0,
          0,
          0,
          0,
          0,
          0,
          0,
          0,
          0,
          0
         ]
        },
        {
         "line": {
          "color": "red"
         },
         "name": "Demand",
         "type": "scatter",
         "uid": "29374828-e6a8-11e8-a54a-9cb6d0e14be4",
         "x": [
          1,
          2,
          3,
          4,
          5,
          6,
          7,
          8,
          9,
          10,
          11,
          12,
          13
         ],
         "y": [
          0.12802083333333333,
          0.15010416666666668,
          0.13098958333333333,
          0.15338541666666666,
          0.2994270833333333,
          0.5502083333333333,
          0.68640625,
          0.4909895833333333,
          0.3961979166666667,
          0.3838020833333333,
          0.3676041666666667,
          0.4236979166666666,
          0.46671875000000007
         ]
        }
       ],
       "layout": {
        "title": "ButlersGreenReservoir",
        "xaxis": {
         "title": "Time / Hour"
        },
        "yaxis": {
         "title": "Water Level / ML"
        }
       }
      },
      "text/html": [
       "<div id=\"cdef433d-05d6-4197-a59a-a6a8009c08ba\" style=\"height: 525px; width: 100%;\" class=\"plotly-graph-div\"></div><script type=\"text/javascript\">require([\"plotly\"], function(Plotly) { window.PLOTLYENV=window.PLOTLYENV || {};window.PLOTLYENV.BASE_URL=\"https://plot.ly\";Plotly.newPlot(\"cdef433d-05d6-4197-a59a-a6a8009c08ba\", [{\"line\": {\"color\": \"cyan\"}, \"name\": \"Transfers In\", \"x\": [1, 2, 3, 4, 5, 6, 7, 8, 9, 10, 11, 12, 13], \"y\": [0.251875, 0.251875, 0.251875, 0.251875, 0.299427083, 0.35945311999999996, 0.35945311999999996, 0.35945311999999996, 0.35945311999999996, 0.35945311999999996, 0.35945311999999996, 0.35945311999999996, 0.35945311999999996], \"type\": \"scatter\", \"uid\": \"293e9634-e6a8-11e8-b5f0-9cb6d0e14be4\"}, {\"line\": {\"color\": \"green\"}, \"name\": \"Transfers Out\", \"x\": [1, 2, 3, 4, 5, 6, 7, 8, 9, 10, 11, 12, 13], \"y\": [0.0, 0.0, 0.0, 0.0, 0.0, 0.0, 0.0, 0.0, 0.0, 0.0, 0.0, 0.0, 0.0], \"type\": \"scatter\", \"uid\": \"293e9635-e6a8-11e8-a38b-9cb6d0e14be4\"}, {\"line\": {\"color\": \"red\"}, \"name\": \"Demand\", \"x\": [1, 2, 3, 4, 5, 6, 7, 8, 9, 10, 11, 12, 13], \"y\": [0.12802083333333333, 0.15010416666666668, 0.13098958333333333, 0.15338541666666666, 0.2994270833333333, 0.5502083333333333, 0.68640625, 0.4909895833333333, 0.3961979166666667, 0.3838020833333333, 0.3676041666666667, 0.4236979166666666, 0.46671875000000007], \"type\": \"scatter\", \"uid\": \"293e9636-e6a8-11e8-b72d-9cb6d0e14be4\"}], {\"title\": \"ButlersGreenReservoir\", \"xaxis\": {\"title\": \"Time / Hour\"}, \"yaxis\": {\"title\": \"Water Level / ML\"}}, {\"showLink\": true, \"linkText\": \"Export to plot.ly\"})});</script>"
      ],
      "text/vnd.plotly.v1+html": [
       "<div id=\"cdef433d-05d6-4197-a59a-a6a8009c08ba\" style=\"height: 525px; width: 100%;\" class=\"plotly-graph-div\"></div><script type=\"text/javascript\">require([\"plotly\"], function(Plotly) { window.PLOTLYENV=window.PLOTLYENV || {};window.PLOTLYENV.BASE_URL=\"https://plot.ly\";Plotly.newPlot(\"cdef433d-05d6-4197-a59a-a6a8009c08ba\", [{\"line\": {\"color\": \"cyan\"}, \"name\": \"Transfers In\", \"x\": [1, 2, 3, 4, 5, 6, 7, 8, 9, 10, 11, 12, 13], \"y\": [0.251875, 0.251875, 0.251875, 0.251875, 0.299427083, 0.35945311999999996, 0.35945311999999996, 0.35945311999999996, 0.35945311999999996, 0.35945311999999996, 0.35945311999999996, 0.35945311999999996, 0.35945311999999996], \"type\": \"scatter\", \"uid\": \"293e9634-e6a8-11e8-b5f0-9cb6d0e14be4\"}, {\"line\": {\"color\": \"green\"}, \"name\": \"Transfers Out\", \"x\": [1, 2, 3, 4, 5, 6, 7, 8, 9, 10, 11, 12, 13], \"y\": [0.0, 0.0, 0.0, 0.0, 0.0, 0.0, 0.0, 0.0, 0.0, 0.0, 0.0, 0.0, 0.0], \"type\": \"scatter\", \"uid\": \"293e9635-e6a8-11e8-a38b-9cb6d0e14be4\"}, {\"line\": {\"color\": \"red\"}, \"name\": \"Demand\", \"x\": [1, 2, 3, 4, 5, 6, 7, 8, 9, 10, 11, 12, 13], \"y\": [0.12802083333333333, 0.15010416666666668, 0.13098958333333333, 0.15338541666666666, 0.2994270833333333, 0.5502083333333333, 0.68640625, 0.4909895833333333, 0.3961979166666667, 0.3838020833333333, 0.3676041666666667, 0.4236979166666666, 0.46671875000000007], \"type\": \"scatter\", \"uid\": \"293e9636-e6a8-11e8-b72d-9cb6d0e14be4\"}], {\"title\": \"ButlersGreenReservoir\", \"xaxis\": {\"title\": \"Time / Hour\"}, \"yaxis\": {\"title\": \"Water Level / ML\"}}, {\"showLink\": true, \"linkText\": \"Export to plot.ly\"})});</script>"
      ]
     },
     "metadata": {},
     "output_type": "display_data"
    },
    {
     "data": {
      "application/vnd.plotly.v1+json": {
       "data": [
        {
         "line": {
          "color": "cyan"
         },
         "name": "Transfers In",
         "type": "scatter",
         "uid": "2945e424-e6a8-11e8-84a9-9cb6d0e14be4",
         "x": [
          1,
          2,
          3,
          4,
          5,
          6,
          7,
          8,
          9,
          10,
          11,
          12,
          13
         ],
         "y": [
          0.031346154,
          0.031346154,
          0.031346154,
          0.031346154,
          0.031346154,
          0.031346154,
          0.031346154,
          0.031346154,
          0.031346154,
          0.031346154,
          0.031346154,
          0.031346154,
          0.031346154
         ]
        },
        {
         "line": {
          "color": "green"
         },
         "name": "Transfers Out",
         "type": "scatter",
         "uid": "2945e425-e6a8-11e8-87e4-9cb6d0e14be4",
         "x": [
          1,
          2,
          3,
          4,
          5,
          6,
          7,
          8,
          9,
          10,
          11,
          12,
          13
         ],
         "y": [
          0,
          0,
          0,
          0,
          0,
          0,
          0,
          0,
          0,
          0,
          0,
          0,
          0
         ]
        },
        {
         "line": {
          "color": "red"
         },
         "name": "Demand",
         "type": "scatter",
         "uid": "2945e426-e6a8-11e8-bae8-9cb6d0e14be4",
         "x": [
          1,
          2,
          3,
          4,
          5,
          6,
          7,
          8,
          9,
          10,
          11,
          12,
          13
         ],
         "y": [
          0.023229166666666665,
          0.038593749999999996,
          0.0215625,
          0.0240625,
          0.023229166666666665,
          0.03843749999999999,
          0.05348958333333333,
          0.04244791666666667,
          0.03567708333333333,
          0.0425,
          0.04760416666666667,
          0.030052083333333337,
          0.04661458333333334
         ]
        }
       ],
       "layout": {
        "title": "ChilliesReservoir",
        "xaxis": {
         "title": "Time / Hour"
        },
        "yaxis": {
         "title": "Water Level / ML"
        }
       }
      },
      "text/html": [
       "<div id=\"71ebf785-62fb-48ef-8203-e98e664299dc\" style=\"height: 525px; width: 100%;\" class=\"plotly-graph-div\"></div><script type=\"text/javascript\">require([\"plotly\"], function(Plotly) { window.PLOTLYENV=window.PLOTLYENV || {};window.PLOTLYENV.BASE_URL=\"https://plot.ly\";Plotly.newPlot(\"71ebf785-62fb-48ef-8203-e98e664299dc\", [{\"line\": {\"color\": \"cyan\"}, \"name\": \"Transfers In\", \"x\": [1, 2, 3, 4, 5, 6, 7, 8, 9, 10, 11, 12, 13], \"y\": [0.031346154, 0.031346154, 0.031346154, 0.031346154, 0.031346154, 0.031346154, 0.031346154, 0.031346154, 0.031346154, 0.031346154, 0.031346154, 0.031346154, 0.031346154], \"type\": \"scatter\", \"uid\": \"2949d908-e6a8-11e8-95e3-9cb6d0e14be4\"}, {\"line\": {\"color\": \"green\"}, \"name\": \"Transfers Out\", \"x\": [1, 2, 3, 4, 5, 6, 7, 8, 9, 10, 11, 12, 13], \"y\": [0.0, 0.0, 0.0, 0.0, 0.0, 0.0, 0.0, 0.0, 0.0, 0.0, 0.0, 0.0, 0.0], \"type\": \"scatter\", \"uid\": \"2949d909-e6a8-11e8-834d-9cb6d0e14be4\"}, {\"line\": {\"color\": \"red\"}, \"name\": \"Demand\", \"x\": [1, 2, 3, 4, 5, 6, 7, 8, 9, 10, 11, 12, 13], \"y\": [0.023229166666666665, 0.038593749999999996, 0.0215625, 0.0240625, 0.023229166666666665, 0.03843749999999999, 0.05348958333333333, 0.04244791666666667, 0.03567708333333333, 0.0425, 0.04760416666666667, 0.030052083333333337, 0.04661458333333334], \"type\": \"scatter\", \"uid\": \"2949d90a-e6a8-11e8-b730-9cb6d0e14be4\"}], {\"title\": \"ChilliesReservoir\", \"xaxis\": {\"title\": \"Time / Hour\"}, \"yaxis\": {\"title\": \"Water Level / ML\"}}, {\"showLink\": true, \"linkText\": \"Export to plot.ly\"})});</script>"
      ],
      "text/vnd.plotly.v1+html": [
       "<div id=\"71ebf785-62fb-48ef-8203-e98e664299dc\" style=\"height: 525px; width: 100%;\" class=\"plotly-graph-div\"></div><script type=\"text/javascript\">require([\"plotly\"], function(Plotly) { window.PLOTLYENV=window.PLOTLYENV || {};window.PLOTLYENV.BASE_URL=\"https://plot.ly\";Plotly.newPlot(\"71ebf785-62fb-48ef-8203-e98e664299dc\", [{\"line\": {\"color\": \"cyan\"}, \"name\": \"Transfers In\", \"x\": [1, 2, 3, 4, 5, 6, 7, 8, 9, 10, 11, 12, 13], \"y\": [0.031346154, 0.031346154, 0.031346154, 0.031346154, 0.031346154, 0.031346154, 0.031346154, 0.031346154, 0.031346154, 0.031346154, 0.031346154, 0.031346154, 0.031346154], \"type\": \"scatter\", \"uid\": \"2949d908-e6a8-11e8-95e3-9cb6d0e14be4\"}, {\"line\": {\"color\": \"green\"}, \"name\": \"Transfers Out\", \"x\": [1, 2, 3, 4, 5, 6, 7, 8, 9, 10, 11, 12, 13], \"y\": [0.0, 0.0, 0.0, 0.0, 0.0, 0.0, 0.0, 0.0, 0.0, 0.0, 0.0, 0.0, 0.0], \"type\": \"scatter\", \"uid\": \"2949d909-e6a8-11e8-834d-9cb6d0e14be4\"}, {\"line\": {\"color\": \"red\"}, \"name\": \"Demand\", \"x\": [1, 2, 3, 4, 5, 6, 7, 8, 9, 10, 11, 12, 13], \"y\": [0.023229166666666665, 0.038593749999999996, 0.0215625, 0.0240625, 0.023229166666666665, 0.03843749999999999, 0.05348958333333333, 0.04244791666666667, 0.03567708333333333, 0.0425, 0.04760416666666667, 0.030052083333333337, 0.04661458333333334], \"type\": \"scatter\", \"uid\": \"2949d90a-e6a8-11e8-b730-9cb6d0e14be4\"}], {\"title\": \"ChilliesReservoir\", \"xaxis\": {\"title\": \"Time / Hour\"}, \"yaxis\": {\"title\": \"Water Level / ML\"}}, {\"showLink\": true, \"linkText\": \"Export to plot.ly\"})});</script>"
      ]
     },
     "metadata": {},
     "output_type": "display_data"
    },
    {
     "data": {
      "application/vnd.plotly.v1+json": {
       "data": [
        {
         "line": {
          "color": "cyan"
         },
         "name": "Transfers In",
         "type": "scatter",
         "uid": "2951001a-e6a8-11e8-8a52-9cb6d0e14be4",
         "x": [
          1,
          2,
          3,
          4,
          5,
          6,
          7,
          8,
          9,
          10,
          11,
          12,
          13
         ],
         "y": [
          0.14086726,
          0.14086726,
          0.14086726,
          0.14086726,
          0.14086726,
          0.14086726,
          0.27406726000000003,
          0.27406726000000003,
          0.27406726000000003,
          0.27406726000000003,
          0.27406726000000003,
          0.27406726000000003,
          0.27406726000000003
         ]
        },
        {
         "line": {
          "color": "green"
         },
         "name": "Transfers Out",
         "type": "scatter",
         "uid": "2951001b-e6a8-11e8-be23-9cb6d0e14be4",
         "x": [
          1,
          2,
          3,
          4,
          5,
          6,
          7,
          8,
          9,
          10,
          11,
          12,
          13
         ],
         "y": [
          0.06328125,
          0.06328125,
          0.06328125,
          0.06328125,
          0.06328125,
          0.06328125,
          0.06328125,
          0.06328125,
          0.06328125,
          0.06328125,
          0.06328125,
          0.06328125,
          0.06328125
         ]
        },
        {
         "line": {
          "color": "red"
         },
         "name": "Demand",
         "type": "scatter",
         "uid": "2951001c-e6a8-11e8-8d66-9cb6d0e14be4",
         "x": [
          1,
          2,
          3,
          4,
          5,
          6,
          7,
          8,
          9,
          10,
          11,
          12,
          13
         ],
         "y": [
          0.07437500000000001,
          0.07526041666666668,
          0.07484375,
          0.09072916666666665,
          0.12697916666666667,
          0.1919791666666667,
          0.22213541666666667,
          0.20869791666666668,
          0.19890625000000003,
          0.1835416666666667,
          0.17895833333333333,
          0.17234375000000002,
          0.17796875
         ]
        }
       ],
       "layout": {
        "title": "CottageHillReservoir",
        "xaxis": {
         "title": "Time / Hour"
        },
        "yaxis": {
         "title": "Water Level / ML"
        }
       }
      },
      "text/html": [
       "<div id=\"ce59df06-7c57-486c-84ef-6e5011fb9be4\" style=\"height: 525px; width: 100%;\" class=\"plotly-graph-div\"></div><script type=\"text/javascript\">require([\"plotly\"], function(Plotly) { window.PLOTLYENV=window.PLOTLYENV || {};window.PLOTLYENV.BASE_URL=\"https://plot.ly\";Plotly.newPlot(\"ce59df06-7c57-486c-84ef-6e5011fb9be4\", [{\"line\": {\"color\": \"cyan\"}, \"name\": \"Transfers In\", \"x\": [1, 2, 3, 4, 5, 6, 7, 8, 9, 10, 11, 12, 13], \"y\": [0.14086726, 0.14086726, 0.14086726, 0.14086726, 0.14086726, 0.14086726, 0.27406726000000003, 0.27406726000000003, 0.27406726000000003, 0.27406726000000003, 0.27406726000000003, 0.27406726000000003, 0.27406726000000003], \"type\": \"scatter\", \"uid\": \"29667668-e6a8-11e8-998b-9cb6d0e14be4\"}, {\"line\": {\"color\": \"green\"}, \"name\": \"Transfers Out\", \"x\": [1, 2, 3, 4, 5, 6, 7, 8, 9, 10, 11, 12, 13], \"y\": [0.06328125, 0.06328125, 0.06328125, 0.06328125, 0.06328125, 0.06328125, 0.06328125, 0.06328125, 0.06328125, 0.06328125, 0.06328125, 0.06328125, 0.06328125], \"type\": \"scatter\", \"uid\": \"29667669-e6a8-11e8-ad43-9cb6d0e14be4\"}, {\"line\": {\"color\": \"red\"}, \"name\": \"Demand\", \"x\": [1, 2, 3, 4, 5, 6, 7, 8, 9, 10, 11, 12, 13], \"y\": [0.07437500000000001, 0.07526041666666668, 0.07484375, 0.09072916666666665, 0.12697916666666667, 0.1919791666666667, 0.22213541666666667, 0.20869791666666668, 0.19890625000000003, 0.1835416666666667, 0.17895833333333333, 0.17234375000000002, 0.17796875], \"type\": \"scatter\", \"uid\": \"29669d64-e6a8-11e8-9f0b-9cb6d0e14be4\"}], {\"title\": \"CottageHillReservoir\", \"xaxis\": {\"title\": \"Time / Hour\"}, \"yaxis\": {\"title\": \"Water Level / ML\"}}, {\"showLink\": true, \"linkText\": \"Export to plot.ly\"})});</script>"
      ],
      "text/vnd.plotly.v1+html": [
       "<div id=\"ce59df06-7c57-486c-84ef-6e5011fb9be4\" style=\"height: 525px; width: 100%;\" class=\"plotly-graph-div\"></div><script type=\"text/javascript\">require([\"plotly\"], function(Plotly) { window.PLOTLYENV=window.PLOTLYENV || {};window.PLOTLYENV.BASE_URL=\"https://plot.ly\";Plotly.newPlot(\"ce59df06-7c57-486c-84ef-6e5011fb9be4\", [{\"line\": {\"color\": \"cyan\"}, \"name\": \"Transfers In\", \"x\": [1, 2, 3, 4, 5, 6, 7, 8, 9, 10, 11, 12, 13], \"y\": [0.14086726, 0.14086726, 0.14086726, 0.14086726, 0.14086726, 0.14086726, 0.27406726000000003, 0.27406726000000003, 0.27406726000000003, 0.27406726000000003, 0.27406726000000003, 0.27406726000000003, 0.27406726000000003], \"type\": \"scatter\", \"uid\": \"29667668-e6a8-11e8-998b-9cb6d0e14be4\"}, {\"line\": {\"color\": \"green\"}, \"name\": \"Transfers Out\", \"x\": [1, 2, 3, 4, 5, 6, 7, 8, 9, 10, 11, 12, 13], \"y\": [0.06328125, 0.06328125, 0.06328125, 0.06328125, 0.06328125, 0.06328125, 0.06328125, 0.06328125, 0.06328125, 0.06328125, 0.06328125, 0.06328125, 0.06328125], \"type\": \"scatter\", \"uid\": \"29667669-e6a8-11e8-ad43-9cb6d0e14be4\"}, {\"line\": {\"color\": \"red\"}, \"name\": \"Demand\", \"x\": [1, 2, 3, 4, 5, 6, 7, 8, 9, 10, 11, 12, 13], \"y\": [0.07437500000000001, 0.07526041666666668, 0.07484375, 0.09072916666666665, 0.12697916666666667, 0.1919791666666667, 0.22213541666666667, 0.20869791666666668, 0.19890625000000003, 0.1835416666666667, 0.17895833333333333, 0.17234375000000002, 0.17796875], \"type\": \"scatter\", \"uid\": \"29669d64-e6a8-11e8-9f0b-9cb6d0e14be4\"}], {\"title\": \"CottageHillReservoir\", \"xaxis\": {\"title\": \"Time / Hour\"}, \"yaxis\": {\"title\": \"Water Level / ML\"}}, {\"showLink\": true, \"linkText\": \"Export to plot.ly\"})});</script>"
      ]
     },
     "metadata": {},
     "output_type": "display_data"
    },
    {
     "data": {
      "application/vnd.plotly.v1+json": {
       "data": [
        {
         "line": {
          "color": "cyan"
         },
         "name": "Transfers In",
         "type": "scatter",
         "uid": "296e1124-e6a8-11e8-a1a0-9cb6d0e14be4",
         "x": [
          1,
          2,
          3,
          4,
          5,
          6,
          7,
          8,
          9,
          10,
          11,
          12,
          13
         ],
         "y": [
          0.032043519,
          0.147243519,
          0.147243519,
          0.147243519,
          0.147243519,
          0.147243519,
          0.032043519,
          0.147243519,
          0.147243519,
          0.147243519,
          0.147243519,
          0.147243519,
          0.147243519
         ]
        },
        {
         "line": {
          "color": "green"
         },
         "name": "Transfers Out",
         "type": "scatter",
         "uid": "296e1125-e6a8-11e8-b918-9cb6d0e14be4",
         "x": [
          1,
          2,
          3,
          4,
          5,
          6,
          7,
          8,
          9,
          10,
          11,
          12,
          13
         ],
         "y": [
          0,
          0,
          0,
          0,
          0,
          0,
          0,
          0,
          0,
          0,
          0,
          0,
          0
         ]
        },
        {
         "line": {
          "color": "red"
         },
         "name": "Demand",
         "type": "scatter",
         "uid": "296e1126-e6a8-11e8-bb38-9cb6d0e14be4",
         "x": [
          1,
          2,
          3,
          4,
          5,
          6,
          7,
          8,
          9,
          10,
          11,
          12,
          13
         ],
         "y": [
          0.08421875,
          0.09041666666666666,
          0.0796875,
          0.09359374999999999,
          0.1274479166666667,
          0.19161458333333337,
          0.2136458333333333,
          0.19572916666666665,
          0.1784375,
          0.145625,
          0.13192708333333333,
          0.14911458333333333,
          0.13234375
         ]
        }
       ],
       "layout": {
        "title": "CrowboroughReservoir",
        "xaxis": {
         "title": "Time / Hour"
        },
        "yaxis": {
         "title": "Water Level / ML"
        }
       }
      },
      "text/html": [
       "<div id=\"2543ad76-6449-4cba-a596-6e9b0c548822\" style=\"height: 525px; width: 100%;\" class=\"plotly-graph-div\"></div><script type=\"text/javascript\">require([\"plotly\"], function(Plotly) { window.PLOTLYENV=window.PLOTLYENV || {};window.PLOTLYENV.BASE_URL=\"https://plot.ly\";Plotly.newPlot(\"2543ad76-6449-4cba-a596-6e9b0c548822\", [{\"line\": {\"color\": \"cyan\"}, \"name\": \"Transfers In\", \"x\": [1, 2, 3, 4, 5, 6, 7, 8, 9, 10, 11, 12, 13], \"y\": [0.032043519, 0.147243519, 0.147243519, 0.147243519, 0.147243519, 0.147243519, 0.032043519, 0.147243519, 0.147243519, 0.147243519, 0.147243519, 0.147243519, 0.147243519], \"type\": \"scatter\", \"uid\": \"29722d1a-e6a8-11e8-9afe-9cb6d0e14be4\"}, {\"line\": {\"color\": \"green\"}, \"name\": \"Transfers Out\", \"x\": [1, 2, 3, 4, 5, 6, 7, 8, 9, 10, 11, 12, 13], \"y\": [0.0, 0.0, 0.0, 0.0, 0.0, 0.0, 0.0, 0.0, 0.0, 0.0, 0.0, 0.0, 0.0], \"type\": \"scatter\", \"uid\": \"29722d1b-e6a8-11e8-a047-9cb6d0e14be4\"}, {\"line\": {\"color\": \"red\"}, \"name\": \"Demand\", \"x\": [1, 2, 3, 4, 5, 6, 7, 8, 9, 10, 11, 12, 13], \"y\": [0.08421875, 0.09041666666666666, 0.0796875, 0.09359374999999999, 0.1274479166666667, 0.19161458333333337, 0.2136458333333333, 0.19572916666666665, 0.1784375, 0.145625, 0.13192708333333333, 0.14911458333333333, 0.13234375], \"type\": \"scatter\", \"uid\": \"29722d1c-e6a8-11e8-b73a-9cb6d0e14be4\"}], {\"title\": \"CrowboroughReservoir\", \"xaxis\": {\"title\": \"Time / Hour\"}, \"yaxis\": {\"title\": \"Water Level / ML\"}}, {\"showLink\": true, \"linkText\": \"Export to plot.ly\"})});</script>"
      ],
      "text/vnd.plotly.v1+html": [
       "<div id=\"2543ad76-6449-4cba-a596-6e9b0c548822\" style=\"height: 525px; width: 100%;\" class=\"plotly-graph-div\"></div><script type=\"text/javascript\">require([\"plotly\"], function(Plotly) { window.PLOTLYENV=window.PLOTLYENV || {};window.PLOTLYENV.BASE_URL=\"https://plot.ly\";Plotly.newPlot(\"2543ad76-6449-4cba-a596-6e9b0c548822\", [{\"line\": {\"color\": \"cyan\"}, \"name\": \"Transfers In\", \"x\": [1, 2, 3, 4, 5, 6, 7, 8, 9, 10, 11, 12, 13], \"y\": [0.032043519, 0.147243519, 0.147243519, 0.147243519, 0.147243519, 0.147243519, 0.032043519, 0.147243519, 0.147243519, 0.147243519, 0.147243519, 0.147243519, 0.147243519], \"type\": \"scatter\", \"uid\": \"29722d1a-e6a8-11e8-9afe-9cb6d0e14be4\"}, {\"line\": {\"color\": \"green\"}, \"name\": \"Transfers Out\", \"x\": [1, 2, 3, 4, 5, 6, 7, 8, 9, 10, 11, 12, 13], \"y\": [0.0, 0.0, 0.0, 0.0, 0.0, 0.0, 0.0, 0.0, 0.0, 0.0, 0.0, 0.0, 0.0], \"type\": \"scatter\", \"uid\": \"29722d1b-e6a8-11e8-a047-9cb6d0e14be4\"}, {\"line\": {\"color\": \"red\"}, \"name\": \"Demand\", \"x\": [1, 2, 3, 4, 5, 6, 7, 8, 9, 10, 11, 12, 13], \"y\": [0.08421875, 0.09041666666666666, 0.0796875, 0.09359374999999999, 0.1274479166666667, 0.19161458333333337, 0.2136458333333333, 0.19572916666666665, 0.1784375, 0.145625, 0.13192708333333333, 0.14911458333333333, 0.13234375], \"type\": \"scatter\", \"uid\": \"29722d1c-e6a8-11e8-b73a-9cb6d0e14be4\"}], {\"title\": \"CrowboroughReservoir\", \"xaxis\": {\"title\": \"Time / Hour\"}, \"yaxis\": {\"title\": \"Water Level / ML\"}}, {\"showLink\": true, \"linkText\": \"Export to plot.ly\"})});</script>"
      ]
     },
     "metadata": {},
     "output_type": "display_data"
    },
    {
     "data": {
      "application/vnd.plotly.v1+json": {
       "data": [
        {
         "line": {
          "color": "cyan"
         },
         "name": "Transfers In",
         "type": "scatter",
         "uid": "2977a798-e6a8-11e8-84c7-9cb6d0e14be4",
         "x": [
          1,
          2,
          3,
          4,
          5,
          6,
          7,
          8,
          9,
          10,
          11,
          12,
          13
         ],
         "y": [
          0,
          0.14,
          0.14,
          0.14,
          0.14,
          0.14,
          0.14,
          0.14,
          0.265,
          0.265,
          0.265,
          0.265,
          0.265
         ]
        },
        {
         "line": {
          "color": "green"
         },
         "name": "Transfers Out",
         "type": "scatter",
         "uid": "2977a799-e6a8-11e8-afe9-9cb6d0e14be4",
         "x": [
          1,
          2,
          3,
          4,
          5,
          6,
          7,
          8,
          9,
          10,
          11,
          12,
          13
         ],
         "y": [
          0,
          0,
          0,
          0,
          0,
          0,
          0,
          0,
          0,
          0,
          0,
          0,
          0
         ]
        },
        {
         "line": {
          "color": "red"
         },
         "name": "Demand",
         "type": "scatter",
         "uid": "2977a79a-e6a8-11e8-9352-9cb6d0e14be4",
         "x": [
          1,
          2,
          3,
          4,
          5,
          6,
          7,
          8,
          9,
          10,
          11,
          12,
          13
         ],
         "y": [
          0.06031249999999999,
          0.05786458333333332,
          0.05765624999999999,
          0.065625,
          0.13,
          0.21786458333333333,
          0.26234375,
          0.23713541666666668,
          0.22109375,
          0.21479166666666663,
          0.1970833333333333,
          0.20343750000000002,
          0.17156249999999998
         ]
        }
       ],
       "layout": {
        "title": "CuckfieldReservoir",
        "xaxis": {
         "title": "Time / Hour"
        },
        "yaxis": {
         "title": "Water Level / ML"
        }
       }
      },
      "text/html": [
       "<div id=\"5ec8aa41-2fee-48b8-8c2b-6bf8bc1d4364\" style=\"height: 525px; width: 100%;\" class=\"plotly-graph-div\"></div><script type=\"text/javascript\">require([\"plotly\"], function(Plotly) { window.PLOTLYENV=window.PLOTLYENV || {};window.PLOTLYENV.BASE_URL=\"https://plot.ly\";Plotly.newPlot(\"5ec8aa41-2fee-48b8-8c2b-6bf8bc1d4364\", [{\"line\": {\"color\": \"cyan\"}, \"name\": \"Transfers In\", \"x\": [1, 2, 3, 4, 5, 6, 7, 8, 9, 10, 11, 12, 13], \"y\": [0.0, 0.14, 0.14, 0.14, 0.14, 0.14, 0.14, 0.14, 0.265, 0.265, 0.265, 0.265, 0.265], \"type\": \"scatter\", \"uid\": \"297b756e-e6a8-11e8-8068-9cb6d0e14be4\"}, {\"line\": {\"color\": \"green\"}, \"name\": \"Transfers Out\", \"x\": [1, 2, 3, 4, 5, 6, 7, 8, 9, 10, 11, 12, 13], \"y\": [0.0, 0.0, 0.0, 0.0, 0.0, 0.0, 0.0, 0.0, 0.0, 0.0, 0.0, 0.0, 0.0], \"type\": \"scatter\", \"uid\": \"297b756f-e6a8-11e8-8020-9cb6d0e14be4\"}, {\"line\": {\"color\": \"red\"}, \"name\": \"Demand\", \"x\": [1, 2, 3, 4, 5, 6, 7, 8, 9, 10, 11, 12, 13], \"y\": [0.06031249999999999, 0.05786458333333332, 0.05765624999999999, 0.065625, 0.13, 0.21786458333333333, 0.26234375, 0.23713541666666668, 0.22109375, 0.21479166666666663, 0.1970833333333333, 0.20343750000000002, 0.17156249999999998], \"type\": \"scatter\", \"uid\": \"297b7570-e6a8-11e8-b0b4-9cb6d0e14be4\"}], {\"title\": \"CuckfieldReservoir\", \"xaxis\": {\"title\": \"Time / Hour\"}, \"yaxis\": {\"title\": \"Water Level / ML\"}}, {\"showLink\": true, \"linkText\": \"Export to plot.ly\"})});</script>"
      ],
      "text/vnd.plotly.v1+html": [
       "<div id=\"5ec8aa41-2fee-48b8-8c2b-6bf8bc1d4364\" style=\"height: 525px; width: 100%;\" class=\"plotly-graph-div\"></div><script type=\"text/javascript\">require([\"plotly\"], function(Plotly) { window.PLOTLYENV=window.PLOTLYENV || {};window.PLOTLYENV.BASE_URL=\"https://plot.ly\";Plotly.newPlot(\"5ec8aa41-2fee-48b8-8c2b-6bf8bc1d4364\", [{\"line\": {\"color\": \"cyan\"}, \"name\": \"Transfers In\", \"x\": [1, 2, 3, 4, 5, 6, 7, 8, 9, 10, 11, 12, 13], \"y\": [0.0, 0.14, 0.14, 0.14, 0.14, 0.14, 0.14, 0.14, 0.265, 0.265, 0.265, 0.265, 0.265], \"type\": \"scatter\", \"uid\": \"297b756e-e6a8-11e8-8068-9cb6d0e14be4\"}, {\"line\": {\"color\": \"green\"}, \"name\": \"Transfers Out\", \"x\": [1, 2, 3, 4, 5, 6, 7, 8, 9, 10, 11, 12, 13], \"y\": [0.0, 0.0, 0.0, 0.0, 0.0, 0.0, 0.0, 0.0, 0.0, 0.0, 0.0, 0.0, 0.0], \"type\": \"scatter\", \"uid\": \"297b756f-e6a8-11e8-8020-9cb6d0e14be4\"}, {\"line\": {\"color\": \"red\"}, \"name\": \"Demand\", \"x\": [1, 2, 3, 4, 5, 6, 7, 8, 9, 10, 11, 12, 13], \"y\": [0.06031249999999999, 0.05786458333333332, 0.05765624999999999, 0.065625, 0.13, 0.21786458333333333, 0.26234375, 0.23713541666666668, 0.22109375, 0.21479166666666663, 0.1970833333333333, 0.20343750000000002, 0.17156249999999998], \"type\": \"scatter\", \"uid\": \"297b7570-e6a8-11e8-b0b4-9cb6d0e14be4\"}], {\"title\": \"CuckfieldReservoir\", \"xaxis\": {\"title\": \"Time / Hour\"}, \"yaxis\": {\"title\": \"Water Level / ML\"}}, {\"showLink\": true, \"linkText\": \"Export to plot.ly\"})});</script>"
      ]
     },
     "metadata": {},
     "output_type": "display_data"
    },
    {
     "data": {
      "application/vnd.plotly.v1+json": {
       "data": [
        {
         "line": {
          "color": "cyan"
         },
         "name": "Transfers In",
         "type": "scatter",
         "uid": "29838662-e6a8-11e8-8a4d-9cb6d0e14be4",
         "x": [
          1,
          2,
          3,
          4,
          5,
          6,
          7,
          8,
          9,
          10,
          11,
          12,
          13
         ],
         "y": [
          0,
          0,
          0.25,
          0.25,
          0.25,
          0.25,
          0.25,
          0.25,
          0.25,
          0.25,
          0.25,
          0.25,
          0.25
         ]
        },
        {
         "line": {
          "color": "green"
         },
         "name": "Transfers Out",
         "type": "scatter",
         "uid": "29838663-e6a8-11e8-8587-9cb6d0e14be4",
         "x": [
          1,
          2,
          3,
          4,
          5,
          6,
          7,
          8,
          9,
          10,
          11,
          12,
          13
         ],
         "y": [
          0,
          0,
          0,
          0.18,
          0.18,
          0.18,
          0.18,
          0.18,
          0.18,
          0.18,
          0.18,
          0.18,
          0.18
         ]
        },
        {
         "line": {
          "color": "red"
         },
         "name": "Demand",
         "type": "scatter",
         "uid": "29838664-e6a8-11e8-a574-9cb6d0e14be4",
         "x": [
          1,
          2,
          3,
          4,
          5,
          6,
          7,
          8,
          9,
          10,
          11,
          12,
          13
         ],
         "y": [
          0.03557291666666666,
          0.033489583333333336,
          0.03296875,
          0.03677083333333333,
          0.06510416666666667,
          0.12734375,
          0.15208333333333332,
          0.12999999999999998,
          0.11447916666666667,
          0.10203125,
          0.09661458333333332,
          0.09046875,
          0.08838541666666666
         ]
        }
       ],
       "layout": {
        "title": "GrovelandsReservoir",
        "xaxis": {
         "title": "Time / Hour"
        },
        "yaxis": {
         "title": "Water Level / ML"
        }
       }
      },
      "text/html": [
       "<div id=\"54fad3fb-248c-4ada-ba26-ce8776af5c78\" style=\"height: 525px; width: 100%;\" class=\"plotly-graph-div\"></div><script type=\"text/javascript\">require([\"plotly\"], function(Plotly) { window.PLOTLYENV=window.PLOTLYENV || {};window.PLOTLYENV.BASE_URL=\"https://plot.ly\";Plotly.newPlot(\"54fad3fb-248c-4ada-ba26-ce8776af5c78\", [{\"line\": {\"color\": \"cyan\"}, \"name\": \"Transfers In\", \"x\": [1, 2, 3, 4, 5, 6, 7, 8, 9, 10, 11, 12, 13], \"y\": [0.0, 0.0, 0.25, 0.25, 0.25, 0.25, 0.25, 0.25, 0.25, 0.25, 0.25, 0.25, 0.25], \"type\": \"scatter\", \"uid\": \"2987f012-e6a8-11e8-aa36-9cb6d0e14be4\"}, {\"line\": {\"color\": \"green\"}, \"name\": \"Transfers Out\", \"x\": [1, 2, 3, 4, 5, 6, 7, 8, 9, 10, 11, 12, 13], \"y\": [0.0, 0.0, 0.0, 0.18, 0.18, 0.18, 0.18, 0.18, 0.18, 0.18, 0.18, 0.18, 0.18], \"type\": \"scatter\", \"uid\": \"2987f013-e6a8-11e8-b34f-9cb6d0e14be4\"}, {\"line\": {\"color\": \"red\"}, \"name\": \"Demand\", \"x\": [1, 2, 3, 4, 5, 6, 7, 8, 9, 10, 11, 12, 13], \"y\": [0.03557291666666666, 0.033489583333333336, 0.03296875, 0.03677083333333333, 0.06510416666666667, 0.12734375, 0.15208333333333332, 0.12999999999999998, 0.11447916666666667, 0.10203125, 0.09661458333333332, 0.09046875, 0.08838541666666666], \"type\": \"scatter\", \"uid\": \"2987f014-e6a8-11e8-88ba-9cb6d0e14be4\"}], {\"title\": \"GrovelandsReservoir\", \"xaxis\": {\"title\": \"Time / Hour\"}, \"yaxis\": {\"title\": \"Water Level / ML\"}}, {\"showLink\": true, \"linkText\": \"Export to plot.ly\"})});</script>"
      ],
      "text/vnd.plotly.v1+html": [
       "<div id=\"54fad3fb-248c-4ada-ba26-ce8776af5c78\" style=\"height: 525px; width: 100%;\" class=\"plotly-graph-div\"></div><script type=\"text/javascript\">require([\"plotly\"], function(Plotly) { window.PLOTLYENV=window.PLOTLYENV || {};window.PLOTLYENV.BASE_URL=\"https://plot.ly\";Plotly.newPlot(\"54fad3fb-248c-4ada-ba26-ce8776af5c78\", [{\"line\": {\"color\": \"cyan\"}, \"name\": \"Transfers In\", \"x\": [1, 2, 3, 4, 5, 6, 7, 8, 9, 10, 11, 12, 13], \"y\": [0.0, 0.0, 0.25, 0.25, 0.25, 0.25, 0.25, 0.25, 0.25, 0.25, 0.25, 0.25, 0.25], \"type\": \"scatter\", \"uid\": \"2987f012-e6a8-11e8-aa36-9cb6d0e14be4\"}, {\"line\": {\"color\": \"green\"}, \"name\": \"Transfers Out\", \"x\": [1, 2, 3, 4, 5, 6, 7, 8, 9, 10, 11, 12, 13], \"y\": [0.0, 0.0, 0.0, 0.18, 0.18, 0.18, 0.18, 0.18, 0.18, 0.18, 0.18, 0.18, 0.18], \"type\": \"scatter\", \"uid\": \"2987f013-e6a8-11e8-b34f-9cb6d0e14be4\"}, {\"line\": {\"color\": \"red\"}, \"name\": \"Demand\", \"x\": [1, 2, 3, 4, 5, 6, 7, 8, 9, 10, 11, 12, 13], \"y\": [0.03557291666666666, 0.033489583333333336, 0.03296875, 0.03677083333333333, 0.06510416666666667, 0.12734375, 0.15208333333333332, 0.12999999999999998, 0.11447916666666667, 0.10203125, 0.09661458333333332, 0.09046875, 0.08838541666666666], \"type\": \"scatter\", \"uid\": \"2987f014-e6a8-11e8-88ba-9cb6d0e14be4\"}], {\"title\": \"GrovelandsReservoir\", \"xaxis\": {\"title\": \"Time / Hour\"}, \"yaxis\": {\"title\": \"Water Level / ML\"}}, {\"showLink\": true, \"linkText\": \"Export to plot.ly\"})});</script>"
      ]
     },
     "metadata": {},
     "output_type": "display_data"
    },
    {
     "data": {
      "application/vnd.plotly.v1+json": {
       "data": [
        {
         "line": {
          "color": "cyan"
         },
         "name": "Transfers In",
         "type": "scatter",
         "uid": "298ef01c-e6a8-11e8-8f4c-9cb6d0e14be4",
         "x": [
          1,
          2,
          3,
          4,
          5,
          6,
          7,
          8,
          9,
          10,
          11,
          12,
          13
         ],
         "y": [
          1.666666667,
          1.666666667,
          1.666666667,
          1.666666667,
          1.666666667,
          1.666666667,
          1.666666667,
          1.666666667,
          1.666666667,
          1.666666667,
          1.666666667,
          1.666666667,
          1.666666667
         ]
        },
        {
         "line": {
          "color": "green"
         },
         "name": "Transfers Out",
         "type": "scatter",
         "uid": "298ef01d-e6a8-11e8-93d3-9cb6d0e14be4",
         "x": [
          1,
          2,
          3,
          4,
          5,
          6,
          7,
          8,
          9,
          10,
          11,
          12,
          13
         ],
         "y": [
          0.5876215279999999,
          0.7276215279999999,
          1.5176215279999998,
          1.8276215279999999,
          1.5176215279999998,
          1.5176215279999998,
          1.5176215279999998,
          1.5176215279999998,
          1.5176215279999998,
          1.8276215279999999,
          1.5176215279999998,
          1.5176215279999998,
          1.5176215279999998
         ]
        },
        {
         "line": {
          "color": "red"
         },
         "name": "Demand",
         "type": "scatter",
         "uid": "298ef01e-e6a8-11e8-b2b5-9cb6d0e14be4",
         "x": [
          1,
          2,
          3,
          4,
          5,
          6,
          7,
          8,
          9,
          10,
          11,
          12,
          13
         ],
         "y": [
          0.10765625,
          0.11328125,
          0.11619791666666666,
          0.11546875,
          0.15708333333333332,
          0.27671874999999996,
          0.35135416666666663,
          0.32447916666666665,
          0.29833333333333334,
          0.27223958333333337,
          0.2696354166666667,
          0.2577083333333334,
          0.25276041666666665
         ]
        }
       ],
       "layout": {
        "title": "HorstedKeynesReservoir",
        "xaxis": {
         "title": "Time / Hour"
        },
        "yaxis": {
         "title": "Water Level / ML"
        }
       }
      },
      "text/html": [
       "<div id=\"74409632-b53d-4f38-ad83-ba54aae11f04\" style=\"height: 525px; width: 100%;\" class=\"plotly-graph-div\"></div><script type=\"text/javascript\">require([\"plotly\"], function(Plotly) { window.PLOTLYENV=window.PLOTLYENV || {};window.PLOTLYENV.BASE_URL=\"https://plot.ly\";Plotly.newPlot(\"74409632-b53d-4f38-ad83-ba54aae11f04\", [{\"line\": {\"color\": \"cyan\"}, \"name\": \"Transfers In\", \"x\": [1, 2, 3, 4, 5, 6, 7, 8, 9, 10, 11, 12, 13], \"y\": [1.666666667, 1.666666667, 1.666666667, 1.666666667, 1.666666667, 1.666666667, 1.666666667, 1.666666667, 1.666666667, 1.666666667, 1.666666667, 1.666666667, 1.666666667], \"type\": \"scatter\", \"uid\": \"29922238-e6a8-11e8-8f56-9cb6d0e14be4\"}, {\"line\": {\"color\": \"green\"}, \"name\": \"Transfers Out\", \"x\": [1, 2, 3, 4, 5, 6, 7, 8, 9, 10, 11, 12, 13], \"y\": [0.5876215279999999, 0.7276215279999999, 1.5176215279999998, 1.8276215279999999, 1.5176215279999998, 1.5176215279999998, 1.5176215279999998, 1.5176215279999998, 1.5176215279999998, 1.8276215279999999, 1.5176215279999998, 1.5176215279999998, 1.5176215279999998], \"type\": \"scatter\", \"uid\": \"29922239-e6a8-11e8-9426-9cb6d0e14be4\"}, {\"line\": {\"color\": \"red\"}, \"name\": \"Demand\", \"x\": [1, 2, 3, 4, 5, 6, 7, 8, 9, 10, 11, 12, 13], \"y\": [0.10765625, 0.11328125, 0.11619791666666666, 0.11546875, 0.15708333333333332, 0.27671874999999996, 0.35135416666666663, 0.32447916666666665, 0.29833333333333334, 0.27223958333333337, 0.2696354166666667, 0.2577083333333334, 0.25276041666666665], \"type\": \"scatter\", \"uid\": \"2992223a-e6a8-11e8-999d-9cb6d0e14be4\"}], {\"title\": \"HorstedKeynesReservoir\", \"xaxis\": {\"title\": \"Time / Hour\"}, \"yaxis\": {\"title\": \"Water Level / ML\"}}, {\"showLink\": true, \"linkText\": \"Export to plot.ly\"})});</script>"
      ],
      "text/vnd.plotly.v1+html": [
       "<div id=\"74409632-b53d-4f38-ad83-ba54aae11f04\" style=\"height: 525px; width: 100%;\" class=\"plotly-graph-div\"></div><script type=\"text/javascript\">require([\"plotly\"], function(Plotly) { window.PLOTLYENV=window.PLOTLYENV || {};window.PLOTLYENV.BASE_URL=\"https://plot.ly\";Plotly.newPlot(\"74409632-b53d-4f38-ad83-ba54aae11f04\", [{\"line\": {\"color\": \"cyan\"}, \"name\": \"Transfers In\", \"x\": [1, 2, 3, 4, 5, 6, 7, 8, 9, 10, 11, 12, 13], \"y\": [1.666666667, 1.666666667, 1.666666667, 1.666666667, 1.666666667, 1.666666667, 1.666666667, 1.666666667, 1.666666667, 1.666666667, 1.666666667, 1.666666667, 1.666666667], \"type\": \"scatter\", \"uid\": \"29922238-e6a8-11e8-8f56-9cb6d0e14be4\"}, {\"line\": {\"color\": \"green\"}, \"name\": \"Transfers Out\", \"x\": [1, 2, 3, 4, 5, 6, 7, 8, 9, 10, 11, 12, 13], \"y\": [0.5876215279999999, 0.7276215279999999, 1.5176215279999998, 1.8276215279999999, 1.5176215279999998, 1.5176215279999998, 1.5176215279999998, 1.5176215279999998, 1.5176215279999998, 1.8276215279999999, 1.5176215279999998, 1.5176215279999998, 1.5176215279999998], \"type\": \"scatter\", \"uid\": \"29922239-e6a8-11e8-9426-9cb6d0e14be4\"}, {\"line\": {\"color\": \"red\"}, \"name\": \"Demand\", \"x\": [1, 2, 3, 4, 5, 6, 7, 8, 9, 10, 11, 12, 13], \"y\": [0.10765625, 0.11328125, 0.11619791666666666, 0.11546875, 0.15708333333333332, 0.27671874999999996, 0.35135416666666663, 0.32447916666666665, 0.29833333333333334, 0.27223958333333337, 0.2696354166666667, 0.2577083333333334, 0.25276041666666665], \"type\": \"scatter\", \"uid\": \"2992223a-e6a8-11e8-999d-9cb6d0e14be4\"}], {\"title\": \"HorstedKeynesReservoir\", \"xaxis\": {\"title\": \"Time / Hour\"}, \"yaxis\": {\"title\": \"Water Level / ML\"}}, {\"showLink\": true, \"linkText\": \"Export to plot.ly\"})});</script>"
      ]
     },
     "metadata": {},
     "output_type": "display_data"
    },
    {
     "data": {
      "application/vnd.plotly.v1+json": {
       "data": [
        {
         "line": {
          "color": "cyan"
         },
         "name": "Transfers In",
         "type": "scatter",
         "uid": "2998119a-e6a8-11e8-8eb1-9cb6d0e14be4",
         "x": [
          1,
          2,
          3,
          4,
          5,
          6,
          7,
          8,
          9,
          10,
          11,
          12,
          13
         ],
         "y": [
          0,
          0.126,
          0.126,
          0.126,
          0.126,
          0.126,
          0.126,
          0.126,
          0.126,
          0.126,
          0.126,
          0.126,
          0.126
         ]
        },
        {
         "line": {
          "color": "green"
         },
         "name": "Transfers Out",
         "type": "scatter",
         "uid": "2998119b-e6a8-11e8-a191-9cb6d0e14be4",
         "x": [
          1,
          2,
          3,
          4,
          5,
          6,
          7,
          8,
          9,
          10,
          11,
          12,
          13
         ],
         "y": [
          0,
          0.1152,
          0.1152,
          0.1152,
          0.1152,
          0.1152,
          0,
          0.1152,
          0.1152,
          0.1152,
          0.1152,
          0.1152,
          0.1152
         ]
        },
        {
         "line": {
          "color": "red"
         },
         "name": "Demand",
         "type": "scatter",
         "uid": "2998119c-e6a8-11e8-ae17-9cb6d0e14be4",
         "x": [
          1,
          2,
          3,
          4,
          5,
          6,
          7,
          8,
          9,
          10,
          11,
          12,
          13
         ],
         "y": [
          0.0203125,
          0.019635416666666666,
          0.019739583333333335,
          0.021354166666666664,
          0.029375000000000002,
          0.052656249999999995,
          0.0603125,
          0.05458333333333334,
          0.04942708333333332,
          0.043020833333333335,
          0.045729166666666675,
          0.042604166666666665,
          0.043750000000000004
         ]
        }
       ],
       "layout": {
        "title": "HourneFarmReservoir",
        "xaxis": {
         "title": "Time / Hour"
        },
        "yaxis": {
         "title": "Water Level / ML"
        }
       }
      },
      "text/html": [
       "<div id=\"8ec275f4-8dd8-41de-8bbe-ae2aa8afe20d\" style=\"height: 525px; width: 100%;\" class=\"plotly-graph-div\"></div><script type=\"text/javascript\">require([\"plotly\"], function(Plotly) { window.PLOTLYENV=window.PLOTLYENV || {};window.PLOTLYENV.BASE_URL=\"https://plot.ly\";Plotly.newPlot(\"8ec275f4-8dd8-41de-8bbe-ae2aa8afe20d\", [{\"line\": {\"color\": \"cyan\"}, \"name\": \"Transfers In\", \"x\": [1, 2, 3, 4, 5, 6, 7, 8, 9, 10, 11, 12, 13], \"y\": [0.0, 0.126, 0.126, 0.126, 0.126, 0.126, 0.126, 0.126, 0.126, 0.126, 0.126, 0.126, 0.126], \"type\": \"scatter\", \"uid\": \"299b91cc-e6a8-11e8-a8ec-9cb6d0e14be4\"}, {\"line\": {\"color\": \"green\"}, \"name\": \"Transfers Out\", \"x\": [1, 2, 3, 4, 5, 6, 7, 8, 9, 10, 11, 12, 13], \"y\": [0.0, 0.1152, 0.1152, 0.1152, 0.1152, 0.1152, 0.0, 0.1152, 0.1152, 0.1152, 0.1152, 0.1152, 0.1152], \"type\": \"scatter\", \"uid\": \"299b91cd-e6a8-11e8-bfde-9cb6d0e14be4\"}, {\"line\": {\"color\": \"red\"}, \"name\": \"Demand\", \"x\": [1, 2, 3, 4, 5, 6, 7, 8, 9, 10, 11, 12, 13], \"y\": [0.0203125, 0.019635416666666666, 0.019739583333333335, 0.021354166666666664, 0.029375000000000002, 0.052656249999999995, 0.0603125, 0.05458333333333334, 0.04942708333333332, 0.043020833333333335, 0.045729166666666675, 0.042604166666666665, 0.043750000000000004], \"type\": \"scatter\", \"uid\": \"299b91ce-e6a8-11e8-9c65-9cb6d0e14be4\"}], {\"title\": \"HourneFarmReservoir\", \"xaxis\": {\"title\": \"Time / Hour\"}, \"yaxis\": {\"title\": \"Water Level / ML\"}}, {\"showLink\": true, \"linkText\": \"Export to plot.ly\"})});</script>"
      ],
      "text/vnd.plotly.v1+html": [
       "<div id=\"8ec275f4-8dd8-41de-8bbe-ae2aa8afe20d\" style=\"height: 525px; width: 100%;\" class=\"plotly-graph-div\"></div><script type=\"text/javascript\">require([\"plotly\"], function(Plotly) { window.PLOTLYENV=window.PLOTLYENV || {};window.PLOTLYENV.BASE_URL=\"https://plot.ly\";Plotly.newPlot(\"8ec275f4-8dd8-41de-8bbe-ae2aa8afe20d\", [{\"line\": {\"color\": \"cyan\"}, \"name\": \"Transfers In\", \"x\": [1, 2, 3, 4, 5, 6, 7, 8, 9, 10, 11, 12, 13], \"y\": [0.0, 0.126, 0.126, 0.126, 0.126, 0.126, 0.126, 0.126, 0.126, 0.126, 0.126, 0.126, 0.126], \"type\": \"scatter\", \"uid\": \"299b91cc-e6a8-11e8-a8ec-9cb6d0e14be4\"}, {\"line\": {\"color\": \"green\"}, \"name\": \"Transfers Out\", \"x\": [1, 2, 3, 4, 5, 6, 7, 8, 9, 10, 11, 12, 13], \"y\": [0.0, 0.1152, 0.1152, 0.1152, 0.1152, 0.1152, 0.0, 0.1152, 0.1152, 0.1152, 0.1152, 0.1152, 0.1152], \"type\": \"scatter\", \"uid\": \"299b91cd-e6a8-11e8-bfde-9cb6d0e14be4\"}, {\"line\": {\"color\": \"red\"}, \"name\": \"Demand\", \"x\": [1, 2, 3, 4, 5, 6, 7, 8, 9, 10, 11, 12, 13], \"y\": [0.0203125, 0.019635416666666666, 0.019739583333333335, 0.021354166666666664, 0.029375000000000002, 0.052656249999999995, 0.0603125, 0.05458333333333334, 0.04942708333333332, 0.043020833333333335, 0.045729166666666675, 0.042604166666666665, 0.043750000000000004], \"type\": \"scatter\", \"uid\": \"299b91ce-e6a8-11e8-9c65-9cb6d0e14be4\"}], {\"title\": \"HourneFarmReservoir\", \"xaxis\": {\"title\": \"Time / Hour\"}, \"yaxis\": {\"title\": \"Water Level / ML\"}}, {\"showLink\": true, \"linkText\": \"Export to plot.ly\"})});</script>"
      ]
     },
     "metadata": {},
     "output_type": "display_data"
    },
    {
     "data": {
      "application/vnd.plotly.v1+json": {
       "data": [
        {
         "line": {
          "color": "cyan"
         },
         "name": "Transfers In",
         "type": "scatter",
         "uid": "29a3549c-e6a8-11e8-9da6-9cb6d0e14be4",
         "x": [
          1,
          2,
          3,
          4,
          5,
          6,
          7,
          8,
          9,
          10,
          11,
          12,
          13
         ],
         "y": [
          0.080552083,
          0.080552083,
          0.080552083,
          0.080552083,
          0.080552083,
          0.088092448,
          0.088092448,
          0.088092448,
          0.088092448,
          0.088092448,
          0.088092448,
          0.088092448,
          0.088092448
         ]
        },
        {
         "line": {
          "color": "green"
         },
         "name": "Transfers Out",
         "type": "scatter",
         "uid": "29a3549d-e6a8-11e8-8cab-9cb6d0e14be4",
         "x": [
          1,
          2,
          3,
          4,
          5,
          6,
          7,
          8,
          9,
          10,
          11,
          12,
          13
         ],
         "y": [
          0,
          0,
          0,
          0,
          0,
          0,
          0,
          0,
          0,
          0,
          0,
          0,
          0
         ]
        },
        {
         "line": {
          "color": "red"
         },
         "name": "Demand",
         "type": "scatter",
         "uid": "29a3549e-e6a8-11e8-8dac-9cb6d0e14be4",
         "x": [
          1,
          2,
          3,
          4,
          5,
          6,
          7,
          8,
          9,
          10,
          11,
          12,
          13
         ],
         "y": [
          0.044375000000000005,
          0.042604166666666665,
          0.04296875,
          0.04317708333333334,
          0.062135416666666665,
          0.10760416666666667,
          0.13182291666666668,
          0.11432291666666668,
          0.11552083333333335,
          0.09734375,
          0.09265625,
          0.090625,
          0.08947916666666667
         ]
        }
       ],
       "layout": {
        "title": "NutleyReservoir",
        "xaxis": {
         "title": "Time / Hour"
        },
        "yaxis": {
         "title": "Water Level / ML"
        }
       }
      },
      "text/html": [
       "<div id=\"761211ba-7615-4a76-8251-1efd4ce0bbcd\" style=\"height: 525px; width: 100%;\" class=\"plotly-graph-div\"></div><script type=\"text/javascript\">require([\"plotly\"], function(Plotly) { window.PLOTLYENV=window.PLOTLYENV || {};window.PLOTLYENV.BASE_URL=\"https://plot.ly\";Plotly.newPlot(\"761211ba-7615-4a76-8251-1efd4ce0bbcd\", [{\"line\": {\"color\": \"cyan\"}, \"name\": \"Transfers In\", \"x\": [1, 2, 3, 4, 5, 6, 7, 8, 9, 10, 11, 12, 13], \"y\": [0.080552083, 0.080552083, 0.080552083, 0.080552083, 0.080552083, 0.088092448, 0.088092448, 0.088092448, 0.088092448, 0.088092448, 0.088092448, 0.088092448, 0.088092448], \"type\": \"scatter\", \"uid\": \"29a943ec-e6a8-11e8-ae50-9cb6d0e14be4\"}, {\"line\": {\"color\": \"green\"}, \"name\": \"Transfers Out\", \"x\": [1, 2, 3, 4, 5, 6, 7, 8, 9, 10, 11, 12, 13], \"y\": [0.0, 0.0, 0.0, 0.0, 0.0, 0.0, 0.0, 0.0, 0.0, 0.0, 0.0, 0.0, 0.0], \"type\": \"scatter\", \"uid\": \"29a943ed-e6a8-11e8-b460-9cb6d0e14be4\"}, {\"line\": {\"color\": \"red\"}, \"name\": \"Demand\", \"x\": [1, 2, 3, 4, 5, 6, 7, 8, 9, 10, 11, 12, 13], \"y\": [0.044375000000000005, 0.042604166666666665, 0.04296875, 0.04317708333333334, 0.062135416666666665, 0.10760416666666667, 0.13182291666666668, 0.11432291666666668, 0.11552083333333335, 0.09734375, 0.09265625, 0.090625, 0.08947916666666667], \"type\": \"scatter\", \"uid\": \"29a96aee-e6a8-11e8-9744-9cb6d0e14be4\"}], {\"title\": \"NutleyReservoir\", \"xaxis\": {\"title\": \"Time / Hour\"}, \"yaxis\": {\"title\": \"Water Level / ML\"}}, {\"showLink\": true, \"linkText\": \"Export to plot.ly\"})});</script>"
      ],
      "text/vnd.plotly.v1+html": [
       "<div id=\"761211ba-7615-4a76-8251-1efd4ce0bbcd\" style=\"height: 525px; width: 100%;\" class=\"plotly-graph-div\"></div><script type=\"text/javascript\">require([\"plotly\"], function(Plotly) { window.PLOTLYENV=window.PLOTLYENV || {};window.PLOTLYENV.BASE_URL=\"https://plot.ly\";Plotly.newPlot(\"761211ba-7615-4a76-8251-1efd4ce0bbcd\", [{\"line\": {\"color\": \"cyan\"}, \"name\": \"Transfers In\", \"x\": [1, 2, 3, 4, 5, 6, 7, 8, 9, 10, 11, 12, 13], \"y\": [0.080552083, 0.080552083, 0.080552083, 0.080552083, 0.080552083, 0.088092448, 0.088092448, 0.088092448, 0.088092448, 0.088092448, 0.088092448, 0.088092448, 0.088092448], \"type\": \"scatter\", \"uid\": \"29a943ec-e6a8-11e8-ae50-9cb6d0e14be4\"}, {\"line\": {\"color\": \"green\"}, \"name\": \"Transfers Out\", \"x\": [1, 2, 3, 4, 5, 6, 7, 8, 9, 10, 11, 12, 13], \"y\": [0.0, 0.0, 0.0, 0.0, 0.0, 0.0, 0.0, 0.0, 0.0, 0.0, 0.0, 0.0, 0.0], \"type\": \"scatter\", \"uid\": \"29a943ed-e6a8-11e8-b460-9cb6d0e14be4\"}, {\"line\": {\"color\": \"red\"}, \"name\": \"Demand\", \"x\": [1, 2, 3, 4, 5, 6, 7, 8, 9, 10, 11, 12, 13], \"y\": [0.044375000000000005, 0.042604166666666665, 0.04296875, 0.04317708333333334, 0.062135416666666665, 0.10760416666666667, 0.13182291666666668, 0.11432291666666668, 0.11552083333333335, 0.09734375, 0.09265625, 0.090625, 0.08947916666666667], \"type\": \"scatter\", \"uid\": \"29a96aee-e6a8-11e8-9744-9cb6d0e14be4\"}], {\"title\": \"NutleyReservoir\", \"xaxis\": {\"title\": \"Time / Hour\"}, \"yaxis\": {\"title\": \"Water Level / ML\"}}, {\"showLink\": true, \"linkText\": \"Export to plot.ly\"})});</script>"
      ]
     },
     "metadata": {},
     "output_type": "display_data"
    },
    {
     "data": {
      "application/vnd.plotly.v1+json": {
       "data": [
        {
         "line": {
          "color": "cyan"
         },
         "name": "Transfers In",
         "type": "scatter",
         "uid": "29b154be-e6a8-11e8-8296-9cb6d0e14be4",
         "x": [
          1,
          2,
          3,
          4,
          5,
          6,
          7,
          8,
          9,
          10,
          11,
          12,
          13
         ],
         "y": [
          0.18539295,
          0.18539295,
          0.18539295,
          0.18539295,
          0.18539295,
          0.18539295,
          0.18539295,
          0.18539295,
          0.18539295,
          0.18539295,
          0.18539295,
          0.18539295,
          0.18539295
         ]
        },
        {
         "line": {
          "color": "green"
         },
         "name": "Transfers Out",
         "type": "scatter",
         "uid": "29b154bf-e6a8-11e8-b7f8-9cb6d0e14be4",
         "x": [
          1,
          2,
          3,
          4,
          5,
          6,
          7,
          8,
          9,
          10,
          11,
          12,
          13
         ],
         "y": [
          0.031346154,
          0.031346154,
          0.031346154,
          0.031346154,
          0.031346154,
          0.031346154,
          0.164546154,
          0.164546154,
          0.164546154,
          0.164546154,
          0.164546154,
          0.164546154,
          0.164546154
         ]
        },
        {
         "line": {
          "color": "red"
         },
         "name": "Demand",
         "type": "scatter",
         "uid": "29b154c0-e6a8-11e8-b108-9cb6d0e14be4",
         "x": [
          1,
          2,
          3,
          4,
          5,
          6,
          7,
          8,
          9,
          10,
          11,
          12,
          13
         ],
         "y": [
          0.06286458333333333,
          0.06203125,
          0.06604166666666667,
          0.07343749999999999,
          0.12192708333333335,
          0.2333333333333333,
          0.2738020833333333,
          0.23,
          0.2024479166666667,
          0.1896875,
          0.17734375,
          0.166875,
          0.16541666666666666
         ]
        }
       ],
       "layout": {
        "title": "PopeswoodReservoir",
        "xaxis": {
         "title": "Time / Hour"
        },
        "yaxis": {
         "title": "Water Level / ML"
        }
       }
      },
      "text/html": [
       "<div id=\"cdcf0d52-827e-4fd7-8001-be9cf3a60ada\" style=\"height: 525px; width: 100%;\" class=\"plotly-graph-div\"></div><script type=\"text/javascript\">require([\"plotly\"], function(Plotly) { window.PLOTLYENV=window.PLOTLYENV || {};window.PLOTLYENV.BASE_URL=\"https://plot.ly\";Plotly.newPlot(\"cdcf0d52-827e-4fd7-8001-be9cf3a60ada\", [{\"line\": {\"color\": \"cyan\"}, \"name\": \"Transfers In\", \"x\": [1, 2, 3, 4, 5, 6, 7, 8, 9, 10, 11, 12, 13], \"y\": [0.18539295, 0.18539295, 0.18539295, 0.18539295, 0.18539295, 0.18539295, 0.18539295, 0.18539295, 0.18539295, 0.18539295, 0.18539295, 0.18539295, 0.18539295], \"type\": \"scatter\", \"uid\": \"29b54998-e6a8-11e8-a0bd-9cb6d0e14be4\"}, {\"line\": {\"color\": \"green\"}, \"name\": \"Transfers Out\", \"x\": [1, 2, 3, 4, 5, 6, 7, 8, 9, 10, 11, 12, 13], \"y\": [0.031346154, 0.031346154, 0.031346154, 0.031346154, 0.031346154, 0.031346154, 0.164546154, 0.164546154, 0.164546154, 0.164546154, 0.164546154, 0.164546154, 0.164546154], \"type\": \"scatter\", \"uid\": \"29b54999-e6a8-11e8-bb77-9cb6d0e14be4\"}, {\"line\": {\"color\": \"red\"}, \"name\": \"Demand\", \"x\": [1, 2, 3, 4, 5, 6, 7, 8, 9, 10, 11, 12, 13], \"y\": [0.06286458333333333, 0.06203125, 0.06604166666666667, 0.07343749999999999, 0.12192708333333335, 0.2333333333333333, 0.2738020833333333, 0.23, 0.2024479166666667, 0.1896875, 0.17734375, 0.166875, 0.16541666666666666], \"type\": \"scatter\", \"uid\": \"29b5499a-e6a8-11e8-9a47-9cb6d0e14be4\"}], {\"title\": \"PopeswoodReservoir\", \"xaxis\": {\"title\": \"Time / Hour\"}, \"yaxis\": {\"title\": \"Water Level / ML\"}}, {\"showLink\": true, \"linkText\": \"Export to plot.ly\"})});</script>"
      ],
      "text/vnd.plotly.v1+html": [
       "<div id=\"cdcf0d52-827e-4fd7-8001-be9cf3a60ada\" style=\"height: 525px; width: 100%;\" class=\"plotly-graph-div\"></div><script type=\"text/javascript\">require([\"plotly\"], function(Plotly) { window.PLOTLYENV=window.PLOTLYENV || {};window.PLOTLYENV.BASE_URL=\"https://plot.ly\";Plotly.newPlot(\"cdcf0d52-827e-4fd7-8001-be9cf3a60ada\", [{\"line\": {\"color\": \"cyan\"}, \"name\": \"Transfers In\", \"x\": [1, 2, 3, 4, 5, 6, 7, 8, 9, 10, 11, 12, 13], \"y\": [0.18539295, 0.18539295, 0.18539295, 0.18539295, 0.18539295, 0.18539295, 0.18539295, 0.18539295, 0.18539295, 0.18539295, 0.18539295, 0.18539295, 0.18539295], \"type\": \"scatter\", \"uid\": \"29b54998-e6a8-11e8-a0bd-9cb6d0e14be4\"}, {\"line\": {\"color\": \"green\"}, \"name\": \"Transfers Out\", \"x\": [1, 2, 3, 4, 5, 6, 7, 8, 9, 10, 11, 12, 13], \"y\": [0.031346154, 0.031346154, 0.031346154, 0.031346154, 0.031346154, 0.031346154, 0.164546154, 0.164546154, 0.164546154, 0.164546154, 0.164546154, 0.164546154, 0.164546154], \"type\": \"scatter\", \"uid\": \"29b54999-e6a8-11e8-bb77-9cb6d0e14be4\"}, {\"line\": {\"color\": \"red\"}, \"name\": \"Demand\", \"x\": [1, 2, 3, 4, 5, 6, 7, 8, 9, 10, 11, 12, 13], \"y\": [0.06286458333333333, 0.06203125, 0.06604166666666667, 0.07343749999999999, 0.12192708333333335, 0.2333333333333333, 0.2738020833333333, 0.23, 0.2024479166666667, 0.1896875, 0.17734375, 0.166875, 0.16541666666666666], \"type\": \"scatter\", \"uid\": \"29b5499a-e6a8-11e8-9a47-9cb6d0e14be4\"}], {\"title\": \"PopeswoodReservoir\", \"xaxis\": {\"title\": \"Time / Hour\"}, \"yaxis\": {\"title\": \"Water Level / ML\"}}, {\"showLink\": true, \"linkText\": \"Export to plot.ly\"})});</script>"
      ]
     },
     "metadata": {},
     "output_type": "display_data"
    },
    {
     "data": {
      "application/vnd.plotly.v1+json": {
       "data": [
        {
         "line": {
          "color": "cyan"
         },
         "name": "Transfers In",
         "type": "scatter",
         "uid": "29bc49ae-e6a8-11e8-b0f3-9cb6d0e14be4",
         "x": [
          1,
          2,
          3,
          4,
          5,
          6,
          7,
          8,
          9,
          10,
          11,
          12,
          13
         ],
         "y": [
          0,
          0,
          0,
          0.18,
          0.18,
          0.18,
          0.18,
          0.18,
          0.18,
          0.18,
          0.18,
          0.18,
          0.18
         ]
        },
        {
         "line": {
          "color": "green"
         },
         "name": "Transfers Out",
         "type": "scatter",
         "uid": "29bc70a4-e6a8-11e8-9b5f-9cb6d0e14be4",
         "x": [
          1,
          2,
          3,
          4,
          5,
          6,
          7,
          8,
          9,
          10,
          11,
          12,
          13
         ],
         "y": [
          0,
          0,
          0,
          0,
          0,
          0,
          0,
          0,
          0,
          0,
          0,
          0,
          0
         ]
        },
        {
         "line": {
          "color": "red"
         },
         "name": "Demand",
         "type": "scatter",
         "uid": "29bc70a5-e6a8-11e8-a142-9cb6d0e14be4",
         "x": [
          1,
          2,
          3,
          4,
          5,
          6,
          7,
          8,
          9,
          10,
          11,
          12,
          13
         ],
         "y": [
          0.06536458333333332,
          0.062447916666666665,
          0.06390625000000001,
          0.07182291666666667,
          0.09703125000000001,
          0.15817708333333333,
          0.17817708333333335,
          0.16328124999999996,
          0.14958333333333332,
          0.13359374999999998,
          0.12916666666666668,
          0.12625,
          0.12447916666666668
         ]
        }
       ],
       "layout": {
        "title": "SelsfieldReservoir",
        "xaxis": {
         "title": "Time / Hour"
        },
        "yaxis": {
         "title": "Water Level / ML"
        }
       }
      },
      "text/html": [
       "<div id=\"e93145e5-40a8-4543-b6e0-231020822598\" style=\"height: 525px; width: 100%;\" class=\"plotly-graph-div\"></div><script type=\"text/javascript\">require([\"plotly\"], function(Plotly) { window.PLOTLYENV=window.PLOTLYENV || {};window.PLOTLYENV.BASE_URL=\"https://plot.ly\";Plotly.newPlot(\"e93145e5-40a8-4543-b6e0-231020822598\", [{\"line\": {\"color\": \"cyan\"}, \"name\": \"Transfers In\", \"x\": [1, 2, 3, 4, 5, 6, 7, 8, 9, 10, 11, 12, 13], \"y\": [0.0, 0.0, 0.0, 0.18, 0.18, 0.18, 0.18, 0.18, 0.18, 0.18, 0.18, 0.18, 0.18], \"type\": \"scatter\", \"uid\": \"29c0659a-e6a8-11e8-a94f-9cb6d0e14be4\"}, {\"line\": {\"color\": \"green\"}, \"name\": \"Transfers Out\", \"x\": [1, 2, 3, 4, 5, 6, 7, 8, 9, 10, 11, 12, 13], \"y\": [0.0, 0.0, 0.0, 0.0, 0.0, 0.0, 0.0, 0.0, 0.0, 0.0, 0.0, 0.0, 0.0], \"type\": \"scatter\", \"uid\": \"29c0659b-e6a8-11e8-b80d-9cb6d0e14be4\"}, {\"line\": {\"color\": \"red\"}, \"name\": \"Demand\", \"x\": [1, 2, 3, 4, 5, 6, 7, 8, 9, 10, 11, 12, 13], \"y\": [0.06536458333333332, 0.062447916666666665, 0.06390625000000001, 0.07182291666666667, 0.09703125000000001, 0.15817708333333333, 0.17817708333333335, 0.16328124999999996, 0.14958333333333332, 0.13359374999999998, 0.12916666666666668, 0.12625, 0.12447916666666668], \"type\": \"scatter\", \"uid\": \"29c0659c-e6a8-11e8-b20a-9cb6d0e14be4\"}], {\"title\": \"SelsfieldReservoir\", \"xaxis\": {\"title\": \"Time / Hour\"}, \"yaxis\": {\"title\": \"Water Level / ML\"}}, {\"showLink\": true, \"linkText\": \"Export to plot.ly\"})});</script>"
      ],
      "text/vnd.plotly.v1+html": [
       "<div id=\"e93145e5-40a8-4543-b6e0-231020822598\" style=\"height: 525px; width: 100%;\" class=\"plotly-graph-div\"></div><script type=\"text/javascript\">require([\"plotly\"], function(Plotly) { window.PLOTLYENV=window.PLOTLYENV || {};window.PLOTLYENV.BASE_URL=\"https://plot.ly\";Plotly.newPlot(\"e93145e5-40a8-4543-b6e0-231020822598\", [{\"line\": {\"color\": \"cyan\"}, \"name\": \"Transfers In\", \"x\": [1, 2, 3, 4, 5, 6, 7, 8, 9, 10, 11, 12, 13], \"y\": [0.0, 0.0, 0.0, 0.18, 0.18, 0.18, 0.18, 0.18, 0.18, 0.18, 0.18, 0.18, 0.18], \"type\": \"scatter\", \"uid\": \"29c0659a-e6a8-11e8-a94f-9cb6d0e14be4\"}, {\"line\": {\"color\": \"green\"}, \"name\": \"Transfers Out\", \"x\": [1, 2, 3, 4, 5, 6, 7, 8, 9, 10, 11, 12, 13], \"y\": [0.0, 0.0, 0.0, 0.0, 0.0, 0.0, 0.0, 0.0, 0.0, 0.0, 0.0, 0.0, 0.0], \"type\": \"scatter\", \"uid\": \"29c0659b-e6a8-11e8-b80d-9cb6d0e14be4\"}, {\"line\": {\"color\": \"red\"}, \"name\": \"Demand\", \"x\": [1, 2, 3, 4, 5, 6, 7, 8, 9, 10, 11, 12, 13], \"y\": [0.06536458333333332, 0.062447916666666665, 0.06390625000000001, 0.07182291666666667, 0.09703125000000001, 0.15817708333333333, 0.17817708333333335, 0.16328124999999996, 0.14958333333333332, 0.13359374999999998, 0.12916666666666668, 0.12625, 0.12447916666666668], \"type\": \"scatter\", \"uid\": \"29c0659c-e6a8-11e8-b20a-9cb6d0e14be4\"}], {\"title\": \"SelsfieldReservoir\", \"xaxis\": {\"title\": \"Time / Hour\"}, \"yaxis\": {\"title\": \"Water Level / ML\"}}, {\"showLink\": true, \"linkText\": \"Export to plot.ly\"})});</script>"
      ]
     },
     "metadata": {},
     "output_type": "display_data"
    },
    {
     "data": {
      "application/vnd.plotly.v1+json": {
       "data": [
        {
         "line": {
          "color": "cyan"
         },
         "name": "Transfers In",
         "type": "scatter",
         "uid": "29c56b4a-e6a8-11e8-809e-9cb6d0e14be4",
         "x": [
          1,
          2,
          3,
          4,
          5,
          6,
          7,
          8,
          9,
          10,
          11,
          12,
          13
         ],
         "y": [
          0.084621528,
          0.084621528,
          0.084621528,
          0.084621528,
          0.084621528,
          0.084621528,
          0.084621528,
          0.084621528,
          0.084621528,
          0.084621528,
          0.084621528,
          0.084621528,
          0.084621528
         ]
        },
        {
         "line": {
          "color": "green"
         },
         "name": "Transfers Out",
         "type": "scatter",
         "uid": "29c56b4b-e6a8-11e8-8539-9cb6d0e14be4",
         "x": [
          1,
          2,
          3,
          4,
          5,
          6,
          7,
          8,
          9,
          10,
          11,
          12,
          13
         ],
         "y": [
          0,
          0,
          0,
          0,
          0,
          0,
          0,
          0,
          0,
          0,
          0,
          0,
          0
         ]
        },
        {
         "line": {
          "color": "red"
         },
         "name": "Demand",
         "type": "scatter",
         "uid": "29c56b4c-e6a8-11e8-ab2b-9cb6d0e14be4",
         "x": [
          1,
          2,
          3,
          4,
          5,
          6,
          7,
          8,
          9,
          10,
          11,
          12,
          13
         ],
         "y": [
          0.05078125,
          0.04536458333333334,
          0.04182291666666666,
          0.04572916666666666,
          0.06567708333333334,
          0.14328125,
          0.17416666666666666,
          0.17244791666666667,
          0.14604166666666665,
          0.13161458333333334,
          0.125,
          0.11499999999999999,
          0.12083333333333333
         ]
        }
       ],
       "layout": {
        "title": "StFrancisReservoir",
        "xaxis": {
         "title": "Time / Hour"
        },
        "yaxis": {
         "title": "Water Level / ML"
        }
       }
      },
      "text/html": [
       "<div id=\"ac3fcbdd-be12-4160-84ba-227cc8a6aaed\" style=\"height: 525px; width: 100%;\" class=\"plotly-graph-div\"></div><script type=\"text/javascript\">require([\"plotly\"], function(Plotly) { window.PLOTLYENV=window.PLOTLYENV || {};window.PLOTLYENV.BASE_URL=\"https://plot.ly\";Plotly.newPlot(\"ac3fcbdd-be12-4160-84ba-227cc8a6aaed\", [{\"line\": {\"color\": \"cyan\"}, \"name\": \"Transfers In\", \"x\": [1, 2, 3, 4, 5, 6, 7, 8, 9, 10, 11, 12, 13], \"y\": [0.084621528, 0.084621528, 0.084621528, 0.084621528, 0.084621528, 0.084621528, 0.084621528, 0.084621528, 0.084621528, 0.084621528, 0.084621528, 0.084621528, 0.084621528], \"type\": \"scatter\", \"uid\": \"29c9124a-e6a8-11e8-b66f-9cb6d0e14be4\"}, {\"line\": {\"color\": \"green\"}, \"name\": \"Transfers Out\", \"x\": [1, 2, 3, 4, 5, 6, 7, 8, 9, 10, 11, 12, 13], \"y\": [0.0, 0.0, 0.0, 0.0, 0.0, 0.0, 0.0, 0.0, 0.0, 0.0, 0.0, 0.0, 0.0], \"type\": \"scatter\", \"uid\": \"29c9124b-e6a8-11e8-9303-9cb6d0e14be4\"}, {\"line\": {\"color\": \"red\"}, \"name\": \"Demand\", \"x\": [1, 2, 3, 4, 5, 6, 7, 8, 9, 10, 11, 12, 13], \"y\": [0.05078125, 0.04536458333333334, 0.04182291666666666, 0.04572916666666666, 0.06567708333333334, 0.14328125, 0.17416666666666666, 0.17244791666666667, 0.14604166666666665, 0.13161458333333334, 0.125, 0.11499999999999999, 0.12083333333333333], \"type\": \"scatter\", \"uid\": \"29c9124c-e6a8-11e8-a9aa-9cb6d0e14be4\"}], {\"title\": \"StFrancisReservoir\", \"xaxis\": {\"title\": \"Time / Hour\"}, \"yaxis\": {\"title\": \"Water Level / ML\"}}, {\"showLink\": true, \"linkText\": \"Export to plot.ly\"})});</script>"
      ],
      "text/vnd.plotly.v1+html": [
       "<div id=\"ac3fcbdd-be12-4160-84ba-227cc8a6aaed\" style=\"height: 525px; width: 100%;\" class=\"plotly-graph-div\"></div><script type=\"text/javascript\">require([\"plotly\"], function(Plotly) { window.PLOTLYENV=window.PLOTLYENV || {};window.PLOTLYENV.BASE_URL=\"https://plot.ly\";Plotly.newPlot(\"ac3fcbdd-be12-4160-84ba-227cc8a6aaed\", [{\"line\": {\"color\": \"cyan\"}, \"name\": \"Transfers In\", \"x\": [1, 2, 3, 4, 5, 6, 7, 8, 9, 10, 11, 12, 13], \"y\": [0.084621528, 0.084621528, 0.084621528, 0.084621528, 0.084621528, 0.084621528, 0.084621528, 0.084621528, 0.084621528, 0.084621528, 0.084621528, 0.084621528, 0.084621528], \"type\": \"scatter\", \"uid\": \"29c9124a-e6a8-11e8-b66f-9cb6d0e14be4\"}, {\"line\": {\"color\": \"green\"}, \"name\": \"Transfers Out\", \"x\": [1, 2, 3, 4, 5, 6, 7, 8, 9, 10, 11, 12, 13], \"y\": [0.0, 0.0, 0.0, 0.0, 0.0, 0.0, 0.0, 0.0, 0.0, 0.0, 0.0, 0.0, 0.0], \"type\": \"scatter\", \"uid\": \"29c9124b-e6a8-11e8-9303-9cb6d0e14be4\"}, {\"line\": {\"color\": \"red\"}, \"name\": \"Demand\", \"x\": [1, 2, 3, 4, 5, 6, 7, 8, 9, 10, 11, 12, 13], \"y\": [0.05078125, 0.04536458333333334, 0.04182291666666666, 0.04572916666666666, 0.06567708333333334, 0.14328125, 0.17416666666666666, 0.17244791666666667, 0.14604166666666665, 0.13161458333333334, 0.125, 0.11499999999999999, 0.12083333333333333], \"type\": \"scatter\", \"uid\": \"29c9124c-e6a8-11e8-a9aa-9cb6d0e14be4\"}], {\"title\": \"StFrancisReservoir\", \"xaxis\": {\"title\": \"Time / Hour\"}, \"yaxis\": {\"title\": \"Water Level / ML\"}}, {\"showLink\": true, \"linkText\": \"Export to plot.ly\"})});</script>"
      ]
     },
     "metadata": {},
     "output_type": "display_data"
    },
    {
     "data": {
      "application/vnd.plotly.v1+json": {
       "data": [
        {
         "line": {
          "color": "cyan"
         },
         "name": "Transfers In",
         "type": "scatter",
         "uid": "29cf9d68-e6a8-11e8-a4d9-9cb6d0e14be4",
         "x": [
          1,
          2,
          3,
          4,
          5,
          6,
          7,
          8,
          9,
          10,
          11,
          12,
          13
         ],
         "y": [
          0.09,
          0.09,
          0.09,
          0.09,
          0.09,
          0.09,
          0.09,
          0.09,
          0.09,
          0.09,
          0.09,
          0.09,
          0.09
         ]
        },
        {
         "line": {
          "color": "green"
         },
         "name": "Transfers Out",
         "type": "scatter",
         "uid": "29cf9d69-e6a8-11e8-8630-9cb6d0e14be4",
         "x": [
          1,
          2,
          3,
          4,
          5,
          6,
          7,
          8,
          9,
          10,
          11,
          12,
          13
         ],
         "y": [
          0.080552083,
          0.080552083,
          0.080552083,
          0.080552083,
          0.080552083,
          0.088092448,
          0.088092448,
          0.088092448,
          0.088092448,
          0.088092448,
          0.088092448,
          0.088092448,
          0.088092448
         ]
        },
        {
         "line": {
          "color": "red"
         },
         "name": "Demand",
         "type": "scatter",
         "uid": "29cf9d6a-e6a8-11e8-937f-9cb6d0e14be4",
         "x": [
          1,
          2,
          3,
          4,
          5,
          6,
          7,
          8,
          9,
          10,
          11,
          12,
          13
         ],
         "y": [
          0,
          0,
          0,
          0,
          0,
          0,
          0,
          0,
          0,
          0,
          0,
          0,
          0
         ]
        }
       ],
       "layout": {
        "title": "UckfieldReservoir",
        "xaxis": {
         "title": "Time / Hour"
        },
        "yaxis": {
         "title": "Water Level / ML"
        }
       }
      },
      "text/html": [
       "<div id=\"f430f1f3-3975-4ce4-be3d-5254140b4486\" style=\"height: 525px; width: 100%;\" class=\"plotly-graph-div\"></div><script type=\"text/javascript\">require([\"plotly\"], function(Plotly) { window.PLOTLYENV=window.PLOTLYENV || {};window.PLOTLYENV.BASE_URL=\"https://plot.ly\";Plotly.newPlot(\"f430f1f3-3975-4ce4-be3d-5254140b4486\", [{\"line\": {\"color\": \"cyan\"}, \"name\": \"Transfers In\", \"x\": [1, 2, 3, 4, 5, 6, 7, 8, 9, 10, 11, 12, 13], \"y\": [0.09, 0.09, 0.09, 0.09, 0.09, 0.09, 0.09, 0.09, 0.09, 0.09, 0.09, 0.09, 0.09], \"type\": \"scatter\", \"uid\": \"29d39254-e6a8-11e8-96a6-9cb6d0e14be4\"}, {\"line\": {\"color\": \"green\"}, \"name\": \"Transfers Out\", \"x\": [1, 2, 3, 4, 5, 6, 7, 8, 9, 10, 11, 12, 13], \"y\": [0.080552083, 0.080552083, 0.080552083, 0.080552083, 0.080552083, 0.088092448, 0.088092448, 0.088092448, 0.088092448, 0.088092448, 0.088092448, 0.088092448, 0.088092448], \"type\": \"scatter\", \"uid\": \"29d39255-e6a8-11e8-90d6-9cb6d0e14be4\"}, {\"line\": {\"color\": \"red\"}, \"name\": \"Demand\", \"x\": [1, 2, 3, 4, 5, 6, 7, 8, 9, 10, 11, 12, 13], \"y\": [0.0, 0.0, 0.0, 0.0, 0.0, 0.0, 0.0, 0.0, 0.0, 0.0, 0.0, 0.0, 0.0], \"type\": \"scatter\", \"uid\": \"29d39256-e6a8-11e8-b73e-9cb6d0e14be4\"}], {\"title\": \"UckfieldReservoir\", \"xaxis\": {\"title\": \"Time / Hour\"}, \"yaxis\": {\"title\": \"Water Level / ML\"}}, {\"showLink\": true, \"linkText\": \"Export to plot.ly\"})});</script>"
      ],
      "text/vnd.plotly.v1+html": [
       "<div id=\"f430f1f3-3975-4ce4-be3d-5254140b4486\" style=\"height: 525px; width: 100%;\" class=\"plotly-graph-div\"></div><script type=\"text/javascript\">require([\"plotly\"], function(Plotly) { window.PLOTLYENV=window.PLOTLYENV || {};window.PLOTLYENV.BASE_URL=\"https://plot.ly\";Plotly.newPlot(\"f430f1f3-3975-4ce4-be3d-5254140b4486\", [{\"line\": {\"color\": \"cyan\"}, \"name\": \"Transfers In\", \"x\": [1, 2, 3, 4, 5, 6, 7, 8, 9, 10, 11, 12, 13], \"y\": [0.09, 0.09, 0.09, 0.09, 0.09, 0.09, 0.09, 0.09, 0.09, 0.09, 0.09, 0.09, 0.09], \"type\": \"scatter\", \"uid\": \"29d39254-e6a8-11e8-96a6-9cb6d0e14be4\"}, {\"line\": {\"color\": \"green\"}, \"name\": \"Transfers Out\", \"x\": [1, 2, 3, 4, 5, 6, 7, 8, 9, 10, 11, 12, 13], \"y\": [0.080552083, 0.080552083, 0.080552083, 0.080552083, 0.080552083, 0.088092448, 0.088092448, 0.088092448, 0.088092448, 0.088092448, 0.088092448, 0.088092448, 0.088092448], \"type\": \"scatter\", \"uid\": \"29d39255-e6a8-11e8-90d6-9cb6d0e14be4\"}, {\"line\": {\"color\": \"red\"}, \"name\": \"Demand\", \"x\": [1, 2, 3, 4, 5, 6, 7, 8, 9, 10, 11, 12, 13], \"y\": [0.0, 0.0, 0.0, 0.0, 0.0, 0.0, 0.0, 0.0, 0.0, 0.0, 0.0, 0.0, 0.0], \"type\": \"scatter\", \"uid\": \"29d39256-e6a8-11e8-b73e-9cb6d0e14be4\"}], {\"title\": \"UckfieldReservoir\", \"xaxis\": {\"title\": \"Time / Hour\"}, \"yaxis\": {\"title\": \"Water Level / ML\"}}, {\"showLink\": true, \"linkText\": \"Export to plot.ly\"})});</script>"
      ]
     },
     "metadata": {},
     "output_type": "display_data"
    },
    {
     "data": {
      "application/vnd.plotly.v1+json": {
       "data": [
        {
         "line": {
          "color": "cyan"
         },
         "name": "Transfers In",
         "type": "scatter",
         "uid": "29d981be-e6a8-11e8-a199-9cb6d0e14be4",
         "x": [
          1,
          2,
          3,
          4,
          5,
          6,
          7,
          8,
          9,
          10,
          11,
          12,
          13
         ],
         "y": [
          0,
          0,
          0.54,
          0.54,
          0.54,
          0.54,
          0.54,
          0.54,
          0.54,
          0.54,
          0.54,
          0.54,
          0.54
         ]
        },
        {
         "line": {
          "color": "green"
         },
         "name": "Transfers Out",
         "type": "scatter",
         "uid": "29d9a8ac-e6a8-11e8-9599-9cb6d0e14be4",
         "x": [
          1,
          2,
          3,
          4,
          5,
          6,
          7,
          8,
          9,
          10,
          11,
          12,
          13
         ],
         "y": [
          0,
          0,
          0,
          0,
          0,
          0,
          0,
          0,
          0,
          0,
          0,
          0,
          0
         ]
        },
        {
         "line": {
          "color": "red"
         },
         "name": "Demand",
         "type": "scatter",
         "uid": "29d9a8ad-e6a8-11e8-8203-9cb6d0e14be4",
         "x": [
          1,
          2,
          3,
          4,
          5,
          6,
          7,
          8,
          9,
          10,
          11,
          12,
          13
         ],
         "y": [
          0.25796875,
          0.25505208333333335,
          0.2508854166666667,
          0.27276041666666667,
          0.38354166666666667,
          0.5858333333333333,
          0.6483333333333333,
          0.5880729166666666,
          0.5568750000000001,
          0.5169791666666667,
          0.50765625,
          0.48104166666666665,
          0.4753645833333333
         ]
        }
       ],
       "layout": {
        "title": "WychCrossReservoir",
        "xaxis": {
         "title": "Time / Hour"
        },
        "yaxis": {
         "title": "Water Level / ML"
        }
       }
      },
      "text/html": [
       "<div id=\"5abe5cc5-63ef-4648-8b1a-409ce271998d\" style=\"height: 525px; width: 100%;\" class=\"plotly-graph-div\"></div><script type=\"text/javascript\">require([\"plotly\"], function(Plotly) { window.PLOTLYENV=window.PLOTLYENV || {};window.PLOTLYENV.BASE_URL=\"https://plot.ly\";Plotly.newPlot(\"5abe5cc5-63ef-4648-8b1a-409ce271998d\", [{\"line\": {\"color\": \"cyan\"}, \"name\": \"Transfers In\", \"x\": [1, 2, 3, 4, 5, 6, 7, 8, 9, 10, 11, 12, 13], \"y\": [0.0, 0.0, 0.54, 0.54, 0.54, 0.54, 0.54, 0.54, 0.54, 0.54, 0.54, 0.54, 0.54], \"type\": \"scatter\", \"uid\": \"29de605e-e6a8-11e8-b335-9cb6d0e14be4\"}, {\"line\": {\"color\": \"green\"}, \"name\": \"Transfers Out\", \"x\": [1, 2, 3, 4, 5, 6, 7, 8, 9, 10, 11, 12, 13], \"y\": [0.0, 0.0, 0.0, 0.0, 0.0, 0.0, 0.0, 0.0, 0.0, 0.0, 0.0, 0.0, 0.0], \"type\": \"scatter\", \"uid\": \"29de605f-e6a8-11e8-8773-9cb6d0e14be4\"}, {\"line\": {\"color\": \"red\"}, \"name\": \"Demand\", \"x\": [1, 2, 3, 4, 5, 6, 7, 8, 9, 10, 11, 12, 13], \"y\": [0.25796875, 0.25505208333333335, 0.2508854166666667, 0.27276041666666667, 0.38354166666666667, 0.5858333333333333, 0.6483333333333333, 0.5880729166666666, 0.5568750000000001, 0.5169791666666667, 0.50765625, 0.48104166666666665, 0.4753645833333333], \"type\": \"scatter\", \"uid\": \"29de6060-e6a8-11e8-89db-9cb6d0e14be4\"}], {\"title\": \"WychCrossReservoir\", \"xaxis\": {\"title\": \"Time / Hour\"}, \"yaxis\": {\"title\": \"Water Level / ML\"}}, {\"showLink\": true, \"linkText\": \"Export to plot.ly\"})});</script>"
      ],
      "text/vnd.plotly.v1+html": [
       "<div id=\"5abe5cc5-63ef-4648-8b1a-409ce271998d\" style=\"height: 525px; width: 100%;\" class=\"plotly-graph-div\"></div><script type=\"text/javascript\">require([\"plotly\"], function(Plotly) { window.PLOTLYENV=window.PLOTLYENV || {};window.PLOTLYENV.BASE_URL=\"https://plot.ly\";Plotly.newPlot(\"5abe5cc5-63ef-4648-8b1a-409ce271998d\", [{\"line\": {\"color\": \"cyan\"}, \"name\": \"Transfers In\", \"x\": [1, 2, 3, 4, 5, 6, 7, 8, 9, 10, 11, 12, 13], \"y\": [0.0, 0.0, 0.54, 0.54, 0.54, 0.54, 0.54, 0.54, 0.54, 0.54, 0.54, 0.54, 0.54], \"type\": \"scatter\", \"uid\": \"29de605e-e6a8-11e8-b335-9cb6d0e14be4\"}, {\"line\": {\"color\": \"green\"}, \"name\": \"Transfers Out\", \"x\": [1, 2, 3, 4, 5, 6, 7, 8, 9, 10, 11, 12, 13], \"y\": [0.0, 0.0, 0.0, 0.0, 0.0, 0.0, 0.0, 0.0, 0.0, 0.0, 0.0, 0.0, 0.0], \"type\": \"scatter\", \"uid\": \"29de605f-e6a8-11e8-8773-9cb6d0e14be4\"}, {\"line\": {\"color\": \"red\"}, \"name\": \"Demand\", \"x\": [1, 2, 3, 4, 5, 6, 7, 8, 9, 10, 11, 12, 13], \"y\": [0.25796875, 0.25505208333333335, 0.2508854166666667, 0.27276041666666667, 0.38354166666666667, 0.5858333333333333, 0.6483333333333333, 0.5880729166666666, 0.5568750000000001, 0.5169791666666667, 0.50765625, 0.48104166666666665, 0.4753645833333333], \"type\": \"scatter\", \"uid\": \"29de6060-e6a8-11e8-89db-9cb6d0e14be4\"}], {\"title\": \"WychCrossReservoir\", \"xaxis\": {\"title\": \"Time / Hour\"}, \"yaxis\": {\"title\": \"Water Level / ML\"}}, {\"showLink\": true, \"linkText\": \"Export to plot.ly\"})});</script>"
      ]
     },
     "metadata": {},
     "output_type": "display_data"
    }
   ],
   "source": [
    "def transfer_plot(timeperiods, in_transfer, out_transfer, demand, SR):\n",
    "    #plot transfers IN\n",
    "    trace1 = go.Scatter(\n",
    "        x = timeperiods.tolist(),\n",
    "        name = 'Transfers In',\n",
    "        y = in_transfer.loc[SR,:].tolist(),\n",
    "        line = dict(\n",
    "            color = 'cyan')\n",
    "            # width = 4,\n",
    "    )\n",
    "    #plot transfers OUT\n",
    "    trace2 = go.Scatter(\n",
    "        x = timeperiods.tolist(),\n",
    "        y = out_transfer.loc[SR,:].tolist(),\n",
    "        name = 'Transfers Out',\n",
    "        line = dict(\n",
    "            color = 'green')\n",
    "    )\n",
    "    #plot demand\n",
    "    trace3 = go.Scatter(\n",
    "        x=timeperiods.tolist(),\n",
    "        y=demand.loc[SR,:].tolist(),\n",
    "        name='Demand',\n",
    "        line = dict(\n",
    "            color = 'red')\n",
    "    )\n",
    "    return [trace1, trace2, trace3]\n",
    "\n",
    "for sr in reservoirs:\n",
    "    data = transfer_plot(time_list, transfers_in_df, transfers_out_df, demand_df, sr)   \n",
    "    layout = dict(title = sr,\n",
    "              xaxis = dict(title = 'Time / Hour'),\n",
    "              yaxis = dict(title = 'Water Level / ML'),\n",
    "              )\n",
    "\n",
    "    # x = list()\n",
    "    # for i, source_name in enumerate(water_levels.columns):\n",
    "    #     fig.append_trace(data.get(source_name), i+1, 1)\n",
    "\n",
    "    # fig['layout'].update(height=1200, width=600, title='Stacked subplots')\n",
    "    fig = dict(data=data, layout=layout)\n",
    "    py.iplot(fig, filename='transfer_demand')\n"
   ]
  },
  {
   "cell_type": "code",
   "execution_count": null,
   "metadata": {},
   "outputs": [],
   "source": []
  },
  {
   "cell_type": "code",
   "execution_count": null,
   "metadata": {},
   "outputs": [],
   "source": []
  },
  {
   "cell_type": "code",
   "execution_count": null,
   "metadata": {},
   "outputs": [],
   "source": []
  },
  {
   "cell_type": "code",
   "execution_count": null,
   "metadata": {},
   "outputs": [],
   "source": []
  },
  {
   "cell_type": "code",
   "execution_count": null,
   "metadata": {},
   "outputs": [],
   "source": []
  },
  {
   "cell_type": "code",
   "execution_count": null,
   "metadata": {},
   "outputs": [],
   "source": []
  },
  {
   "cell_type": "code",
   "execution_count": null,
   "metadata": {},
   "outputs": [],
   "source": []
  },
  {
   "cell_type": "code",
   "execution_count": null,
   "metadata": {},
   "outputs": [],
   "source": []
  },
  {
   "cell_type": "code",
   "execution_count": null,
   "metadata": {},
   "outputs": [],
   "source": []
  },
  {
   "cell_type": "code",
   "execution_count": null,
   "metadata": {},
   "outputs": [],
   "source": []
  },
  {
   "cell_type": "code",
   "execution_count": null,
   "metadata": {},
   "outputs": [],
   "source": []
  },
  {
   "cell_type": "code",
   "execution_count": null,
   "metadata": {},
   "outputs": [],
   "source": []
  },
  {
   "cell_type": "code",
   "execution_count": null,
   "metadata": {},
   "outputs": [],
   "source": []
  },
  {
   "cell_type": "code",
   "execution_count": null,
   "metadata": {},
   "outputs": [],
   "source": []
  },
  {
   "cell_type": "code",
   "execution_count": null,
   "metadata": {},
   "outputs": [],
   "source": []
  },
  {
   "cell_type": "code",
   "execution_count": null,
   "metadata": {},
   "outputs": [],
   "source": []
  },
  {
   "cell_type": "code",
   "execution_count": null,
   "metadata": {},
   "outputs": [],
   "source": []
  },
  {
   "cell_type": "code",
   "execution_count": null,
   "metadata": {},
   "outputs": [],
   "source": []
  },
  {
   "cell_type": "code",
   "execution_count": null,
   "metadata": {},
   "outputs": [],
   "source": []
  },
  {
   "cell_type": "code",
   "execution_count": null,
   "metadata": {},
   "outputs": [],
   "source": []
  },
  {
   "cell_type": "code",
   "execution_count": null,
   "metadata": {},
   "outputs": [],
   "source": []
  },
  {
   "cell_type": "code",
   "execution_count": null,
   "metadata": {},
   "outputs": [],
   "source": []
  },
  {
   "cell_type": "code",
   "execution_count": null,
   "metadata": {},
   "outputs": [],
   "source": []
  },
  {
   "cell_type": "code",
   "execution_count": null,
   "metadata": {},
   "outputs": [],
   "source": []
  }
 ],
 "metadata": {
  "kernelspec": {
   "display_name": "Python 3",
   "language": "python",
   "name": "python3"
  },
  "language_info": {
   "codemirror_mode": {
    "name": "ipython",
    "version": 3
   },
   "file_extension": ".py",
   "mimetype": "text/x-python",
   "name": "python",
   "nbconvert_exporter": "python",
   "pygments_lexer": "ipython3",
   "version": "3.6.5"
  }
 },
 "nbformat": 4,
 "nbformat_minor": 2
}
